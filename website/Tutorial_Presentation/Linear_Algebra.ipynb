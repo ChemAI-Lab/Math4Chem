{
  "cells": [
    {
      "cell_type": "markdown",
      "metadata": {
        "id": "knKgeQ0NwFQJ"
      },
      "source": [
        "Intro to Linear Algebra and reviews. Remember: Code indexing on Python is really important."
      ]
    },
    {
      "cell_type": "code",
      "execution_count": null,
      "metadata": {
        "id": "BXWxufl2wFQK"
      },
      "outputs": [],
      "source": [
        "def loop(x):\n",
        "  a = 5 #Check if the expression is inside the loop function you defined.\n",
        "  for i in range(100):\n",
        "    print(i)"
      ]
    },
    {
      "cell_type": "code",
      "execution_count": null,
      "metadata": {
        "id": "PEAnVpF-wFQL"
      },
      "outputs": [],
      "source": [
        "loop(5)"
      ]
    },
    {
      "cell_type": "markdown",
      "metadata": {
        "id": "SwT3MxczwFQL"
      },
      "source": [
        "Another example, you are defining variables, so make sure they are inside of the function you define."
      ]
    },
    {
      "cell_type": "code",
      "execution_count": null,
      "metadata": {
        "id": "n3K296uCwFQM"
      },
      "outputs": [],
      "source": [
        "def sum(x,y):\n",
        "  a = x\n",
        "  b = y\n",
        "  c = a + b\n",
        "  return c"
      ]
    },
    {
      "cell_type": "markdown",
      "metadata": {
        "id": "PoeGnPS0wFQM"
      },
      "source": [
        "Look for errors or red underlines on your variables. For example,"
      ]
    },
    {
      "cell_type": "code",
      "execution_count": null,
      "metadata": {
        "id": "3tEEwScJwFQM",
        "outputId": "4988e384-4195-4412-b52f-4ed4e42c4b06"
      },
      "outputs": [
        {
          "ename": "IndentationError",
          "evalue": "unindent does not match any outer indentation level (<tokenize>, line 4)",
          "output_type": "error",
          "traceback": [
            "\u001b[0;36m  File \u001b[0;32m<tokenize>:4\u001b[0;36m\u001b[0m\n\u001b[0;31m    c = a + b\u001b[0m\n\u001b[0m    ^\u001b[0m\n\u001b[0;31mIndentationError\u001b[0m\u001b[0;31m:\u001b[0m unindent does not match any outer indentation level\n"
          ]
        }
      ],
      "source": [
        "def sum(x,y):\n",
        "a = x\n",
        "                b = y\n",
        "  c = a + b\n",
        "return c #See how the indentation is wrong here and try to fix it."
      ]
    },
    {
      "cell_type": "markdown",
      "metadata": {
        "id": "GtbfJbg5wFQM"
      },
      "source": [
        "Python uses 0-based indexing, where the first element in a list, tuple, or string is accessed using index 0. Negative indexing allows you to access elements from the end of the sequence, and slicing lets you extract sub-sections of the sequence."
      ]
    },
    {
      "cell_type": "code",
      "execution_count": null,
      "metadata": {
        "id": "UIfTEZVOwFQN",
        "outputId": "55f4fcea-5654-4ab0-fb57-bbb8aba9861c"
      },
      "outputs": [
        {
          "name": "stdout",
          "output_type": "stream",
          "text": [
            "50\n"
          ]
        }
      ],
      "source": [
        "my_list = [0.5,10, 20, 30, 40, 50]\n",
        "# print(my_list[0])\n",
        "print(my_list[-1])"
      ]
    },
    {
      "cell_type": "markdown",
      "metadata": {
        "id": "ZTecWNQbwFQO"
      },
      "source": [
        "Try to print different values of your list according to the index position. What happens if you pass a non-integer as index? Do you know why that happens?"
      ]
    },
    {
      "cell_type": "markdown",
      "metadata": {
        "id": "U-00DF6lwFQO"
      },
      "source": [
        "# Linear Algebra"
      ]
    },
    {
      "cell_type": "markdown",
      "metadata": {
        "id": "iIedbt7KwFQO"
      },
      "source": [
        "The L1 norm is the sum of the absolute values of the entries in the vector. Create a python function without using numpy to calculate the L1 norm of a given vector."
      ]
    },
    {
      "cell_type": "markdown",
      "metadata": {
        "id": "8sMuqIaDwFQO"
      },
      "source": [
        "Try to break the problem in small parts. You don't need to start by already defining a function. In this case you want to take the absolute values of a determined vector, so you can start with:"
      ]
    },
    {
      "cell_type": "code",
      "execution_count": null,
      "metadata": {
        "id": "rZc6exW1wFQO",
        "outputId": "43ddd1d0-737d-4e1d-c6b2-e04086e2a5df"
      },
      "outputs": [
        {
          "name": "stdout",
          "output_type": "stream",
          "text": [
            "3\n"
          ]
        }
      ],
      "source": [
        "v = [-3,4,10]\n",
        "abs_v = abs(v[0])\n",
        "print(abs_v)"
      ]
    },
    {
      "cell_type": "markdown",
      "metadata": {
        "id": "JZHiZ5zKwFQO"
      },
      "source": [
        "You have a vector and know how to take the absolute value of one element of the vector. Now you need to loop over all the elements. To do so, you can see:"
      ]
    },
    {
      "cell_type": "code",
      "execution_count": null,
      "metadata": {
        "id": "TejPCJ9uwFQP",
        "outputId": "8bbfcbad-9f79-4536-d2ac-ec7a7dec9a7f"
      },
      "outputs": [
        {
          "name": "stdout",
          "output_type": "stream",
          "text": [
            "-3\n",
            "4\n",
            "10\n"
          ]
        }
      ],
      "source": [
        "for i in v:\n",
        "    print(i)"
      ]
    },
    {
      "cell_type": "markdown",
      "metadata": {
        "id": "LXNu4OTUwFQP"
      },
      "source": [
        "See how this loop already give you the all the elements you need. You can also build like:"
      ]
    },
    {
      "cell_type": "code",
      "execution_count": null,
      "metadata": {
        "id": "Rmz5nnK9wFQP",
        "outputId": "8ca708bb-c67c-48a1-dbad-ef9f969ef64a"
      },
      "outputs": [
        {
          "name": "stdout",
          "output_type": "stream",
          "text": [
            "-3\n",
            "4\n",
            "10\n"
          ]
        }
      ],
      "source": [
        "for i in range(len(v)):\n",
        "    print(v[i])"
      ]
    },
    {
      "cell_type": "markdown",
      "metadata": {
        "id": "MiyYc65ywFQP"
      },
      "source": [
        "The way you build can make your life easy. Now you can take the absolute value of all the elements in a vector and then sum it to get the L1 norm."
      ]
    },
    {
      "cell_type": "code",
      "execution_count": null,
      "metadata": {
        "id": "nHTF4_vawFQP",
        "outputId": "5f064e8d-a400-45eb-911f-db49eee7dd5c"
      },
      "outputs": [
        {
          "name": "stdout",
          "output_type": "stream",
          "text": [
            "17\n"
          ]
        }
      ],
      "source": [
        "norm = 0 #Initalize your norm variable before the loop\n",
        "for elements in v:\n",
        "  abs_value = abs(elements)\n",
        "  norm += abs_value\n",
        "print(norm)"
      ]
    },
    {
      "cell_type": "markdown",
      "metadata": {
        "id": "U9-EyH54wFQP"
      },
      "source": [
        "This is a simple example and you can test the result by calculating by hand. Now you solved your problem, the next step is to define a function for it:"
      ]
    },
    {
      "cell_type": "code",
      "execution_count": null,
      "metadata": {
        "id": "Yvxz1RvewFQP"
      },
      "outputs": [],
      "source": [
        "def L1_norm(vector):\n",
        "  norm = 0\n",
        "  for elements in v:\n",
        "    abs_value = abs(elements)\n",
        "    norm += abs_value\n",
        "  return norm"
      ]
    },
    {
      "cell_type": "code",
      "execution_count": null,
      "metadata": {
        "id": "11BGVx7OwFQQ",
        "outputId": "ee2f7fa7-3fb8-4b2c-f32e-3a086bbbf850"
      },
      "outputs": [
        {
          "data": {
            "text/plain": [
              "17"
            ]
          },
          "execution_count": 17,
          "metadata": {},
          "output_type": "execute_result"
        }
      ],
      "source": [
        "L1_norm(v)"
      ]
    },
    {
      "cell_type": "markdown",
      "metadata": {
        "id": "mV8B0BaqwFQQ"
      },
      "source": [
        "You can use numpy. Try and see if you can get the same result using numpy."
      ]
    },
    {
      "cell_type": "code",
      "execution_count": null,
      "metadata": {
        "id": "ssiW4UauwFQQ",
        "outputId": "c5b5aa7f-6339-4023-b13d-1a0469a97e56"
      },
      "outputs": [
        {
          "name": "stdout",
          "output_type": "stream",
          "text": [
            "Requirement already satisfied: numpy in /Users/alexandre/.pyenv/versions/3.10.10/lib/python3.10/site-packages (2.1.2)\n",
            "\n",
            "\u001b[1m[\u001b[0m\u001b[34;49mnotice\u001b[0m\u001b[1;39;49m]\u001b[0m\u001b[39;49m A new release of pip available: \u001b[0m\u001b[31;49m22.3.1\u001b[0m\u001b[39;49m -> \u001b[0m\u001b[32;49m24.2\u001b[0m\n",
            "\u001b[1m[\u001b[0m\u001b[34;49mnotice\u001b[0m\u001b[1;39;49m]\u001b[0m\u001b[39;49m To update, run: \u001b[0m\u001b[32;49mpip install --upgrade pip\u001b[0m\n"
          ]
        }
      ],
      "source": [
        "!pip install numpy"
      ]
    },
    {
      "cell_type": "code",
      "execution_count": null,
      "metadata": {
        "id": "ydMqUYOPwFQQ"
      },
      "outputs": [],
      "source": [
        "import numpy as np\n",
        "v = np.array([-3,4,10])\n",
        "#np.linalg.norm()"
      ]
    },
    {
      "cell_type": "markdown",
      "source": [
        "Given matrices:\n",
        "\n",
        "A = \\begin{pmatrix} 2 & 1 & 3 \\\\ 4 & 2 & 7 \\\\ 1 & 3 & 5 \\end{pmatrix}\n",
        "\n",
        "\n",
        "B = \\begin{pmatrix} 2 & 1 & 3 \\\\ 1 & 3 & 5 \\\\ 4 & 2 & 7 \\end{pmatrix}\n",
        "\n",
        "\n",
        "Find the elementary matrix \\( E \\) such that \\( EA = B \\)."
      ],
      "metadata": {
        "id": "ceZPmZvTwbEN"
      }
    },
    {
      "cell_type": "code",
      "source": [
        "from re import A\n",
        "import numpy as np\n",
        "\n",
        "\n",
        "A = np.array([[2,1,3],\n",
        "             [4,2,7],\n",
        "             [1,3,5]])\n",
        "\n",
        "B = np.array([[2,1,3],\n",
        "             [1,3,5],\n",
        "             [4,2,7]])\n"
      ],
      "metadata": {
        "id": "aJZM7lfIwcf1"
      },
      "execution_count": 18,
      "outputs": []
    },
    {
      "cell_type": "markdown",
      "source": [
        "Given C = \\begin{pmatrix} 0 & 1 & 3 \\\\ 0 & 2 & 7 \\\\ -5 & 3 & 5 \\end{pmatrix}\n",
        "\n",
        "Find F such that AF = C."
      ],
      "metadata": {
        "id": "YDsG7qri1sVI"
      }
    },
    {
      "cell_type": "code",
      "source": [
        "import numpy as np\n",
        "\n",
        "A = np.array([[2,1,3],\n",
        "             [4,2,7],\n",
        "             [1,3,5]])\n",
        "\n",
        "C = np.array([[0,1,3],\n",
        "             [0,2,7],\n",
        "             [-5,3,5]])"
      ],
      "metadata": {
        "id": "BYEStNZC1vGr"
      },
      "execution_count": 19,
      "outputs": []
    },
    {
      "cell_type": "markdown",
      "source": [
        "Working with activation functions."
      ],
      "metadata": {
        "id": "Jem3gBci19X6"
      }
    },
    {
      "cell_type": "code",
      "source": [
        "# import libraries\n",
        "import torch\n",
        "import matplotlib.pyplot as plt\n",
        "plt.rcParams.update({'font.size':18})"
      ],
      "metadata": {
        "id": "Gn3Bt2Hp1-I7"
      },
      "execution_count": 20,
      "outputs": []
    },
    {
      "cell_type": "code",
      "source": [
        "# variable to evaluate over\n",
        "x = torch.linspace(-3, 3, 101)\n",
        "# Create a tensor 'x' that represents a range of values from -3 to 3, including 101 evenly spaced points.\n",
        "\n",
        "# create a function that returns the activated output\n",
        "def NNoutputx(actfun):\n",
        "  # Define a function 'NNoutputx' that returns the activated output of a neural network given an activation function.\n",
        "\n",
        "  # get activation function type\n",
        "  # this code replaces torch.relu with torch.<actfun>\n",
        "  actfun = getattr(torch, actfun)\n",
        "  # Use the 'getattr' function to dynamically select an activation function based on the input 'actfun'.\n",
        "  # For example, if 'actfun' is 'relu', this line would set 'actfun' to the PyTorch ReLU function.\n",
        "\n",
        "  return actfun(x)\n",
        "  # Apply the selected activation function to the tensor 'x' and return the result.\n"
      ],
      "metadata": {
        "id": "vWMk1NQ02CGn"
      },
      "execution_count": 21,
      "outputs": []
    },
    {
      "cell_type": "code",
      "source": [
        "# the activation functions\n",
        "activation_funs = ['relu', 'sigmoid', 'tanh']\n",
        "# Create a list of activation function names to visualize: ReLU, sigmoid, and hyperbolic tangent (tanh).\n",
        "\n",
        "fig = plt.figure(figsize=(10, 8))\n",
        "# Create a new figure for plotting with a specified figure size.\n",
        "\n",
        "for actfun in activation_funs:\n",
        "  plt.plot(x, NNoutputx(actfun), label=actfun, linewidth=3)\n",
        "  # For each activation function in the list:\n",
        "  # - Plot the activated output using the 'NNoutputx' function for the specified activation function.\n",
        "  # - Label the plot with the activation function name ('actfun') and set the line width.\n",
        "\n",
        "# add reference lines\n",
        "dashlinecol = [.7, .7, .7]\n",
        "plt.plot(x[[0, -1]], [0, 0], '--', color=dashlinecol)\n",
        "plt.plot(x[[0, -1]], [1, 1], '--', color=dashlinecol)\n",
        "plt.plot([0, 0], [-1, 3], '--', color=dashlinecol)\n",
        "# Add dashed reference lines to the plot for better visualization.\n",
        "\n",
        "# make the plot look nicer\n",
        "plt.legend()\n",
        "# Add a legend to the plot to indicate which line corresponds to each activation function.\n",
        "plt.xlabel('x')\n",
        "# Set the x-axis label to 'x'.\n",
        "plt.ylabel('$\\sigma(x)$')\n",
        "# Set the y-axis label to '$\\sigma(x)$' (used for symbolic representation of activation functions).\n",
        "plt.title('Various activation functions')\n",
        "# Set the plot title to 'Various activation functions'.\n",
        "plt.xlim(x[[0, -1]])\n",
        "# Set the x-axis limits based on the minimum and maximum values in 'x'.\n",
        "plt.ylim([-1, 3])\n",
        "# Set the y-axis limits to [-1, 3] for better visualization.\n",
        "plt.show()\n",
        "# Display the plot.\n"
      ],
      "metadata": {
        "id": "S6C4eaPn2DzZ",
        "outputId": "9e37f0d5-c8dc-48d2-fb97-12aec9799503",
        "colab": {
          "base_uri": "https://localhost:8080/",
          "height": 747
        }
      },
      "execution_count": 22,
      "outputs": [
        {
          "output_type": "display_data",
          "data": {
            "text/plain": [
              "<Figure size 1000x800 with 1 Axes>"
            ],
            "image/png": "[encoded data removed]"
          },
          "metadata": {}
        }
      ]
    },
    {
      "cell_type": "code",
      "source": [
        "# List of activation functions in PyTorch:\n",
        "#  https://pytorch.org/docs/stable/nn.html#non-linear-activations-weighted-sum-nonlinearity"
      ],
      "metadata": {
        "id": "z8y4pq482Pg1"
      },
      "execution_count": null,
      "outputs": []
    },
    {
      "cell_type": "markdown",
      "source": [
        "**Exercises**"
      ],
      "metadata": {
        "id": "B3teB0NQ2ZKf"
      }
    },
    {
      "cell_type": "markdown",
      "source": [
        "1) Set x2=x1**2 and run the code. Then set one of the weights to be negative. Then set the negative weight to be close to zero (e.g., -.01) with the positive weight relatively large (e.g., .8). Then swap the signs.\n",
        "\n",
        "2) Set x2=x1**2, and set the weights to be .4 and .6. Now set w2=.6 (you might want to zoom in on the y-axis).\n",
        "\n",
        "3) Set x2 to be the absolute value of x1 and both weights positive. Then set w2=-.6. Why does w2<0 have such a big impact?"
      ],
      "metadata": {
        "id": "j43SV2Yj2ho1"
      }
    },
    {
      "cell_type": "code",
      "source": [
        "# create input vectors\n",
        "x1 = torch.linspace(-1,1,20)\n",
        "# x2 = 2*x1\n",
        "# x2=x1**2\n",
        "x2 = torch.abs(x1)\n",
        "# print(x1)\n",
        "# print(x2)\n",
        "# assert 0\n",
        "# create the weights\n",
        "w1 = 0.4\n",
        "w2 = -0.6\n",
        "# and corresponding weights\n",
        "# w1 = -.01\n",
        "# w2 = .8\n",
        "\n",
        "# w1 = -0.5\n",
        "# w2 = 0.5\n",
        "\n",
        "# w1 = .01\n",
        "# w2 = -.8\n",
        "\n",
        "# their linear combination\n",
        "linpart = x1*w1 + x2*w2\n",
        "\n",
        "# and the nonlinear output\n",
        "y = torch.relu(linpart)\n",
        "\n",
        "# and plot!\n",
        "plt.plot(x1,linpart,'bo-',label='Linear input')\n",
        "plt.plot(x1,y,'rs',label='Nonlinear output')\n",
        "plt.ylabel('$\\\\hat{y}$ (output of activation function)')\n",
        "plt.xlabel('x1 variable')\n",
        "# plt.ylim([-.1,.1]) # optional -- uncomment and modify to zoom in\n",
        "plt.legend()\n",
        "plt.show()"
      ],
      "metadata": {
        "id": "F27wavnr2cWn"
      },
      "execution_count": null,
      "outputs": []
    }
  ],
  "metadata": {
    "kernelspec": {
      "display_name": "Python 3",
      "language": "python",
      "name": "python3"
    },
    "language_info": {
      "codemirror_mode": {
        "name": "ipython",
        "version": 3
      },
      "file_extension": ".py",
      "mimetype": "text/x-python",
      "name": "python",
      "nbconvert_exporter": "python",
      "pygments_lexer": "ipython3",
      "version": "3.10.10"
    },
    "colab": {
      "provenance": []
    }
  },
  "nbformat": 4,
  "nbformat_minor": 0
}