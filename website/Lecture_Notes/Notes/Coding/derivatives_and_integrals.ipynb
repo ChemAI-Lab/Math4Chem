{
 "cells": [
  {
   "cell_type": "markdown",
   "metadata": {},
   "source": [
    "# Introduction to Derivatives and Integrals \n",
    "### (a numerical approach) ###\n",
    "\n",
    "<a target=\"_blank\" href=\"https://colab.research.google.com/github/ChemAI-Lab/Math4Chem/blob/main/website/Lecture_Notes/Notes/Coding/derivatives_and_integrals.ipynb\">\n",
    "  <img src=\"https://colab.research.google.com/assets/colab-badge.svg\" alt=\"Open In Colab\"/>\n",
    "</a>"
   ]
  },
  {
   "cell_type": "markdown",
   "metadata": {},
   "source": [
    "Let's load the basic libraries that we will use."
   ]
  },
  {
   "cell_type": "code",
   "execution_count": 1,
   "metadata": {},
   "outputs": [],
   "source": [
    "# import numpy and matplotlib and pyplot\n",
    "# code here! \n",
    "import numpy as np\n",
    "import matplotlib\n",
    "import matplotlib.pyplot as plt"
   ]
  },
  {
   "cell_type": "markdown",
   "metadata": {},
   "source": [
    "1. **Numpy** ([paper](https://www.nature.com/articles/s41586-020-2649-2.pdf))is by far one of the most amazing tools in scientific computations. Numpy is the foundation for many Python libraries. \n",
    "2. **Matplotlib** ([paper](https://ieeexplore.ieee.org/document/4160265)) is used extensively for plotting. [Tutorials](https://matplotlib.org/stable/tutorials/index.html)"
   ]
  },
  {
   "cell_type": "markdown",
   "metadata": {},
   "source": [
    "## Derivatives ##\n",
    "\n",
    "Last week we cover in class the definition of the derivative of a function,\n",
    "\n",
    "$$\n",
    "f'(x) = \\frac{d f(x)}{dx} = \\frac{d y}{dx} = \\displaystyle \\lim_{\\Delta x \\to 0} \\frac{f(x + \\Delta x) - f(x)}{\\Delta x}\n",
    "$$\n"
   ]
  },
  {
   "cell_type": "markdown",
   "metadata": {},
   "source": [
    "1.  Define a function in Python,\n",
    "$$\n",
    "f(x) = 10 + \\left(\\frac{x}{10}\\right)^3e^{(\\frac{x}{10})^2}\n",
    "$$"
   ]
  },
  {
   "cell_type": "code",
   "execution_count": 4,
   "metadata": {},
   "outputs": [],
   "source": [
    "# in Python.\n",
    "def f(x):\n",
    "    #code here\n",
    "    a = x/10\n",
    "    a_sqr = np.power(a,2)\n",
    "    a_three = np.power(a,3)\n",
    "    a_exp = np.exp(a_sqr)\n",
    "    y = 10 + a_three*a_exp\n",
    "    return y"
   ]
  },
  {
   "cell_type": "markdown",
   "metadata": {},
   "source": [
    "2. Plot the function using Matplotlib"
   ]
  },
  {
   "cell_type": "code",
   "execution_count": 29,
   "metadata": {},
   "outputs": [
    {
     "name": "stdout",
     "output_type": "stream",
     "text": [
      "what is x?:  <class 'numpy.ndarray'>\n",
      "what is f?:  <class 'function'>\n",
      "what is y?:  <class 'numpy.ndarray'>\n"
     ]
    }
   ],
   "source": [
    "# https://numpy.org/doc/stable/reference/generated/numpy.linspace.html\n",
    "x_grid = np.linspace(-10, 10, 25)\n",
    "# x_grid = np.array([-1,0,1])\n",
    "\n",
    "# evaluate our function\n",
    "y = f(x_grid)\n",
    "\n",
    "print('what is x?: ', type(x_grid))\n",
    "print('what is f?: ', type(f))\n",
    "print('what is y?: ', type(y))"
   ]
  },
  {
   "cell_type": "code",
   "execution_count": 30,
   "metadata": {},
   "outputs": [
    {
     "data": {
      "text/plain": [
       "Text(0.5, 0, 'x')"
      ]
     },
     "execution_count": 30,
     "metadata": {},
     "output_type": "execute_result"
    },
    {
     "data": {
      "image/png": "[encoded data removed]",
      "text/plain": [
       "<Figure size 640x480 with 1 Axes>"
      ]
     },
     "metadata": {},
     "output_type": "display_data"
    }
   ],
   "source": [
    "# let's plot the function f(x)\n",
    "# exercise\n",
    "# what is the difference between plt.plot(x,y) and plt.scatter(x,y)\n",
    "\n",
    "plt.plot(x_grid,y,color='red')\n",
    "plt.scatter(x_grid,y)\n",
    "plt.ylabel('y',fontsize=20)\n",
    "plt.xlabel('x', fontsize=20)"
   ]
  },
  {
   "cell_type": "markdown",
   "metadata": {},
   "source": [
    "Instead of using the general definition of \"derivative\", let's use the **two-point formula**  to compute the derivative of a function, \n",
    "$$\n",
    "\\frac{d f(x)}{dx} \\approx \\frac{f(x + h) - f(x - h)}{2h}\n",
    "$$"
   ]
  },
  {
   "cell_type": "code",
   "execution_count": 33,
   "metadata": {},
   "outputs": [
    {
     "name": "stdout",
     "output_type": "stream",
     "text": [
      "x (25,)\n",
      "df/dx (25,)\n"
     ]
    }
   ],
   "source": [
    "def df_dx(x,h):\n",
    "    # code here, you can use f(x+h) and f(x-h)\n",
    "    dy1 = f(x+h)\n",
    "    dy2 = f(x-h)\n",
    "    dy = (dy1-dy2)/(2*h)\n",
    "    return dy \n",
    "\n",
    "h = 0.1\n",
    "dy_values = df_dx(x_grid,h)\n",
    "print('x', x_grid.shape)\n",
    "print('df/dx', dy_values.shape)"
   ]
  },
  {
   "cell_type": "markdown",
   "metadata": {},
   "source": [
    "What is the derivative of $f(x)$?\n",
    "$$ \n",
    "\\frac{d f(x)}{dx} = \\frac{d f(x)}{dx} \\left ( 10 + \\left(\\frac{x}{10}\\right)^3e^{(\\frac{x}{10})^2} \\right )\n",
    "$$\n",
    "$$\n",
    "\\frac{d f(x)}{dx} = \\left (\\frac{3x^2}{1000} + \\frac{x^4}{5000} \\right )e^{(\\frac{x}{10})^2}\n",
    "$$\n",
    "\n"
   ]
  },
  {
   "cell_type": "markdown",
   "metadata": {},
   "source": [
    "Using python define a function that represent the **true** derivative of $f(x)$. <br>\n",
    "For this we may need these extra operations in Python,\n",
    "1. power function:  <br> `x**2` or `np.power(x,2)`\n",
    "2. exponential function: <br> `np.exp(x)`"
   ]
  },
  {
   "cell_type": "code",
   "execution_count": 106,
   "metadata": {},
   "outputs": [],
   "source": [
    "def df_dx_true(x):\n",
    "    # code here\n",
    "    return dy"
   ]
  },
  {
   "cell_type": "markdown",
   "metadata": {},
   "source": [
    "'''\n",
    "# def df_dx_true(x):\n",
    "#     x2 = np.power(x, 2)\n",
    "#     x4 = np.power(x, 4)\n",
    "#     print(type(x))\n",
    "#     e = np.exp(x2/100)\n",
    "#     y = 3*x2/(10**3) + x4/50000\n",
    "#     y = y*e\n",
    "#     return y\n",
    "'''"
   ]
  },
  {
   "cell_type": "markdown",
   "metadata": {},
   "source": [
    "3. Let's compare the true derivative vs the numerically one using the two-point formula.<br>\n",
    "   Use a ```h = 0.1``` for the two-point formula."
   ]
  },
  {
   "cell_type": "code",
   "execution_count": null,
   "metadata": {},
   "outputs": [],
   "source": [
    "x = np.linspace(-10,10,200)\n",
    "h = 2. \n",
    "\n",
    "# evaluate both methods\n",
    "df_num = df_dx(x,h) # two-point differentiation\n",
    "df_true = df_dx_true(x) # exact derivative\n",
    "\n",
    "plt.scatter(x,df_num, s=10, label = 'two-point')\n",
    "plt.scatter(x, df_true, s=10, label='exact')\n",
    "plt.legend()\n",
    "\n",
    "\n",
    "plt.ylabel(r'$\\frac{df(x)}{dx}$', fontsize=20)\n",
    "plt.xlabel('x', fontsize=20)"
   ]
  },
  {
   "cell_type": "markdown",
   "metadata": {},
   "source": [
    "$\\bullet$ What is the error in the numerical derivatives? \n",
    "$$\n",
    "RMSE = \\sum_i^N (y_i - \\hat{y}_i)^2,\n",
    "$$\n",
    "where $\\hat{y}_i$ is the true value"
   ]
  },
  {
   "cell_type": "code",
   "execution_count": null,
   "metadata": {},
   "outputs": [],
   "source": [
    "# compute the error between both methods\n",
    "error = \n",
    "\n",
    "# figure\n",
    "plt.scatter(x, error, s=10)\n",
    "plt.ylabel(r'$\\Delta\\epsilon$', fontsize=20)\n",
    "plt.xlabel('x', fontsize=20)"
   ]
  },
  {
   "cell_type": "markdown",
   "metadata": {},
   "source": [
    "**Extra exercises** <br>\n",
    "Try plotting the error for other values of h to see what will be the value to get a good approximation of derivative. "
   ]
  },
  {
   "cell_type": "markdown",
   "metadata": {},
   "source": [
    "## Integration ##\n",
    "In this part of the tutorial, we will cover numerical integration. \n",
    "$$\n",
    "\\int_a^b f(x)dx = \\displaystyle \\lim_{h \\to 0}  \\sum_i^N f(\\varepsilon_i) h\n",
    "$$\n",
    "where ```h``` is the width of the *\"rectangle\"*.\n"
   ]
  },
  {
   "cell_type": "markdown",
   "metadata": {},
   "source": [
    "The goal of this tutorial is to compute the integral of the function,\n",
    "$$\n",
    "f(x) = 10 + \\left(\\frac{x}{10}\\right)^3e^{(\\frac{x}{10})^2}\n",
    "$$\n",
    "in the interval -10 to 10. \n",
    "\n",
    "$$\n",
    "\\int_{-10}^{10}f(x) dx = \\int_{-11}^{11} 10 + \\left(\\frac{x}{10}\\right)^3e^{(\\frac{x}{10})^2}dx = 220\n",
    "$$"
   ]
  },
  {
   "cell_type": "markdown",
   "metadata": {},
   "source": [
    "1. What is the value of $\\int_{-11}^{11}f(x) dx$ ?  (try to solve this at home) <br>\n",
    "Tips. <br>\n",
    "a. use change of variables. <br>\n",
    "b. use integration by parts."
   ]
  },
  {
   "cell_type": "code",
   "execution_count": null,
   "metadata": {},
   "outputs": [],
   "source": [
    "def f(x):\n",
    "    # code here\n",
    "    return y"
   ]
  },
  {
   "cell_type": "code",
   "execution_count": null,
   "metadata": {},
   "outputs": [],
   "source": [
    "# code block\n",
    "\n",
    "# define the limits\n",
    "a = -11\n",
    "b = 11\n",
    "\n",
    "# evaluate f(x) for plotting\n",
    "x = np.linspace(a, b, 100)\n",
    "y = f(x)\n",
    "\n",
    "plt.plot(x, y)\n",
    "plt.fill_between(x, y, color='lightblue', alpha=0.5)\n",
    "plt.vlines(a, 0, f(a), color='k', ls='--')\n",
    "plt.vlines(b, 0, f(b), color='k', ls='--')\n",
    "\n",
    "plt.xticks([-10, 10], ['a', 'b'], fontsize=20)\n",
    "plt.xlabel(r'$x$', fontsize=20, labelpad=-5)\n",
    "plt.yticks([])\n",
    "plt.ylabel(r'$f(x)$', fontsize=20)"
   ]
  },
  {
   "cell_type": "markdown",
   "metadata": {},
   "source": [
    "1. Compute the integral of $f(x)$ using a single \"rectangle\"."
   ]
  },
  {
   "cell_type": "code",
   "execution_count": null,
   "metadata": {},
   "outputs": [],
   "source": [
    "# formula for the area of a rectangle\n",
    "# area = height*width\n",
    "area = #code here\n",
    "print('integral value is ', area)"
   ]
  },
  {
   "cell_type": "code",
   "execution_count": null,
   "metadata": {},
   "outputs": [],
   "source": [
    "a = -11\n",
    "b = 11\n",
    "\n",
    "n_points = 2\n",
    "h = (b-a)/n_points\n",
    "\n",
    "# first rectangle\n",
    "xl = a + h\n",
    "yl = f(xl)\n",
    "area_l = yl*(h)\n",
    "\n",
    "# second rectangle\n",
    "xr = a + 2*h\n",
    "yr = f(xr)\n",
    "area_r = yl*(h)\n",
    "\n",
    "area = area_l + area_r\n",
    "    \n",
    "print(area)"
   ]
  },
  {
   "cell_type": "code",
   "execution_count": null,
   "metadata": {},
   "outputs": [],
   "source": [
    "x = np.linspace(a, b, 100)\n",
    "y = f(x)\n",
    "plt.fill_between(x, y, color='lightblue', alpha=0.5)\n",
    "\n",
    "x = np.linspace(a, b, 3)\n",
    "h = x[1] - x[0]\n",
    "area = 0\n",
    "for xi in x[:-1]:\n",
    "    xj = xi + h/2\n",
    "    yj = f(xj)\n",
    "    aj = yj*(h)\n",
    "    print('area = ', aj)\n",
    "    plt.scatter(xj, yj, color='k')\n",
    "    plt.vlines(xi, 0, f(xj), color='k', ls='--')\n",
    "    plt.vlines(xi + h, 0, f(xj), color='k', ls='--')\n",
    "    plt.hlines(f(xj), xi, xi+h, color='k', ls='--')\n",
    "    area += aj\n",
    "plt.xticks([-10, 10], ['a', 'b'], fontsize=20)\n",
    "plt.xlabel(r'$x$', fontsize=20, labelpad=-5)\n",
    "plt.yticks([])\n",
    "plt.ylabel(r'$f(x)$', fontsize=20)\n",
    "    \n",
    "print('-------------------')\n",
    "print('total area = ', area) \n",
    "print('-------------------')\n"
   ]
  },
  {
   "cell_type": "markdown",
   "metadata": {},
   "source": [
    "Let's try\n",
    "$$\n",
    "f(x) = \\cos(5x)^2+x^2\n",
    "$$\n",
    "\n",
    "$$\n",
    "\\int_{-1}^{1} \\cos(5x)^2+x^2 dx \\approx 1.6123\n",
    "$$"
   ]
  },
  {
   "cell_type": "code",
   "execution_count": null,
   "metadata": {},
   "outputs": [],
   "source": [
    "def f(x):\n",
    "    return np.cos(5*x)**2 + x**2\n",
    "\n",
    "a = -1\n",
    "b = 1\n",
    "\n",
    "x = np.linspace(a, b, 100)\n",
    "y = f(x)\n",
    "\n",
    "plt.plot(x, y)\n",
    "plt.fill_between(x, y, color='lightblue', alpha=0.5)\n",
    "plt.vlines(a, 0, f(a), color='k', ls='--')\n",
    "plt.vlines(b, 0, f(b), color='k', ls='--')\n",
    "\n",
    "plt.xticks([-1, 1], ['a', 'b'], fontsize=20)\n",
    "plt.xlabel(r'$x$', fontsize=20, labelpad=-5)\n",
    "plt.yticks([])\n",
    "plt.ylabel(r'$f(x)$', fontsize=20)\n"
   ]
  },
  {
   "cell_type": "code",
   "execution_count": null,
   "metadata": {},
   "outputs": [],
   "source": [
    "x = np.linspace(a, b, 200)\n",
    "y = f(x)\n",
    "plt.fill_between(x, y, color='lightblue', alpha=0.5)\n",
    "\n",
    "x = np.linspace(a, b, 5)\n",
    "h = x[1] - x[0]\n",
    "area = 0\n",
    "for xi in x[:-1]:\n",
    "    xj = xi + h/2\n",
    "    yj = f(xj)\n",
    "    aj = yj*(h)\n",
    "    print('area = ', aj)\n",
    "    plt.scatter(xj, yj, color='k')\n",
    "    plt.vlines(xi, 0, f(xj), color='k', ls='--')\n",
    "    plt.vlines(xi + h, 0, f(xj), color='k', ls='--')\n",
    "    plt.hlines(f(xj), xi, xi+h, color='k', ls='--')\n",
    "    area += aj\n",
    "plt.xticks([-1, 1], ['a', 'b'], fontsize=20)\n",
    "plt.xlabel(r'$x$', fontsize=20, labelpad=-5)\n",
    "plt.yticks([])\n",
    "plt.ylabel(r'$f(x)$', fontsize=20)\n",
    "plt.savefig('integral_10.png', dpi=260)\n",
    "\n",
    "print('-------------------')\n",
    "print('total area = ', area)\n",
    "print('-------------------')"
   ]
  },
  {
   "cell_type": "code",
   "execution_count": null,
   "metadata": {},
   "outputs": [],
   "source": []
  }
 ],
 "metadata": {
  "kernelspec": {
   "display_name": "chem3pc3",
   "language": "python",
   "name": "python3"
  },
  "language_info": {
   "codemirror_mode": {
    "name": "ipython",
    "version": 3
   },
   "file_extension": ".py",
   "mimetype": "text/x-python",
   "name": "python",
   "nbconvert_exporter": "python",
   "pygments_lexer": "ipython3",
   "version": "3.12.4"
  }
 },
 "nbformat": 4,
 "nbformat_minor": 2
}
