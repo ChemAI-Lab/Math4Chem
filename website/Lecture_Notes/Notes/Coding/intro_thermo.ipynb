{
 "cells": [
  {
   "cell_type": "markdown",
   "metadata": {},
   "source": [
    "# Intro to Python and First law of Thermodynamics\n",
    "\n",
    "In this tutorial we are going to go over some basic operations in Python that will guide you through the course and as an example we will use some of the thermodynamic concepts learned in class. <br>\n",
    "\n",
    "This tutorial can be deployed in \n",
    "[![Open In Colab](https://colab.research.google.com/assets/colab-badge.svg)](\n",
    "https://colab.research.google.com/github/ChemAI-Lab/Math4Chem/blob/main/website/Lecture_Notes/Notes/Coding/intro_thermo.ipynb\n",
    ")"
   ]
  },
  {
   "cell_type": "code",
   "execution_count": null,
   "metadata": {},
   "outputs": [],
   "source": [
    "# uncomment the next line to install ipywidgets\n",
    "# !pip -q install ipywidgets"
   ]
  },
  {
   "cell_type": "code",
   "execution_count": null,
   "metadata": {},
   "outputs": [],
   "source": [
    "# import numpy and matplotlib and pyplot\n",
    "# code here!\n",
    "import numpy as np\n",
    "import matplotlib\n",
    "import matplotlib.pyplot as plt\n",
    "\n",
    "from ipywidgets import interact, IntSlider"
   ]
  },
  {
   "cell_type": "markdown",
   "metadata": {},
   "source": [
    "# Thermodynamics recap"
   ]
  },
  {
   "cell_type": "markdown",
   "metadata": {},
   "source": [
    "## First Law of Thermodynamics\n",
    "\n",
    "The change in the internal energy (U) of a system is the sum of the heat (q) transferred to the system and the work (w) done on the system,\n",
    "$$\n",
    "dU = q + w\n",
    "$$\n",
    "\n",
    "## Heat\n",
    "The energy that flows in between two objects that are at different temperatures. At constant pressure processes we can define heat as,\n",
    "$$\n",
    "dq_{p} = C_{P}dT,\n",
    "$$\n",
    "where $C_{P}$ is is the heat capacity of a substance at constant pressure, $C_{P} = mc_{p}$ where $m$ is the mass.\n",
    "\n",
    "## P-V Work\n",
    "Work in thermodynamics is defined as in classical mechanics, the energy transferred to a system by applying an external force along a displacement. \n",
    "In thermodynamics, one of the most common ways to do wok on a system is by changing the volume of the system through compression of expansion (P-V work).\n",
    "P-V work is defined as,\n",
    "$$\n",
    "w = -\\int_{V_{i}}^{V_{f}} P(T,V) dV\n",
    "$$\n",
    "where $P(T,V)$ is a function that describes the pressure of the system as a function of temperature (T) and its volume (V).\n",
    "This type of integrals are known as **line integrals**. \n",
    "\n"
   ]
  },
  {
   "cell_type": "markdown",
   "metadata": {},
   "source": [
    "## Line integral\n",
    "Let's compute the work done by a processes where the Pressure is given by,\n",
    "$$\n",
    "P(V) = \\sin(V) + a V + b,\n",
    "$$\n",
    "where $a = -0.55$ and $b = 10.55$.\n",
    "\n",
    "The initial and final volume for this processes are, $V_i = 10$ and $V_f=5$.\n"
   ]
  },
  {
   "cell_type": "code",
   "execution_count": null,
   "metadata": {},
   "outputs": [],
   "source": [
    "# define the P function\n",
    "def f_P(v):\n",
    "    # code here\n",
    "    a = -0.55\n",
    "    b = 10.55\n",
    "    p = np.sin(v) + a*v + b\n",
    "    return p"
   ]
  },
  {
   "cell_type": "code",
   "execution_count": null,
   "metadata": {},
   "outputs": [],
   "source": [
    "vi = 10\n",
    "vf = 5\n",
    "pi = f_P(vi)\n",
    "pf = f_P(vf)\n",
    "\n",
    "print(vi,pi)\n",
    "print(vf,pf)"
   ]
  },
  {
   "cell_type": "code",
   "execution_count": null,
   "metadata": {},
   "outputs": [],
   "source": [
    "# plot this process V vs P where the area under the curve is also coloured\n",
    "# tip: plt.fill_between()\n",
    "# https://matplotlib.org/stable/api/_as_gen/matplotlib.axes.Axes.fill_between.html#matplotlib.axes.Axes.fill_between\n",
    "\n",
    "v_grid = np.linspace(vi,vf,10)\n",
    "p_grid = f_P(v_grid)\n",
    "\n",
    "plt.scatter(v_grid,p_grid)\n",
    "# plt.plot(v_grid,p_grid,color='black',label=\"P(V)\")\n",
    "plt.fill_between(v_grid,p_grid,alpha=0.2)\n",
    "plt.xlabel(\"V\")\n",
    "plt.ylabel(\"P(V)\")\n",
    "plt.legend()"
   ]
  },
  {
   "cell_type": "markdown",
   "metadata": {},
   "source": [
    "What are the initial and final pressure? "
   ]
  },
  {
   "cell_type": "code",
   "execution_count": null,
   "metadata": {},
   "outputs": [],
   "source": [
    "# code here\n",
    "pi = f_P(vi)\n",
    "pf = f_P(vf)\n",
    "\n",
    "print('Initial pressure = ', f'{pi:.3f}')\n",
    "print('Final pressure = ', f'{pf:.3f}')"
   ]
  },
  {
   "cell_type": "markdown",
   "metadata": {},
   "source": [
    "## Trapezoidal Rule"
   ]
  },
  {
   "cell_type": "markdown",
   "metadata": {},
   "source": [
    "The [trapezoidal rule](https://en.wikipedia.org/wiki/Trapezoidal_rule) is one of the most common numerical integration strategies,\n",
    "$$\n",
    "\\int_a^b f(x) dx \\approx  \\sum_{i=1}^N \\frac{f(x_{i-1}) + f(x_{i})}{2} \\Delta x  = \\sum_{i=1}^N \\frac{f(x_{i-1})}{2}\\Delta x + \\sum_{i=1}^N \\frac{f(x_{i})}{2} \\Delta x\n",
    "$$\n",
    "where the partition of $[a,b]$ is $x_0 < x_1 < \\cdots < x_N$ where $a = x_0$ and $b = x_N$. <br>\n",
    "$\\Delta x$ is the difference between two consecutive points, $\\Delta x = x_{i+1} - x_i$.\n",
    "\n",
    "If we expand the sum, we get,\n",
    "$$\n",
    "% \\int_a^b f(x) dx \\approx \\sum_{i=1}^N \\frac{f(x_{i-1})}{2}\\Delta x + \\sum_{i=1}^N \\frac{f(x_{i})}{2} \\Delta x\n",
    "\\int_a^b f(x) dx \\approx \\frac{\\Delta x}{2}\\left ( f(x_0) + 2f(x_1) + 2f(x_2) + 2f(x_3) + \\cdots + f(x_N) \\right )\n",
    "$$\n",
    "\n",
    "\n",
    "Let's consider 5 grid points $x_0 < x_1 < x_2 < x_3 < x_4$. <br>\n",
    "How many terms does each term have? \n",
    "\n",
    "$$\n",
    "\\sum_{i=1}^N \\frac{f(x_{i-1})}{2}\\Delta x = \\frac{\\Delta x}{2} \\left( f(x_0) + f(x_1) + f(x_2) + f(x_3)  \\right)\n",
    "$$\n",
    "$$\n",
    "\\sum_{i=1}^N \\frac{f(x_{i})}{2}\\Delta x = \\frac{\\Delta x}{2} \\left( f(x_1) + f(x_2) + f(x_3) + f(x_4) \\right)\n",
    "$$\n",
    "if we sum both terms we get, \n",
    "$$\n",
    "\\int_a^b f(x) dx \\approx  \\frac{\\Delta x}{2} \\left(  f(x_0) + 2f(x_1) + 2f(x_2) + 2f(x_3) + f(x_4)  \\right)\n",
    "$$\n",
    "\n",
    "From the above equation, we can observe that except from the first ($x_0$) and last ($x_N$) term of the grid points, all other points are multiplied by a factor of 2.<br>\n",
    "\n",
    "There are are many ways to code the above trapezoidal rule, \n",
    "1. **For loops** --> this tutorial.\n",
    "2. **Element-wise vector multiplication** --> suggested homework."
   ]
  },
  {
   "cell_type": "markdown",
   "metadata": {},
   "source": [
    "### Slicing in Python\n",
    "Slice syntax allows us to select a range of items in a list or Numpy array.<br>\n"
   ]
  },
  {
   "cell_type": "code",
   "execution_count": null,
   "metadata": {},
   "outputs": [],
   "source": [
    "n_points = 5\n",
    "x = np.linspace(0, 10, n_points)\n",
    "print(x)\n",
    "\n",
    "# print first element \n",
    "print(x[0])\n",
    "\n",
    "# print second element\n",
    "print(x[1])\n",
    "\n",
    "# print last element\n",
    "print(x[-1])\n",
    "\n",
    "# print second last element\n",
    "print(x[-2])\n",
    "\n",
    "# print elements up to the third one\n",
    "print(x[0:3])\n",
    "\n",
    "print(x[::3])\n",
    "\n",
    "# iterate x reverse order\n",
    "print(x[::-1])\n",
    "\n",
    "print(x[1:4])"
   ]
  },
  {
   "cell_type": "markdown",
   "metadata": {},
   "source": [
    " \n",
    "Let's consider 5 grid points $x_0 < x_1 < x_2 < x_3 < x_4$. <br>\n",
    "How many terms does each term have? \n",
    "\n",
    "$$\n",
    "\\sum_{i=1}^N \\frac{f(x_{i-1})}{2}\\Delta x = \\frac{\\Delta x}{2} \\left( f(x_0) + f(x_1) + f(x_2) + f(x_3)  \\right)\n",
    "$$\n",
    "$$\n",
    "\\sum_{i=1}^N \\frac{f(x_{i})}{2}\\Delta x = \\frac{\\Delta x}{2} \\left( f(x_1) + f(x_2) + f(x_3) + f(x_4) \\right)\n",
    "$$\n",
    "if we sum both terms we get, \n",
    "$$\n",
    "\\int_a^b f(x) dx \\approx  \\frac{\\Delta x}{2} \\left(  f(x_0) + 2f(x_1) + 2f(x_2) + 2f(x_3) + f(x_4)  \\right)\n",
    "$$\n"
   ]
  },
  {
   "cell_type": "code",
   "execution_count": null,
   "metadata": {},
   "outputs": [],
   "source": [
    "# code for trapezoidal rule\n",
    "def trap_rule(y, dx):\n",
    "    int_value = dx*(y[0] + y[-1])/2 # first and last value of the integrand\n",
    "    for yi in y[1:-1]: # iterate over the remaining elements\n",
    "        int_value += dx*yi\n",
    "    return int_value"
   ]
  },
  {
   "cell_type": "code",
   "execution_count": null,
   "metadata": {},
   "outputs": [],
   "source": [
    "# code here\n",
    "vi = 10 # variable for initial volume\n",
    "vf = 1 # variable for final volume\n",
    "n = 50 # number of points for the integration grid\n",
    "\n",
    "v = np.linspace(vi,vf,n) # array of volumes for the integration grid\n",
    "dv =  v[0] - v[1] # width of the rectangles for integration\n",
    "p = f_P(v) # array of pressures for the integration grid\n",
    "\n",
    "w = trap_rule(p, dv) # call the trapezoidal rule function\n",
    "\n",
    "# ---------------------------------------------------\n",
    "print('N =  ', n)\n",
    "print('DV = ', dv)\n",
    "print('work = ', w)"
   ]
  },
  {
   "cell_type": "markdown",
   "metadata": {},
   "source": [
    "Compute the true value of $P(T,V)$ for this process.\n",
    "$$\n",
    "w = -\\int_{V_{i}}^{V_{f}} P(T,V) dV = -\\int_{V_{i}}^{V_{f}} \\left ( \\sin(V) + a V + b \\right ) dV \n",
    "$$\n",
    "where $a = -0.55$ and $b = 10.55$.\n",
    "\n",
    "<!-- w = -69.1044 -->"
   ]
  },
  {
   "cell_type": "markdown",
   "metadata": {},
   "source": [
    "Using your code, how many grid points are required for numerical integration to approximate the true value  95%.  <br>\n",
    "The formula for mean percentage error (MPE) for a single point is, \n",
    "$$\n",
    "MPE =  \\left| \\frac{y - \\hat{y}}{\\hat{y}} \\right|100\\%,\n",
    "$$\n",
    "where $\\hat{y}$ is the true or exact value and $y$ is the predicted one.\n"
   ]
  },
  {
   "cell_type": "code",
   "execution_count": null,
   "metadata": {},
   "outputs": [],
   "source": [
    "# # create a function for the MPE\n",
    "def MPE(y, y_hat):\n",
    "    #code here\n",
    "    error = (y - y_hat)/y_hat\n",
    "    abs_error = np.abs(error)\n",
    "    value = 100*abs_error\n",
    "    return value"
   ]
  },
  {
   "cell_type": "code",
   "execution_count": null,
   "metadata": {},
   "outputs": [],
   "source": [
    "\n",
    "vi = 10  # variable for initial volume\n",
    "vf = 1  # variable for final volume\n",
    "w_exact = -69.1044 # exact value of the work for this process\n",
    "\n",
    "mpe_ = [] # list to store the MPE\n",
    "w_ = []  # list to store the work values\n",
    "\n",
    "n_ = np.arange(5, 100, 2)  # grid on total number of integration points\n",
    "for n in n_: # iterate over the number of points\n",
    "    \n",
    "    v = np.linspace(vi,vf, n) # creates a grid of n points between vi and vf\n",
    "    dv = v[1] - v[0] # width of the rectangles for integration\n",
    "    p = f_P(v) # value of pressure at each volume\n",
    "    w = trap_rule(p,dv) # call the trapezoidal rule function\n",
    "    mpei = MPE(w,w_exact) # calculate the MPE\n",
    "    \n",
    "    w_.append(w)\n",
    "    mpe_.append(mpei)\n",
    "    if (n % 5) == 0:\n",
    "        print(f'itr: {n},', f'{w:.5f}')\n",
    "\n",
    "w_ = np.array(w_) # list to array\n",
    "mpe_ = np.array(mpe_) # list to array\n",
    "\n",
    "# # plot\n",
    "plt.figure(0)\n",
    "plt.scatter(n_,mpe_)\n",
    "plt.xlabel('number of points',fontsize=18)\n",
    "plt.ylabel('MPE', fontsize=18)\n",
    "\n",
    "\n",
    "# plot\n",
    "plt.figure(1)\n",
    "plt.scatter(n_, w_,color='tab:orange')\n",
    "plt.axhline(y=w_exact, color='k', linestyle='--', label='exact value')\n",
    "plt.xlabel('number of points', fontsize=18)\n",
    "plt.ylabel(r'$\\int P(V) dV$', fontsize=18)\n",
    "plt.legend()\n",
    "    "
   ]
  },
  {
   "cell_type": "markdown",
   "metadata": {},
   "source": [
    "Let's do the same analysis but now using, \n",
    "$$\n",
    "P(V) = \\sin \\left (\\frac{V}{0.1} \\right ) + a V + b,\n",
    "$$\n",
    "where $a = -0.55$ and $b = 10.55$.\n",
    "\n",
    "The integral of this function is, \n",
    "$$\n",
    "\\int_{1}^{10} P(V) dV = 67.5549\n",
    "$$"
   ]
  },
  {
   "cell_type": "code",
   "execution_count": null,
   "metadata": {},
   "outputs": [],
   "source": [
    "def f_P_new(V):\n",
    "    # code here\n",
    "\n",
    "    return p"
   ]
  },
  {
   "cell_type": "code",
   "execution_count": null,
   "metadata": {},
   "outputs": [],
   "source": [
    "vi = 1.\n",
    "vf = 10\n",
    "\n",
    "n = 1000\n",
    "v = np.linspace(vi, vf, n)\n",
    "p = f_P_new(v)\n",
    "\n",
    "# plotting\n",
    "plt.plot(v, p)\n",
    "plt.fill_between(v, p, alpha=0.2)\n",
    "plt.ylim(0, np.max(p)+1.1)\n",
    "plt.xlabel('V', fontsize=20)\n",
    "plt.ylabel('P(V)', fontsize=20)"
   ]
  },
  {
   "cell_type": "code",
   "execution_count": null,
   "metadata": {},
   "outputs": [],
   "source": [
    "# play around with the number of grid points\n",
    "\n",
    "vi = 1. # initial volume\n",
    "vf = 10 # final volume\n",
    "w_exact = 67.5549 # exact value of the work for this process\n",
    "\n",
    "mpe_ = []  # list to store the values\n",
    "w_ = [] # list to store the values\n",
    "\n",
    "n_ = np.arange(10, 50, 1) # grid on total number of integration points\n",
    "for n in n_: # iterate over the number of points\n",
    "    \n",
    "    # compute the work and MPE for different n grid points\n",
    "    # use \"w\" for the work value and \"mpei\" for the MPE value\n",
    "    # code here!\n",
    "    \n",
    "    w_.append(w)\n",
    "    mpe_.append(mpei)\n",
    "    if (n % 2) == 0:\n",
    "        print(f'itr: {n},', f'{w:.5f}')\n",
    "\n",
    "w_ = np.array(w_)\n",
    "mpe_ = np.array(mpe_)\n",
    "\n",
    "# plot\n",
    "plt.figure(0)\n",
    "plt.scatter(n_, mpe_)\n",
    "plt.xlabel('number of points', fontsize=18)\n",
    "plt.ylabel('MPE', fontsize=18)\n",
    "\n",
    "\n",
    "# plot\n",
    "plt.figure(1)\n",
    "plt.scatter(n_, w_, color='tab:orange')\n",
    "plt.axhline(y=w_exact, color='k', linestyle='--', label='exact value')\n",
    "plt.xlabel('number of points', fontsize=18)\n",
    "plt.ylabel(r'$\\int P(V) dV$', fontsize=18)\n",
    "plt.legend()"
   ]
  },
  {
   "cell_type": "code",
   "execution_count": null,
   "metadata": {},
   "outputs": [],
   "source": [
    "v_i = 1.  # initial volume\n",
    "v_f = 10  # final volume\n",
    "w_exact = 67.5549  # exact value of the work for this process\n",
    "n = 14 # number of points for the integration grid\n",
    "v = np.linspace(v_i,v_f, n) # creates a grid of n points between vi and vf\n",
    "dv = v[1] - v[0] # width of the rectangles for integration\n",
    "p = f_P_new(v) # value of pressure at each volume\n",
    "w = trap_rule(p,dv) # call the trapezoidal rule function\n",
    "mpei = MPE(w,w_exact) # calculate the MPE\n",
    "    \n",
    "\n",
    "v_dense = np.linspace(v_i, vf, 1000)\n",
    "p_dense = f_P_new(v_dense)\n",
    "plt.plot(v_dense, p_dense, color='tab:orange', label='P(V)')\n",
    "\n",
    "h = v[1] - v[0]\n",
    "area = 0\n",
    "for vi in v[:-1]:\n",
    "    vj = vi + h/2\n",
    "    yj = f_P_new(vj)\n",
    "    aj = yj*(h)\n",
    "    plt.scatter(vj, yj, color='k')\n",
    "    plt.vlines(vi, 0, f_P_new(vj), color='k', ls='--')\n",
    "    plt.vlines(vi + h, 0, f_P_new(vj), color='k', ls='--')\n",
    "    plt.hlines(f_P_new(vj), vi, vi+h, color='k', ls='--')\n",
    "    plt.fill_between([vi, vi+h], 0, f_P_new(vj), color='lightblue', alpha=0.5)\n",
    "    area += aj\n",
    "plt.title(f'N = {n}')\n",
    "plt.xticks([v_i, v_f], [r'$V_i$', r'$V_f$'], fontsize=20)\n",
    "plt.xlabel(r'$V$', fontsize=20, labelpad=-5)\n",
    "plt.yticks([])\n",
    "plt.ylabel(r'$P(V)$', fontsize=20)"
   ]
  },
  {
   "cell_type": "markdown",
   "metadata": {},
   "source": [
    "## Animation"
   ]
  },
  {
   "cell_type": "code",
   "execution_count": null,
   "metadata": {},
   "outputs": [],
   "source": [
    "# ---- Problem parameters (edit these) ----\n",
    "v_i = 1.0          # initial volume\n",
    "v_f = 10.0         # final volume\n",
    "w_exact = 67.5549  # exact work over [v_i, v_f]\n",
    "\n",
    "\n",
    "def draw(n=14):\n",
    "    n = max(int(n), 2)\n",
    "    V = np.linspace(v_i, v_f, n)\n",
    "    dV = V[1] - V[0]\n",
    "\n",
    "    # Dense curve for P(V)\n",
    "    V_dense = np.linspace(v_i, v_f, 1200)\n",
    "    P_dense = f_P_new(V_dense)\n",
    "\n",
    "    # Midpoint samples\n",
    "    V_mid = 0.5*(V[:-1] + V[1:])\n",
    "    P_mid = f_P_new(V_mid)\n",
    "\n",
    "    # Integrals\n",
    "    W_trap = trap_rule(f_P_new(V), dV)\n",
    "\n",
    "    mpe_trap = MPE(W_trap, w_exact)\n",
    "\n",
    "    # ---- Plot ----\n",
    "    plt.figure(figsize=(7.5, 4.5))\n",
    "    # Underlying function\n",
    "    plt.plot(V_dense, P_dense, label=r\"$P(V)$\", color=\"tab:orange\")\n",
    "\n",
    "    # Midpoint rectangles\n",
    "    for i in range(len(V)-1):\n",
    "        vi = V[i]\n",
    "        vj = V_mid[i]\n",
    "        pj = P_mid[i]\n",
    "        plt.vlines([vi, vi + dV], 0, [pj, pj], linestyles=\"--\", color='k')\n",
    "        plt.hlines(pj, vi, vi + dV, linestyles=\"--\", color='k')\n",
    "        plt.fill_between([vi, vi + dV], 0, pj, alpha=0.25, color='lightblue')\n",
    "        plt.scatter([vj], [pj], s=16, color='k')\n",
    "\n",
    "    # Labels and metrics\n",
    "    plt.title(fr\"$N={n}$\")\n",
    "    plt.xlabel(r\"$V$\")\n",
    "    plt.ylabel(r\"$P(V)$\")\n",
    "    plt.xticks([v_i, v_f], [r\"$V_i$\", r\"$V_f$\"])\n",
    "    plt.yticks([])\n",
    "    plt.legend(loc=\"best\")\n",
    "    plt.tight_layout()\n",
    "    plt.show()\n",
    "\n",
    "\n",
    "interact(draw, n=IntSlider(value=14, min=2, max=120, step=1, description=\"N\"))"
   ]
  },
  {
   "cell_type": "markdown",
   "metadata": {},
   "source": [
    "# Heat Capacity\n",
    "the heat capacity $C_{P}$ of a substance is the amount of heat absorbed by the system to increase its temperature 1C. <br>\n",
    "\n",
    "Experimentally one can measure the $C_{P}$ of a substance using a calorimeter for example, where we can measure the temperature and the amount of heat transferred to the substance. <br>\n",
    "We can approximate the computation of $C_{P}$ as, \n",
    "$$\n",
    "C_{P} = \\frac{q}{\\Delta T}\n",
    "$$\n",
    "\n",
    "\n",
    "The following experimental data contains the measured amount of heat (q) to change 1 kg of an unknown material from the initial temperature ($T_i$) to a final one ($T_f$). <br>\n",
    "\n",
    "| heat (kJ)   | $T_i$ (C) | $T_f$ (C) |\n",
    "| -------- | ------- | ------- |\n",
    "| 9.08 | 21.5 | 31.38 |\n",
    "| 10.52 | 40.4 | 51.93 |\n",
    "| 10.27 | 60.36 | 71.44 |\n",
    "| 7.6 | 81.75 | 90.1 |\n",
    "| 8.1 | 101.97 | 110.84 |\n",
    "| 8.38 | 121.32 | 130.31 |\n",
    "| 9.0 | 141.07 | 150.75 |\n",
    "\n",
    "**Exercise** <br>\n",
    "1. Compute the mean and the standard deviation of the $C_{P}$ using this experimental data.\n",
    "2. Tip: use the slicing \"tricks\" we learned in this tutorial.\n",
    "\n",
    "Tips:\n",
    "1. [`np.mean`](https://numpy.org/doc/stable/reference/generated/numpy.mean.html)\n",
    "2. [`np.std`](https://numpy.org/doc/stable/reference/generated/numpy.std.html)"
   ]
  },
  {
   "cell_type": "code",
   "execution_count": null,
   "metadata": {},
   "outputs": [],
   "source": [
    "# code here!"
   ]
  }
 ],
 "metadata": {
  "kernelspec": {
   "display_name": "chem3pc3",
   "language": "python",
   "name": "python3"
  },
  "language_info": {
   "codemirror_mode": {
    "name": "ipython",
    "version": 3
   },
   "file_extension": ".py",
   "mimetype": "text/x-python",
   "name": "python",
   "nbconvert_exporter": "python",
   "pygments_lexer": "ipython3",
   "version": "3.12.4"
  }
 },
 "nbformat": 4,
 "nbformat_minor": 2
}
