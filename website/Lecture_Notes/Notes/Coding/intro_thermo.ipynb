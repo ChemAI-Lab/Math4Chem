{
 "cells": [
  {
   "cell_type": "markdown",
   "metadata": {},
   "source": [
    "# Intro to Python and First law of Thermodynamics\n",
    "\n",
    "In this tutorial we are going to go over some basic operations in Python that will guide you through the course and as an example we will use some of the thermodynamic concepts learned in class. <br>\n",
    "This tutorial can be deployed in <a target=\"_blank\" href=\"https://colab.research.google.com/github/ChemAI-Lab/Math4Chem/blob/main/website/Lecture_Notes/Coding/intro_thermo.ipynb\">\n",
    "  <img src=\"https://colab.research.google.com/assets/colab-badge.svg\" alt=\"Open In Colab\"/>"
   ]
  },
  {
   "cell_type": "code",
   "execution_count": 1,
   "metadata": {},
   "outputs": [],
   "source": [
    "# import the numpy as matplotlib libraries\n"
   ]
  },
  {
   "cell_type": "markdown",
   "metadata": {},
   "source": [
    "# Thermodynamics recap\n",
    "\n",
    "## First Law of Thermodynamics\n",
    "\n",
    "The change in the internal energy (U) of a system is the sum of the heat (q) transferred to the system and the work (w) done on the system,\n",
    "$$\n",
    "dU = q + w\n",
    "$$\n",
    "\n",
    "## Heat\n",
    "The energy that flows in between two objects that are at different temperatures. At constant pressure processes we can define heat as,\n",
    "$$\n",
    "dq_{p} = C_{P}dT,\n",
    "$$\n",
    "where $C_{P}$ is is the heat capacity of a substance at constant pressure, $C_{P} = mc_{p}$ where $m$ is the mass.\n",
    "\n",
    "## P-V Work\n",
    "Work in thermodynamics is defined as in classical mechanics, the energy transferred to a system by applying an external force along a displacement. \n",
    "In thermodynamics, one of the most common ways to do wok on a system is by changing the volume of the system through compression of expansion (P-V work).\n",
    "P-V work is defined as,\n",
    "$$\n",
    "w = -\\int_{V_{i}}^{V_{f}} P(T,V) dV\n",
    "$$\n",
    "where $P(T,V)$ is a function that describes the pressure of the system as a function of temperature (T) and its volume (V).\n",
    "This type of integrals are known as **line integrals**. \n",
    "\n"
   ]
  },
  {
   "cell_type": "markdown",
   "metadata": {},
   "source": []
  },
  {
   "cell_type": "markdown",
   "metadata": {},
   "source": [
    "## Line integral\n",
    "Let's compute the work done by a processes where the Pressure is given by,\n",
    "$$\n",
    "P(V) = \\sin(V) + a V + b,\n",
    "$$\n",
    "where $a = -0.55$ and $b = 10.55$.\n",
    "\n",
    "The initial and final volume for this processes are, $V_i = 10$ and $V_f=5$.\n"
   ]
  },
  {
   "cell_type": "code",
   "execution_count": 2,
   "metadata": {},
   "outputs": [],
   "source": [
    "# define the P function\n",
    "# def f_P(v):\n",
    "#     # code here\n",
    "#     return p\n",
    "\n",
    "\n",
    "# plot this process V vs P where the area under the curve is also coloured \n",
    "# tips, plt.fill_between() \n",
    "# https://matplotlib.org/stable/api/_as_gen/matplotlib.axes.Axes.fill_between.html#matplotlib.axes.Axes.fill_between"
   ]
  },
  {
   "cell_type": "markdown",
   "metadata": {},
   "source": [
    "What are the initial and final pressure? "
   ]
  },
  {
   "cell_type": "code",
   "execution_count": 3,
   "metadata": {},
   "outputs": [],
   "source": [
    "# code here"
   ]
  },
  {
   "cell_type": "markdown",
   "metadata": {},
   "source": [
    "Using numerical integration, compute the value of the work for this process. <br>\n",
    "The [trapezoidal rule](https://en.wikipedia.org/wiki/Trapezoidal_rule) is one of the most common numerical integration strategies,\n",
    "$$\n",
    "\\int_a^b f(x) dx \\approx  \\sum_{i=1}^N \\frac{f(x_{i-1}) + f(x_{i})}{2} \\Delta x  = \\sum_{i=1}^N \\frac{f(x_{i-1})}{2}\\Delta x + \\sum_{i=1}^N \\frac{f(x_{i})}{2} \\Delta x\n",
    "$$\n",
    "where the partition of $[a,b]$ is $x_0 < x_1 < \\cdots < x_N$ where $a = x_0$ and $b = x_N$. <br>\n",
    "$\\Delta x$ is the difference between two consecutive points, $\\Delta x = x_{i+1} - x_i$.\n",
    "\n",
    "If we expand the sum, we get,\n",
    "$$\n",
    "% \\int_a^b f(x) dx \\approx \\sum_{i=1}^N \\frac{f(x_{i-1})}{2}\\Delta x + \\sum_{i=1}^N \\frac{f(x_{i})}{2} \\Delta x\n",
    "\\int_a^b f(x) dx \\approx \\frac{\\Delta x}{2}\\left ( f(x_0) + 2f(x_1) + 2f(x_2) + 2f(x_3) + \\cdots + f(x_N) \\right )\n",
    "$$\n",
    "\n",
    "\n",
    "Let's consider 5 grid points $x_0 < x_1 < x_2 < x_3 < x_4$. <br>\n",
    "How many terms does each term have? \n",
    "\n",
    "$$\n",
    "\\sum_{i=1}^N \\frac{f(x_{i-1})}{2}\\Delta x = \\frac{\\Delta x}{2} \\left( f(x_0) + f(x_1) + f(x_2) + f(x_3)  \\right)\n",
    "$$\n",
    "$$\n",
    "\\sum_{i=1}^N \\frac{f(x_{i})}{2}\\Delta x = \\frac{\\Delta x}{2} \\left( f(x_1) + f(x_2) + f(x_3) + f(x_4) \\right)\n",
    "$$\n",
    "if we sum both terms we get, \n",
    "$$\n",
    "\\int_a^b f(x) dx \\approx  \\frac{\\Delta x}{2} \\left(  f(x_0) + 2f(x_1) + 2f(x_2) + 2f(x_3) + f(x_4)  \\right)\n",
    "$$\n",
    "\n",
    "From the above equation, we can observe that except from the first ($x_0$) and last ($x_N$) term of the grid points, all other points are multiplied by a factor of 2.<br>\n",
    "\n",
    "There are are many ways to code the above trapezoidal rule, \n",
    "1. For loops --> this tutorial.\n",
    "2. Element wise vector multiplication --> suggested homework."
   ]
  },
  {
   "cell_type": "markdown",
   "metadata": {},
   "source": [
    "**Slicing in Python** <br>\n",
    "Slice syntax allows us to select a range of items in a list or Numpy array.<br>\n"
   ]
  },
  {
   "cell_type": "code",
   "execution_count": null,
   "metadata": {},
   "outputs": [],
   "source": [
    "x = np.arange(0, 10)\n",
    "print(x)\n",
    "\n",
    "# print second element\n",
    "\n",
    "# print last element\n",
    "\n",
    "# print elements up to the third one\n",
    "\n",
    "# print(x[::2])\n",
    "\n",
    "# iterate x reverse order"
   ]
  },
  {
   "cell_type": "code",
   "execution_count": null,
   "metadata": {},
   "outputs": [],
   "source": [
    "# code for trapezoidal rule\n",
    "def trap_rule(y, dx):\n",
    "    int_value = # first and last value of the integrand\n",
    "    for yi in y[1:]: # iterate over the remaining elements\n",
    "        int_value += # update the value of the integrand\n",
    "    return int_value"
   ]
  },
  {
   "cell_type": "code",
   "execution_count": 30,
   "metadata": {},
   "outputs": [],
   "source": [
    "# code here\n",
    "# vi = # variable for initial volume\n",
    "# vf = # variable for final volume\n",
    "# n = # number of points for the integration grid\n",
    "# dv = # width of the rectangles for integration\n",
    "\n",
    "# code to do numerical integration\n",
    "\n",
    "# w = value of work\n",
    "# print('N =  ', n)\n",
    "# print('DV = ', dv)\n",
    "# print('work = ', w)"
   ]
  },
  {
   "cell_type": "markdown",
   "metadata": {},
   "source": [
    "Compute the true value of $P(T,V)$ for this process.\n",
    "$$\n",
    "w = -\\int_{V_{i}}^{V_{f}} P(T,V) dV = -\\int_{V_{i}}^{V_{f}} \\left ( \\sin(V) + a V + b \\right ) dV \n",
    "$$\n",
    "where $a = -0.55$ and $b = 10.55$.\n",
    "\n",
    "<!-- w = -69.1044 -->"
   ]
  },
  {
   "cell_type": "markdown",
   "metadata": {},
   "source": [
    "Using your code, how many grid points are required for numerical integration to approximate the true value  95%.  <br>\n",
    "The formula for mean percentage error (MPE) for a single point is, \n",
    "$$\n",
    "MPE =  \\left| \\frac{y - \\hat{y}}{y} \\right|100\\%,\n",
    "$$\n",
    "where $\\hat{y}$ is the true or exact value and $y$ is the predicted one.\n"
   ]
  },
  {
   "cell_type": "code",
   "execution_count": null,
   "metadata": {},
   "outputs": [],
   "source": [
    "# # create a function for the MPE\n",
    "# def MPE(y, y_hat):\n",
    "#     #code here\n",
    "#     return value"
   ]
  },
  {
   "cell_type": "code",
   "execution_count": null,
   "metadata": {},
   "outputs": [],
   "source": [
    "n_ = np.arange(5, 50, 2)\n",
    "\n",
    "w_exact = 69.1044\n",
    "mpe_ = [] # list to store the values\n",
    "w_ = []\n",
    "for n in n_:\n",
    "    v = np.linspace(vi,vf, n) # grid of volume\n",
    "    dv = v[1] - v[0]\n",
    "    p = f_P(v) # value of pressure at each volume\n",
    "\n",
    "    w = trap_rule(p,dv)\n",
    "    w_.append(w)\n",
    "    mpei = MPE(w,w_exact)\n",
    "    mpe_.append(mpei)\n",
    "    print(n, f'{w:.4f}')\n",
    "\n",
    "w_ = np.array(w_)\n",
    "mpe_ = np.array(mpe_)\n",
    "\n",
    "# plot\n",
    "plt.figure(0)\n",
    "plt.scatter(n_,mpe_)\n",
    "plt.xlabel('number of points',fontsize=18)\n",
    "plt.ylabel('MPE', fontsize=18)\n",
    "\n",
    "\n",
    "# plot\n",
    "plt.figure(1)\n",
    "plt.scatter(n_, w_ - w_exact,color='tab:orange')\n",
    "plt.xlabel('number of points', fontsize=18)\n",
    "plt.ylabel(r'$y - \\hat{y}$', fontsize=18)\n",
    "    "
   ]
  },
  {
   "cell_type": "markdown",
   "metadata": {},
   "source": [
    "Let's do the same analysis but now using, \n",
    "$$\n",
    "P(V) = \\sin \\left (\\frac{V}{0.1} \\right ) + a V + b,\n",
    "$$\n",
    "where $a = -0.55$ and $b = 10.55$.\n",
    "\n",
    "The integral of this function is, \n",
    "$$\n",
    "\\int_{1}^{10} P(V) dV = 67.5549\n",
    "$$"
   ]
  },
  {
   "cell_type": "code",
   "execution_count": null,
   "metadata": {},
   "outputs": [],
   "source": [
    "def f_P_new(V):\n",
    "    # code here\n",
    "    \n",
    "    return p\n",
    "\n",
    "\n",
    "vi = 1.\n",
    "vf = 10\n",
    "\n",
    "n = 1000\n",
    "v = np.linspace(vi, vf, n)\n",
    "p = f_P_new(v)\n",
    "\n",
    "# plotting\n",
    "plt.plot(v, p)\n",
    "plt.fill_between(v, p, alpha=0.2)\n",
    "plt.ylim(0, np.max(p)+1.1)\n",
    "plt.xlabel('V', fontsize=20)\n",
    "plt.ylabel('P', fontsize=20)"
   ]
  },
  {
   "cell_type": "code",
   "execution_count": null,
   "metadata": {},
   "outputs": [],
   "source": [
    "# play around with the number of grid points\n",
    "n_ = np.arange(10, 50, 1) \n",
    "\n",
    "w_exact = 67.5549\n",
    "mpe_ = []  # list to store the values\n",
    "w_ = []\n",
    "for n in n_:\n",
    "    v = np.linspace(vi, vf, n)  # grid of volume\n",
    "    dv = v[1] - v[0]\n",
    "    p = f_P_new(v)  # value of pressure at each volume\n",
    "\n",
    "    w = trap_rule(p, dv)\n",
    "    w_.append(w)\n",
    "\n",
    "    mpei = MPE(w, w_exact)\n",
    "    mpe_.append(mpei)\n",
    "    print(n, f'{w:.4f}')\n",
    "\n",
    "w_ = np.array(w_)\n",
    "mpe_ = np.array(mpe_)\n",
    "\n",
    "# plot\n",
    "plt.figure(0)\n",
    "plt.scatter(n_, mpe_)\n",
    "plt.xlabel('number of points', fontsize=18)\n",
    "plt.ylabel('MPE', fontsize=18)\n",
    "\n",
    "\n",
    "# plot\n",
    "plt.figure(1)\n",
    "plt.scatter(n_, w_ - w_exact, color='tab:orange')\n",
    "plt.xlabel('number of points', fontsize=18)\n",
    "plt.ylabel(r'$y - \\hat{y}$', fontsize=18)\n",
    "# plt.yscale('log')"
   ]
  },
  {
   "cell_type": "markdown",
   "metadata": {},
   "source": [
    "# Heat Capacity\n",
    "the heat capacity $C_{P}$ of a substance is the amount of heat absorbed by the system to increase its temperature 1C. <br>\n",
    "\n",
    "Experimentally one can measure the $C_{P}$ of a substance using a calorimeter for example, where we can measure the temperature and the amount of heat transferred to the substance. <br>\n",
    "We can approximate the computation of $C_{P}$ as, \n",
    "$$\n",
    "C_{P} = \\frac{q}{\\Delta T}\n",
    "$$\n",
    "\n",
    "\n",
    "The following experimental data contains the measured amount of heat (q) to change 1 kg of an unknown material from the initial temperature ($T_i$) to a final one ($T_f$). <br>\n",
    "\n",
    "| heat (kJ)   | $T_i$ (C) | $T_f$ (C) |\n",
    "| -------- | ------- | ------- |\n",
    "| 9.08 | 21.5 | 31.38 |\n",
    "| 10.52 | 40.4 | 51.93 |\n",
    "| 10.27 | 60.36 | 71.44 |\n",
    "| 7.6 | 81.75 | 90.1 |\n",
    "| 8.1 | 101.97 | 110.84 |\n",
    "| 8.38 | 121.32 | 130.31 |\n",
    "| 9.0 | 141.07 | 150.75 |\n",
    "\n",
    "**Exercise** <br>\n",
    "1. Compute the mean and the standard deviation of the $C_{P}$ using this experimental data.\n",
    "\n",
    "Tips:\n",
    "1. [`np.mean`](https://numpy.org/doc/stable/reference/generated/numpy.mean.html)\n",
    "2. [`np.std`](https://numpy.org/doc/stable/reference/generated/numpy.std.html)"
   ]
  },
  {
   "cell_type": "code",
   "execution_count": 118,
   "metadata": {},
   "outputs": [],
   "source": [
    "# code here!"
   ]
  }
 ],
 "metadata": {
  "kernelspec": {
   "display_name": "chem3pc3",
   "language": "python",
   "name": "python3"
  },
  "language_info": {
   "codemirror_mode": {
    "name": "ipython",
    "version": 3
   },
   "file_extension": ".py",
   "mimetype": "text/x-python",
   "name": "python",
   "nbconvert_exporter": "python",
   "pygments_lexer": "ipython3",
   "version": "3.12.4"
  }
 },
 "nbformat": 4,
 "nbformat_minor": 2
}
