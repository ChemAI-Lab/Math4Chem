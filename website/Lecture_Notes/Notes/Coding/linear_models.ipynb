{
 "cells": [
  {
   "cell_type": "markdown",
   "id": "67c834de",
   "metadata": {},
   "source": [
    "# Linear Models\n",
    "\n",
    "In this section we are going to cover **linear models**, which are the basic structure for many data-driven models. <br>\n",
    "\n",
    "This tutorial can be deployed in [![Open In Colab](https://colab.research.google.com/assets/colab-badge.svg)](https://colab.research.google.com/github/ChemAI-Lab/Math4Chem/blob/main/website/Lecture_Notes/Notes/Coding/linear_models.ipynb)"
   ]
  },
  {
   "cell_type": "code",
   "execution_count": null,
   "id": "13f159ff",
   "metadata": {},
   "outputs": [],
   "source": [
    "# uncomment the next line to install ipywidgets\n",
    "# !pip -q install ipywidgets"
   ]
  },
  {
   "cell_type": "code",
   "execution_count": null,
   "id": "34c06fb9",
   "metadata": {},
   "outputs": [],
   "source": [
    "import numpy as np\n",
    "import matplotlib\n",
    "import matplotlib.pyplot as plt\n",
    "\n",
    "from ipywidgets import interact, IntSlider"
   ]
  },
  {
   "cell_type": "markdown",
   "id": "40bb22ef",
   "metadata": {},
   "source": [
    "# Linear models\n",
    "\n",
    "In class we covered linear equations. As we will see in the upcoming classes, linear models are the foundation to almost any regression algorithm.<br>\n",
    "\n",
    "## Linear models 101:\n",
    "$$\n",
    "\\begin{align}\n",
    "f(x) &= \\mathbf{w}^\\top \\mathbf{x}\n",
    " = \\begin{bmatrix}\n",
    "w_0 & w_1 & \\cdots & w_p \\\\\n",
    "\\end{bmatrix}\\begin{bmatrix}\n",
    " 1 \\\\\n",
    " x_1 \\\\\n",
    " \\vdots \\\\\n",
    " x_d\n",
    "\\end{bmatrix}=  \\sum_{i=0}^{d} w_i x_i\n",
    "\\end{align} \n",
    "$$\n",
    "\n",
    "this is merely another dot product between, the linear weights $\\mathbf{w} = [b,m]$ and $\\mathbf{x} = [1,x]$.\n",
    "\n",
    "For simple **linear regression** in a single dimension, the above equation is, \n",
    "$$\n",
    "\\begin{align}\n",
    "f(x) &= \\mathbf{w}^\\top \\mathbf{x}\n",
    " = \\begin{bmatrix}\n",
    "w_0 & w_1 \\\\\n",
    "\\end{bmatrix}\\begin{bmatrix}\n",
    " 1 \\\\\n",
    " x_1 \n",
    "\\end{bmatrix}=  w_0 + w_1\\,x = b + m\\;x\n",
    "\\end{align} \n",
    "$$\n",
    "\n",
    "Let's generate some random data to see if we can approximate it with a simple linear model.\n",
    "\n",
    "Let's see a linear model under the assumption of matrix-vector multiplication.\n",
    "\n",
    "$$\n",
    "\\begin{align}\n",
    "\\begin{bmatrix}\n",
    "f(\\mathbf{x}_1) \\\\\n",
    "f(\\mathbf{x}_2) \\\\\n",
    "\\vdots \\\\\n",
    "f(\\mathbf{x}_N)\n",
    "\\end{bmatrix} &= \\begin{bmatrix}\n",
    "\\mathbf{w}^\\top \\mathbf{x}_1 \\\\\n",
    "\\mathbf{w}^\\top\\mathbf{x}_2 \\\\\n",
    "\\vdots \\\\\n",
    "\\mathbf{w}^\\top\\mathbf{x}_N\n",
    "\\end{bmatrix}  =  \\begin{bmatrix}\n",
    "\\mathbf{x}_1^\\top \\\\\n",
    "\\mathbf{x}_2^\\top \\\\\n",
    "\\vdots \\\\\n",
    "\\mathbf{x}_N^\\top \\\\\n",
    "\\end{bmatrix}\\begin{bmatrix}\n",
    " w_0 \\\\\n",
    " w_1 \n",
    "\\end{bmatrix} = \\begin{bmatrix}\n",
    "1 & x_{1} \\\\\n",
    "1 & x_{2} \\\\\n",
    "\\vdots \\\\\n",
    "1 & x_{N} \\\\\n",
    "\\end{bmatrix}\\begin{bmatrix}\n",
    " w_0 \\\\\n",
    " w_1 \n",
    "\\end{bmatrix} = \\begin{bmatrix}\n",
    "w_0 + w_1\\;x_{1} \\\\\n",
    "w_0 + w_1\\; x_{2} \\\\\n",
    "\\vdots \\\\\n",
    "w_0 + w_1\\;x_{N} \\\\\n",
    "\\end{bmatrix}\n",
    "\\end{align} \n",
    "$$\n"
   ]
  },
  {
   "cell_type": "markdown",
   "id": "09ee7d24",
   "metadata": {},
   "source": [
    "## Generate some data"
   ]
  },
  {
   "cell_type": "code",
   "execution_count": null,
   "id": "07cd3e80",
   "metadata": {},
   "outputs": [],
   "source": [
    "# generate random data over f(x) = sin(x) + x - 1\n",
    "def get_data(N):\n",
    "    # This creates an array x of N linearly spaced values between -1 and 1.\n",
    "    x = np.linspace(-1., 1., N)\n",
    "    y = np.sin(.5*x) + x - 1.\n",
    "    # Adds random noise to each y value.\n",
    "    y = y + np.random.uniform(low=0., high=0.5, size=x.shape)\n",
    "    return x, y"
   ]
  },
  {
   "cell_type": "code",
   "execution_count": null,
   "id": "3fbb9cc4",
   "metadata": {},
   "outputs": [],
   "source": [
    "N = 25  # number of data points\n",
    "\n",
    "x, y = get_data(25)\n",
    "\n",
    "# plot\n",
    "plt.scatter(x, y, label='data')\n",
    "plt.xlabel(r'$x$', fontsize=18)\n",
    "plt.ylabel(r'$f(x)$', fontsize=18)\n",
    "plt.ylim(-3., 2.)\n",
    "plt.legend()"
   ]
  },
  {
   "cell_type": "markdown",
   "id": "4c62c6d2",
   "metadata": {},
   "source": [
    "## Generating Random Parameters\n",
    "\n",
    "Later in the course, we will see how to ''train'' this family of models, but in the mean time let's use some random parameters.\n",
    "For a one-dimensional model, we only need two parameters, $\\mathbf{w} = [w_0,w_1] = [b,m]$, \n",
    "\n",
    "$$\n",
    "[b,m] \\sim U([-2,2])\n",
    "$$\n",
    "where $U$ is a random distribution between -2 and 2."
   ]
  },
  {
   "cell_type": "code",
   "execution_count": null,
   "id": "6893e5ba",
   "metadata": {},
   "outputs": [],
   "source": [
    "# random parameters\n",
    "def get_random_params():\n",
    "    theta_random = np.random.uniform(low=-2., high=2., size=(2, 1))\n",
    "    return theta_random"
   ]
  },
  {
   "cell_type": "code",
   "execution_count": null,
   "id": "009db0ab",
   "metadata": {},
   "outputs": [],
   "source": [
    "# using the dot_product or the  function, define a function for the linear model\n",
    "def linear_model(X, w):\n",
    "\n",
    "    # code here\n",
    "    y = \n",
    "\n",
    "    return y"
   ]
  },
  {
   "cell_type": "code",
   "execution_count": null,
   "id": "e9d18bbd",
   "metadata": {},
   "outputs": [],
   "source": [
    "w_rnd = get_random_params()\n",
    "b, m = w_rnd\n",
    "print('parameters')\n",
    "print(w_rnd)\n",
    "\n",
    "x_grid = np.linspace(-1., 1., 100)\n",
    "X = np.column_stack((np.ones_like(x_grid), x_grid))  # add a column of ones\n",
    "\n",
    "y_pred = linear_model(X, w_rnd)  # prediction with random parameters\n",
    "\n",
    "print(x_grid.shape, y_pred.shape)\n"
   ]
  },
  {
   "cell_type": "code",
   "execution_count": null,
   "id": "5ef083d8",
   "metadata": {},
   "outputs": [],
   "source": [
    "fig, ax = plt.subplots()\n",
    "ax.clear()\n",
    "ax.scatter(x, y, label='data')\n",
    "ax.plot(x_grid, y_pred, color='k', label='model')\n",
    "ax.text(0.1, -2.5, 'w0=%.2f, w1=%.2f' % (m, b), fontsize=15)\n",
    "ax.legend(loc=1)\n",
    "ax.set_xlabel(r'$x$', fontsize=18)\n",
    "ax.set_ylabel(r'$f(x)$', fontsize=18)\n",
    "ax.set_ylim(-3., 2.)"
   ]
  },
  {
   "cell_type": "markdown",
   "id": "13c2ca0f",
   "metadata": {},
   "source": [
    "### Animation"
   ]
  },
  {
   "cell_type": "code",
   "execution_count": null,
   "id": "11783bbc",
   "metadata": {},
   "outputs": [],
   "source": [
    "# --- Minimal, Colab-friendly ipywidgets demo for linear models: y = a + b x ---\n",
    "\n",
    "import numpy as np\n",
    "import matplotlib.pyplot as plt\n",
    "from ipywidgets import interact, FloatSlider\n",
    "\n",
    "# ---- Use your own (x, y) if already defined; otherwise create a small demo set ----\n",
    "try:\n",
    "    x, y\n",
    "except NameError:\n",
    "    rng = np.random.default_rng(0)\n",
    "    n = 60\n",
    "    x = np.linspace(-1.0, 1.0, n)\n",
    "    true_a, true_b = 0.2, -0.8\n",
    "    y = true_a + true_b * x + 0.15 * rng.standard_normal(n)\n",
    "\n",
    "# Dense grid for the model line\n",
    "x_grid = np.linspace(-1.0, 1.0, 400)\n",
    "X_grid = np.column_stack([np.ones_like(x_grid), x_grid])\n",
    "\n",
    "\n",
    "def linear_model(X, w):\n",
    "    # w = [a, b]  -> y = a + b*x\n",
    "    return X @ w\n",
    "\n",
    "# ---- Plot function (like your draw(n=...)) ----\n",
    "\n",
    "\n",
    "def draw(a=0.0, b=0.0):\n",
    "    y_pred = linear_model(X_grid, np.array([a, b]))\n",
    "\n",
    "    plt.figure(figsize=(8.5, 5.5))\n",
    "    # data\n",
    "    plt.scatter(x, y, label='data', alpha=0.9)\n",
    "    # model line\n",
    "    plt.plot(x_grid, y_pred, label='model', color='k', linewidth=2)\n",
    "    # label showing current parameters (matches your w0/w1 style)\n",
    "    plt.text(0.7, 0.05, f\"b={a:.2f}, m={b:.2f}\",\n",
    "             transform=plt.gca().transAxes,fontsize=16)\n",
    "\n",
    "    plt.xlabel(r\"$x$\",fontsize=16)\n",
    "    plt.ylabel(r\"$f(x)$\", fontsize=16)\n",
    "    plt.ylim(min(y.min(), y_pred.min()) - 0.5,\n",
    "             max(y.max(), y_pred.max()) + 0.5)\n",
    "    plt.legend(loc=\"upper left\")\n",
    "    plt.tight_layout()\n",
    "    plt.show()\n",
    "\n",
    "\n",
    "# ---- Widgets: only a and b ----\n",
    "interact(\n",
    "    draw,\n",
    "    a=FloatSlider(value=0.0, min=-2.5, max=2.5, step=0.01, description=\"b\"),\n",
    "    b=FloatSlider(value=0.0, min=-2.5, max=2.5, step=0.01, description=\"m\"),\n",
    ")"
   ]
  }
 ],
 "metadata": {
  "kernelspec": {
   "display_name": "chem3pc3",
   "language": "python",
   "name": "python3"
  },
  "language_info": {
   "codemirror_mode": {
    "name": "ipython",
    "version": 3
   },
   "file_extension": ".py",
   "mimetype": "text/x-python",
   "name": "python",
   "nbconvert_exporter": "python",
   "pygments_lexer": "ipython3",
   "version": "3.12.4"
  }
 },
 "nbformat": 4,
 "nbformat_minor": 5
}
