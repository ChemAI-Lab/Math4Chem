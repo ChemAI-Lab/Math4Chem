{
 "cells": [
  {
   "cell_type": "markdown",
   "metadata": {},
   "source": [
    "# Introduction to Linear Algebra\n",
    "\n",
    "In this section we are going to go over some basic Linear Algebra operations in Python. <br>\n",
    "\n",
    "This tutorial can be deployed in [![Open In Colab](https://colab.research.google.com/assets/colab-badge.svg)](https://colab.research.google.com/github/ChemAI-Lab/Math4Chem/blob/main/website/Lecture_Notes/Notes/Coding/intro_linear_algebra.ipynb)"
   ]
  },
  {
   "cell_type": "code",
   "execution_count": 1,
   "metadata": {},
   "outputs": [],
   "source": [
    "import numpy as np\n",
    "import matplotlib\n",
    "import matplotlib.pyplot as plt"
   ]
  },
  {
   "cell_type": "markdown",
   "metadata": {},
   "source": [
    "From our previous lecture, we saw that under the structure of **tensors** we can define the following structures,\n",
    "1. **Scalars** -> zero-order tensors\n",
    "2. **Vectors** -> fist-order tensors\n",
    "3. **Matrices** -> second-order tensors"
   ]
  },
  {
   "cell_type": "code",
   "execution_count": 2,
   "metadata": {},
   "outputs": [
    {
     "name": "stdout",
     "output_type": "stream",
     "text": [
      "scalar\n",
      "shape ()\n",
      "---------------\n",
      "vector\n",
      "shape (1,) 10.0\n",
      "shape (6,)\n",
      "---------------\n",
      "matrix\n",
      "[[1 2 3]\n",
      " [4 5 6]\n",
      " [7 8 9]]\n",
      "shape (3, 3)\n",
      "---------------\n"
     ]
    }
   ],
   "source": [
    "# scalar \n",
    "x = np.array(10.)\n",
    "print('scalar')\n",
    "print('shape', x.shape)\n",
    "print('---------------')\n",
    "\n",
    "# vectors\n",
    "x = np.array([10.])\n",
    "print('vector')\n",
    "print('shape', x.shape, x[0])\n",
    "\n",
    "x = np.array([10,11,12,13,14,15])\n",
    "print('shape', x.shape)\n",
    "print('---------------')\n",
    "\n",
    "# matrix \n",
    "x = np.array([[1, 2, 3], [4, 5, 6], [7, 8, 9]])\n",
    "print('matrix')\n",
    "print(x)\n",
    "print('shape', x.shape)\n",
    "print('---------------')"
   ]
  },
  {
   "cell_type": "markdown",
   "metadata": {},
   "source": [
    "# Operations on Tensors \n",
    "In class we saw that tensors can have two types of operations:\n",
    "1. Elementwise operations\n",
    "2. Not-elementwise operations "
   ]
  },
  {
   "cell_type": "markdown",
   "metadata": {},
   "source": [
    "## Elementwise operations for vectors\n",
    "1. Scalar multiplication,   ``c*v``\n",
    "2. Vector addition,  ``u + v``\n",
    "3. Elementwise multiplication, ``u*v``"
   ]
  },
  {
   "cell_type": "code",
   "execution_count": 3,
   "metadata": {},
   "outputs": [
    {
     "name": "stdout",
     "output_type": "stream",
     "text": [
      "Vector u: [4 5 6]\n",
      "Vector v: [1 2 3]\n",
      "Scalar multiplication: [ 8 10 12]\n",
      "Vector addition: [5 7 9]\n",
      "Elementwise multiplication: [ 4 10 18]\n"
     ]
    }
   ],
   "source": [
    "# Defining a vector\n",
    "v = np.array([1, 2, 3])\n",
    "u = np.array([4, 5,6])\n",
    "print(\"Vector u:\", u)\n",
    "print(\"Vector v:\", v)\n",
    "\n",
    "# Basic operations on vectors using Numpy\n",
    "print(\"Scalar multiplication:\", 2 * u)\n",
    "print(\"Vector addition:\", v + u)\n",
    "print(\"Elementwise multiplication:\", u * v)"
   ]
  },
  {
   "cell_type": "markdown",
   "metadata": {},
   "source": [
    "I am a big fan of Numpy; however given that you are new to python we are going to code these three operations from scratch."
   ]
  },
  {
   "cell_type": "code",
   "execution_count": 4,
   "metadata": {},
   "outputs": [],
   "source": [
    "# Scalar multiplication\n",
    "# write a function that iterates over the vector and multiplies each element with c\n",
    "\n",
    "def scalar_multiplication(c,x):\n",
    "    cx = x.copy() # vector cx will be the variable to store c*x\n",
    "    n = x.shape[0] # number of elements\n",
    "    for i in range(n):\n",
    "        cx[i] = c*x[i]\n",
    "    return cx"
   ]
  },
  {
   "cell_type": "code",
   "execution_count": 5,
   "metadata": {},
   "outputs": [
    {
     "name": "stdout",
     "output_type": "stream",
     "text": [
      "vector [0.74500909 0.31018572 0.33193346 0.28201042 0.58717913]\n",
      "ours [1.49001818 0.62037145 0.66386691 0.56402083 1.17435826]\n",
      "Numpy [1.49001818 0.62037145 0.66386691 0.56402083 1.17435826]\n"
     ]
    }
   ],
   "source": [
    "# test the scalar_multiplication function\n",
    "\n",
    "x = np.random.uniform(size=(5,)) # random vector\n",
    "c = 2. # scalar value \n",
    "\n",
    "print('vector', x)\n",
    "print('ours', scalar_multiplication(c, x))\n",
    "print('Numpy', c*x) # test your implementation is correct"
   ]
  },
  {
   "cell_type": "code",
   "execution_count": null,
   "metadata": {},
   "outputs": [],
   "source": [
    "# Vector addition\n",
    "# write a function that computes the addition of two vectors. \n",
    "\n",
    "def vector_addition(u,v):\n",
    "    nu = u.shape[0]\n",
    "    nv = v.shape[0]\n",
    "    \n",
    "    # vector u_plus_v will be the variable to store u + v\n",
    "    u_plus_v = np.zeros_like(u) # check what this command does\n",
    "    \n",
    "    # code here\n",
    "    if nu != nv:\n",
    "        raise ValueError(\"Vectors must be the same length!\")\n",
    "    \n",
    "    for i in range(nu):\n",
    "        u_plus_v[i] = u[i] + v[i]\n",
    "    \n",
    "    return u_plus_v"
   ]
  },
  {
   "cell_type": "code",
   "execution_count": 9,
   "metadata": {},
   "outputs": [
    {
     "name": "stdout",
     "output_type": "stream",
     "text": [
      "vector u [0.48356335 0.7889297  0.54426769 0.12125586]\n",
      "vector v [0.04011335 0.98923097 0.92717393 0.21319354]\n",
      "ours [0.5236767  1.77816067 1.47144162 0.3344494 ]\n",
      "Numpy [0.5236767  1.77816067 1.47144162 0.3344494 ]\n"
     ]
    }
   ],
   "source": [
    "# test the vector_addition function\n",
    "u = np.random.uniform(size=(4,))  # random vector\n",
    "v = np.random.uniform(size=(4,))  # random vector\n",
    "\n",
    "print('vector u', u)\n",
    "print('vector v', v)\n",
    "print('ours', vector_addition(u, v))\n",
    "print('Numpy', u+v)  # test your implementation is correct"
   ]
  },
  {
   "cell_type": "code",
   "execution_count": null,
   "metadata": {},
   "outputs": [],
   "source": [
    "# test the vector_addition function for two vectors with different dimensions\n",
    "u = np.random.uniform(size=(5,))  # random vector\n",
    "v = np.random.uniform(size=(6,))  # random vector\n",
    "\n",
    "print('vector u', u)\n",
    "print('vector v', v)\n",
    "print('ours', vector_addition(u, v))\n",
    "print('Numpy', u+v)  # test your implementation is correct"
   ]
  },
  {
   "cell_type": "code",
   "execution_count": null,
   "metadata": {},
   "outputs": [],
   "source": [
    "# Vector multiplication\n",
    "# write a function that multiplies two vectors\n",
    "\n",
    "def vector_multiplication(u, v):\n",
    "    # code here\n",
    "    # use the variable named u_times_v to store the multiplication of the two vectors\n",
    "    \n",
    "    return u_times_v"
   ]
  },
  {
   "cell_type": "code",
   "execution_count": null,
   "metadata": {},
   "outputs": [],
   "source": [
    "# test the vector_multiplication function for two vectors with different dimensions\n",
    "u = np.random.uniform(size=(5,))  # random vector\n",
    "v = np.random.uniform(size=(5,))  # random vector\n",
    "\n",
    "print('vector u', u)\n",
    "print('vector v', v)\n",
    "print('ours', vector_multiplication(u, v))\n",
    "print('Numpy', u*v)  # test your implementation is correct"
   ]
  },
  {
   "cell_type": "markdown",
   "metadata": {},
   "source": [
    "There are many other element-wise operations for vectors. <br>\n",
    "For example, in previous classes we use a function to compute the pressure given a volume. \n",
    "\n",
    "Let's use the idea gas law to compute the pressure given a volume at a constant temperature. \n",
    "From the well known equation, $PV= nRT$, we get,\n",
    "$$ \n",
    "P = \\frac{nRT}{V}\n",
    "$$\n",
    "\n",
    "Plot Isotherms of an ideal gas for different temperatures, for simplicity, assume $nR = 1$.\n"
   ]
  },
  {
   "cell_type": "code",
   "execution_count": null,
   "metadata": {},
   "outputs": [],
   "source": [
    "def pressure_function(V,Ti):\n",
    "    # Ti is a single temperature value NOT an array.\n",
    "    # V is an array of volume values\n",
    "    \n",
    "    # code here\n",
    "    # use the variable named P to store the value of pressure at different volumes\n",
    "    \n",
    "    return P"
   ]
  },
  {
   "cell_type": "code",
   "execution_count": null,
   "metadata": {},
   "outputs": [],
   "source": [
    "# test your function, plot some isotherms curves\n",
    "v_min = 10\n",
    "v_max = 100\n",
    "n_v_grid = 100\n",
    "v = np.linspace(v_min, v_max,n_v_grid)\n",
    "T = 1.\n",
    "\n",
    "for ti in [100,150,200,250]: # loop over different temperatures\n",
    "    p = pressure_function(v,ti)\n",
    "\n",
    "    plt.plot(v, p, label=ti)\n",
    "\n",
    "plt.legend()\n",
    "plt.xlabel('Volume',fontsize=18)\n",
    "plt.ylabel('Pressure',fontsize=18)"
   ]
  },
  {
   "cell_type": "markdown",
   "metadata": {},
   "source": [
    "## Dot product\n",
    "As we will see in the course. The **dot product** is one of the most used functions in linear algebra.\n",
    "$$\n",
    "\\mathbf{u} \\cdot \\mathbf{v} = \\mathbf{u}\\top \\mathbf{v} = \\|\\mathbf{u} \\| \\|\\mathbf{v} \\| \\cos(\\theta)\n",
    "$$\n",
    "\n",
    "We can also compute the dot product using the following equation,\n",
    "$$\n",
    "\\mathbf{u} \\cdot \\mathbf{v} = \\sum_{i=0}^{n} u_i v_i\n",
    "$$\n",
    "\n",
    "Let's compute the angle $\\theta$ using both equations. \n",
    "$$\n",
    "\\theta = \\cos^{-1} \\left (\\frac{\\sum_{i=0}^{n} u_i v_i}{\\|\\mathbf{u} \\| \\|\\mathbf{v} \\|}\\right ),\n",
    "$$\n",
    "where, $\\cos^{-1}(x)$ is the [arc cosine](https://en.wikipedia.org/wiki/Inverse_trigonometric_functions). <br>\n",
    "\n",
    "For this task, we are required the following building blocks,\n",
    "1. The dot product given the sum of the multiplication between the elements of the vectors.\n",
    "2. The norm of a vector, $\\|\\mathbf{u} \\| = \\sqrt{\\mathbf{u}\\cdot \\mathbf{u}}$\n",
    "3. Arc cosine, which in Numpy is ``np.arccos()``.\n",
    "\n"
   ]
  },
  {
   "cell_type": "markdown",
   "metadata": {},
   "source": [
    "# Distance between vectors\n",
    "We can also quantify the Euclidean distance between vectors. \n",
    "$$\n",
    "d(\\mathbf{u},\\mathbf{v}) = \\sqrt{\\sum_{i=1}^n (u_i - v_i)^2 }.\n",
    "$$\n",
    "\n",
    "We can also write the Euclidean distance as,\n",
    "$$\n",
    "d(\\mathbf{u},\\mathbf{v}) = \\| \\mathbf{u} - \\mathbf{v} \\|_2.\n",
    "$$"
   ]
  },
  {
   "cell_type": "code",
   "execution_count": null,
   "metadata": {},
   "outputs": [],
   "source": [
    "# at home create a function for the Euclidean distance using all the resources from this tutorial.\n",
    "def EuclideanDistance_full(u,v):\n",
    "    # code here\n",
    "    # use the variable named d to store the value of the Euclidean distance\n",
    "    \n",
    "    return d"
   ]
  },
  {
   "cell_type": "code",
   "execution_count": null,
   "metadata": {},
   "outputs": [],
   "source": [
    "# Euclidean distance using Numpy\n",
    "def EuclideanDistance(u,v):\n",
    "    uv = u - v\n",
    "    uv = np.power(uv,2)\n",
    "    uv_sum = np.sum(uv)\n",
    "    d = np.sqrt(uv_sum)\n",
    "    return d"
   ]
  },
  {
   "cell_type": "code",
   "execution_count": null,
   "metadata": {},
   "outputs": [],
   "source": [
    "u = np.random.uniform(size=(5,))  # random vector\n",
    "v = np.random.uniform(size=(5,))  # random vector\n",
    "\n",
    "print('vector u', u)\n",
    "print('vector v', v)\n",
    "\n",
    "print('ED: ', EuclideanDistance(u,v))\n",
    "\n",
    "# prove (numerically) that d(u,v) = d(v,u)\n",
    "# code here\n"
   ]
  },
  {
   "cell_type": "markdown",
   "metadata": {},
   "source": [
    "We can use the following function in Numpy to verify our code.<br>\n",
    "[``np.linalg.norm(x)``](https://numpy.org/doc/stable/reference/generated/numpy.linalg.norm.html)"
   ]
  },
  {
   "cell_type": "code",
   "execution_count": null,
   "metadata": {},
   "outputs": [],
   "source": [
    "print('ED(numpy): ', np.linalg.norm(u-v))"
   ]
  },
  {
   "cell_type": "markdown",
   "metadata": {},
   "source": [
    "# Cross product\n",
    "\n",
    "Next class, I will introduce to you guys an additional vector operation named **cross product**.<br>\n",
    "For three dimensional vectors, using the physics notation, $\\mathbf{u} = u_x\\mathbf{i} + u_y\\mathbf{j} + u_z\\mathbf{k}$, where $\\mathbf{i},\\mathbf{j}$ and $\\mathbf{k}$ are unitary vectors, the cross product is defined as,\n",
    "$$\n",
    "\\mathbf{u} \\times \\mathbf{v} = (u_y v_z - u_z v_y)\\mathbf{i} +(u_z v_x - u_x v_z)\\mathbf{j} + (u_x v_y - u_y v_x)\\mathbf{k}\\\\\n",
    "\\mathbf{u} \\times \\mathbf{v} = [u_y v_z - u_z v_y, u_z v_x - u_x v_z,u_x v_y - u_y v_x]\n",
    "$$\n",
    "\n",
    "Compute the cross product of two vectors in three dimensions.\n",
    "\n",
    "You can verify that the cross product using Numpy's cross product function,\n",
    "[``np.cross()``](https://numpy.org/doc/stable/reference/generated/numpy.cross.html)"
   ]
  },
  {
   "cell_type": "code",
   "execution_count": null,
   "metadata": {},
   "outputs": [],
   "source": [
    "def cross_product(u,v):\n",
    "    #code here\n",
    "    zx =        # u_y v_z - u_z v_y\n",
    "    zy =        # u_z v_x - u_x v_z\n",
    "    zz =        # u_x v_y - u_y v_x\n",
    "    \n",
    "    z = np.array([zx,zy,zz])\n",
    "    return z\n",
    "    "
   ]
  },
  {
   "cell_type": "code",
   "execution_count": null,
   "metadata": {},
   "outputs": [],
   "source": [
    "u = np.random.uniform(size=(3,))  # random vector\n",
    "v = np.random.uniform(size=(3,))  # random vector\n",
    "\n",
    "print('vector u', u)\n",
    "print('vector v', v)\n",
    "print('cross product ', cross_product(u, v))\n",
    "\n",
    "print('cross product (Numpy) ', np.cross(u,v))"
   ]
  },
  {
   "cell_type": "markdown",
   "metadata": {},
   "source": []
  }
 ],
 "metadata": {
  "kernelspec": {
   "display_name": "chem3pc3",
   "language": "python",
   "name": "python3"
  },
  "language_info": {
   "codemirror_mode": {
    "name": "ipython",
    "version": 3
   },
   "file_extension": ".py",
   "mimetype": "text/x-python",
   "name": "python",
   "nbconvert_exporter": "python",
   "pygments_lexer": "ipython3",
   "version": "3.12.4"
  }
 },
 "nbformat": 4,
 "nbformat_minor": 2
}
