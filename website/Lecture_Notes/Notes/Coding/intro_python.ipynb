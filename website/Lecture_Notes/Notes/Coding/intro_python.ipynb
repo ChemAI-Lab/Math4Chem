{
 "cells": [
  {
   "cell_type": "markdown",
   "id": "c808f4b3",
   "metadata": {},
   "source": [
    "# Introduction to Python\n",
    "\n",
    "In this tutorial, we will learn some basic concepts of Python programming language. <br>\n",
    "\n",
    "We will cover the following topics:\n",
    "1. Import the required libraries\n",
    "2. Basic structure of Python functions\n",
    "3. Loops vs Vectors\n",
    "\n",
    "This tutorial can be deployed in  [![Open In Colab](https://colab.research.google.com/assets/colab-badge.svg)](\n",
    "https://colab.research.google.com/github/ChemAI-Lab/Math4Chem/blob/main/website/Lecture_Notes/Notes/Coding/intro_python.ipynb\n",
    ")"
   ]
  },
  {
   "cell_type": "markdown",
   "id": "e57ebd0e",
   "metadata": {},
   "source": [
    "## Import libraries in Python\n",
    "\n",
    "Imports let you reuse code from the standard library or third‑party packages without rewriting it."
   ]
  },
  {
   "cell_type": "code",
   "execution_count": 2,
   "id": "61b7f4a5",
   "metadata": {},
   "outputs": [
    {
     "name": "stdout",
     "output_type": "stream",
     "text": [
      "3.141592653589793 4.0\n"
     ]
    }
   ],
   "source": [
    "# Import a whole module\n",
    "import math\n",
    "math.sqrt(9)\n",
    "\n",
    "# Import with an alias (shorter name)\n",
    "import numpy as np\n",
    "np.array([1, 2, 3])\n",
    "\n",
    "# Import specific names from a module\n",
    "from math import pi, sqrt\n",
    "print(pi, sqrt(16))\n",
    "\n",
    "# Import a submodule\n",
    "import pandas.testing as pdt"
   ]
  },
  {
   "cell_type": "markdown",
   "id": "67a126ed",
   "metadata": {},
   "source": [
    "\n",
    "### Good Practices\n",
    "* Put all imports at the top of the file.\n",
    "* Use clear aliases (e.g., import numpy as np, import pandas as pd).\n",
    "* Prefer explicit imports over from module import * (avoids name collisions).\n",
    "* One import per line is clearer and follows PEP 8."
   ]
  },
  {
   "cell_type": "code",
   "execution_count": null,
   "id": "63c364ff",
   "metadata": {},
   "outputs": [],
   "source": [
    "# Let's import the Numpy and Matplotlib libraries.\n",
    "# 1) import numpy with the np alias\n",
    "# 2) import the whole matplotlib module\n",
    "# 3) import the submodule pyplot from matplotlib with the plt alias\n",
    "\n",
    "# code here!"
   ]
  },
  {
   "cell_type": "code",
   "execution_count": null,
   "id": "34db1a19",
   "metadata": {},
   "outputs": [],
   "source": [
    "# to check that the libraries are imported correctly, we can print their versions\n",
    "print(np.__version__)\n",
    "print(matplotlib.__version__)"
   ]
  },
  {
   "cell_type": "markdown",
   "id": "34ad8626",
   "metadata": {},
   "source": [
    "## Basic structure of Python functions\n",
    "\n",
    "* **Function Basics**\n",
    "* **Definition:** Use `def name(params):` and an indented body.\n",
    "* **Function's name:** `name` is the name of the function.\n",
    "* **Arguments:** `params` is the argument variable that is feed into `name`.\n",
    "* **Docstring (optional):** Triple-quoted string explaining what it does.\n",
    "* **Return:** `return` sends a value back; without it, `returns None`.\n",
    "* **Docstring:** First string in the body documents the function."
   ]
  },
  {
   "cell_type": "code",
   "execution_count": null,
   "id": "73b8f3cd",
   "metadata": {},
   "outputs": [],
   "source": [
    "def hello_world():\n",
    "    return print(\"Hello world!\")"
   ]
  },
  {
   "cell_type": "code",
   "execution_count": null,
   "id": "b86baa87",
   "metadata": {},
   "outputs": [],
   "source": [
    "def greet(name): # header: name is the parameter/argument\n",
    "    \"\"\"Return a friendly greeting for the given name.\"\"\" # docstring: explains what the function does\n",
    "    message = f\"Hello, {name}!\"   # body: do work\n",
    "    return message                 # return a value (not required)"
   ]
  },
  {
   "cell_type": "markdown",
   "id": "24760833",
   "metadata": {},
   "source": [
    "**Key Points**\n",
    "\n",
    "* **Call:** Use `greet(\"Rodrigo\")` to run it.\n",
    "* **Parameters:** Inputs listed in parentheses; can have defaults (`def greet(name=\"friend\"):`).\n",
    "* **Indentation:** All lines in the body align under the header.\n",
    "* **Print vs return:** `print(...)` shows text on screen; return gives data back to the program.\n"
   ]
  },
  {
   "cell_type": "code",
   "execution_count": null,
   "id": "d76ab12a",
   "metadata": {},
   "outputs": [],
   "source": [
    "# let's use our functions\n",
    "hello_world()\n",
    "name = \"Rodrigo1\"\n",
    "print(greet(name))\n",
    "print(greet(\"Rodrigo2\"))"
   ]
  },
  {
   "cell_type": "markdown",
   "id": "149f1f47",
   "metadata": {},
   "source": [
    "### Exercise\n",
    "\n",
    "Write a function named `greed_full_name` where it accepts two arguments, `name` and `surname`, and returns the full name. <br>\n",
    "We want to print the surname and then the name. "
   ]
  },
  {
   "cell_type": "code",
   "execution_count": null,
   "id": "56db291e",
   "metadata": {},
   "outputs": [],
   "source": [
    "# code here!\n",
    "def greet_full_name(name, surname):\n",
    "    \"\"\" Return the full name by combining name and surname.\"\"\"\n",
    "    \n",
    "    return full_name"
   ]
  },
  {
   "cell_type": "code",
   "execution_count": null,
   "id": "de2f75ae",
   "metadata": {},
   "outputs": [],
   "source": [
    "# test your function\n",
    "name = \"Luffy\"\n",
    "surname = \"Monkey D.\"\n",
    "full_name = greet_full_name(name, surname)\n",
    "print( full_name )"
   ]
  },
  {
   "cell_type": "markdown",
   "id": "034752ca",
   "metadata": {},
   "source": [
    "## Exercise 1: Write a Function to Convert Temperatures ##\n",
    "\n",
    "**Goal:** practice variables, math operations, defining functions, and indentation.\n",
    "\n",
    "**Problem statement:** <br>\n",
    "Write a function that converts a temperature from Celsius to Fahrenheit: <br>\n",
    "\n",
    "$$\n",
    "F = \\frac{9}{5}C + 32\n",
    "$$"
   ]
  },
  {
   "cell_type": "code",
   "execution_count": null,
   "id": "1f40cfde",
   "metadata": {},
   "outputs": [],
   "source": [
    "# code here!\n",
    "def celsius_to_fahrenheit(celsius):\n",
    "    \"\"\" Convert a temperature from Celsius to Fahrenheit.\"\"\"\n",
    "    \n",
    "    return fahrenheit"
   ]
  },
  {
   "cell_type": "code",
   "execution_count": null,
   "id": "7cdfa7d8",
   "metadata": {},
   "outputs": [],
   "source": [
    "# test your function\n",
    "temp_c = 37  # human body temperature in Celsius\n",
    "temp_f = celsius_to_fahrenheit(temp_c)\n",
    "print(f\"{temp_c}°C is {temp_f}°F\")"
   ]
  },
  {
   "cell_type": "markdown",
   "id": "f9e4a22c",
   "metadata": {},
   "source": [
    "Let's \"clean\" the function, as you can see the we have more digits than the needed ones. <br>\n",
    "Use ``np.round`` to limit results to a fixed number of decimal places. <br>\n",
    "\n",
    "**Problem:** Write another function that converts Celsius to Fahrenheit, rounding the result to 1 decimal place. <br>\n",
    "\n",
    "**Requirements:**\n",
    "* **Input:** Celsius temperature (number).\n",
    "* **Output:** Fahrenheit temperature (number) rounded to 1 decimal place.\n",
    "* Use  ``np.round(value, 1)``."
   ]
  },
  {
   "cell_type": "code",
   "execution_count": null,
   "id": "30a6c5d0",
   "metadata": {},
   "outputs": [],
   "source": [
    "# code here!\n",
    "def celsius_to_fahrenheit_1digit(celsius):\n",
    "    \"\"\" Convert a temperature from Celsius to Fahrenheit. Round to 1 decimal place.\"\"\"\n",
    "    \n",
    "    return fahrenheit"
   ]
  },
  {
   "cell_type": "code",
   "execution_count": null,
   "id": "2ebc3147",
   "metadata": {},
   "outputs": [],
   "source": [
    "# test your function\n",
    "temp_c = 37  # human body temperature in Celsius\n",
    "temp_f = celsius_to_fahrenheit_1digit(temp_c)\n",
    "print(f\"{temp_c}°C is {temp_f}°F\")"
   ]
  },
  {
   "cell_type": "markdown",
   "id": "109931ca",
   "metadata": {},
   "source": [
    "# Loops vs Vectors in Python\n",
    "\n",
    "When writing numerical programs, we often create functions that will be called many times — for example, inside a simulation, an optimization routine, or a data analysis pipeline. If each function call relies on a Python loop, the program may quickly become slow and harder to read.\n",
    "\n",
    "Instead, we can use NumPy arrays and vectorized operations, which let us express the same idea more directly. This not only makes the code shorter and easier to maintain, but also allows it to run much faster, especially when functions are used repeatedly on large datasets.\n",
    "\n",
    "In this tutorial, we’ll compare:\n",
    "\n",
    "A loop-based implementation (step-by-step, pure Python).\n",
    "\n",
    "A vectorized NumPy implementation (cleaner and optimized).\n",
    "\n",
    "This will highlight why vectorization is a core habit in numerical programming."
   ]
  },
  {
   "cell_type": "markdown",
   "id": "254923c4",
   "metadata": {},
   "source": [
    "## Sum of Squares\n",
    "\n",
    "**Goal:** practice loops, accumulation, and indentation.\n",
    "\n",
    "**Problem statement:**\n",
    "Write a program that computes the sum of the squares of the first n natural numbers:\n",
    "$$\n",
    "y = 1^2 + 2^2 + 3^3 + ... + n^2\n",
    "$$"
   ]
  },
  {
   "cell_type": "code",
   "execution_count": null,
   "id": "40d73350",
   "metadata": {},
   "outputs": [],
   "source": [
    "# sum of squares in Numpy\n",
    "def sum_of_squares_numpy(n):\n",
    "    numbers =   # array [1, 2, ..., n]\n",
    "    squares =           # element-wise square numpy.square\n",
    "    return  # sum of all elements numpy.sum\n"
   ]
  },
  {
   "cell_type": "code",
   "execution_count": null,
   "id": "eb0818d9",
   "metadata": {},
   "outputs": [],
   "source": [
    "# test your function\n",
    "n = 3\n",
    "result = sum_of_squares_numpy(n)\n",
    "print(f\"Sum of squares of first {n} natural numbers is: {result}\")"
   ]
  },
  {
   "cell_type": "code",
   "execution_count": null,
   "id": "58ba2b98",
   "metadata": {},
   "outputs": [],
   "source": [
    "# Sum of Squares using Loops (Pure Python)\n",
    "def sum_of_squares_loop(n):\n",
    "    total = 0\n",
    "    # for loop here!\n",
    "        # accumulate the square of i to total\n",
    "    return total"
   ]
  },
  {
   "cell_type": "code",
   "execution_count": null,
   "id": "4db8fbb5",
   "metadata": {},
   "outputs": [],
   "source": [
    "# test your function\n",
    "n = 3\n",
    "result = sum_of_squares_loop(n)\n",
    "print(f\"Sum of squares of first {n} natural numbers is: {result}\")"
   ]
  },
  {
   "cell_type": "markdown",
   "id": "3a07d879",
   "metadata": {},
   "source": [
    "# Final Exercise: Numpy Functions\n",
    "What happens when we call `celsius_to_fahrenheit` but `temp_c` is a numpy array? "
   ]
  },
  {
   "cell_type": "code",
   "execution_count": null,
   "id": "85c8c509",
   "metadata": {},
   "outputs": [],
   "source": [
    "# code here!\n",
    "temp_c = np.array([0, 20, 37, 100])  # array of temperatures in Celsius\n",
    "temp_f = celsius_to_fahrenheit(temp_c)\n",
    "print(f\"Temperatures in Celsius: {temp_c}\")\n",
    "print(f\"Temperatures in Fahrenheit: {temp_f}\")"
   ]
  }
 ],
 "metadata": {
  "kernelspec": {
   "display_name": "chem3pc3",
   "language": "python",
   "name": "python3"
  },
  "language_info": {
   "codemirror_mode": {
    "name": "ipython",
    "version": 3
   },
   "file_extension": ".py",
   "mimetype": "text/x-python",
   "name": "python",
   "nbconvert_exporter": "python",
   "pygments_lexer": "ipython3",
   "version": "3.12.4"
  }
 },
 "nbformat": 4,
 "nbformat_minor": 5
}
