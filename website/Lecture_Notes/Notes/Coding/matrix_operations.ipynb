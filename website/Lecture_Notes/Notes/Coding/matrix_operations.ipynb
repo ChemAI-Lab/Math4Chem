{
 "cells": [
  {
   "cell_type": "markdown",
   "metadata": {},
   "source": [
    "# Matrix operations\n",
    "\n",
    "In this section we are going to review some basic matrix operations in Python. <br>\n",
    "\n",
    "This tutorial can be deployed in [![Open In Colab](https://colab.research.google.com/assets/colab-badge.svg)](https://colab.research.google.com/github/ChemAI-Lab/Math4Chem/blob/main/website/Lecture_Notes/Notes/Coding/matrix_operations.ipynb)"
   ]
  },
  {
   "cell_type": "code",
   "execution_count": 1,
   "metadata": {},
   "outputs": [],
   "source": [
    "import numpy as np\n",
    "import matplotlib\n",
    "import matplotlib.pyplot as plt"
   ]
  },
  {
   "cell_type": "markdown",
   "metadata": {},
   "source": [
    "# Dot Product\n",
    "In the previous tutorial, <br>\n",
    "[![Open In Colab](https://colab.research.google.com/assets/colab-badge.svg)](https://colab.research.google.com/github/ChemAI-Lab/Math4Chem/blob/main/website/Lecture_Notes/Notes/Coding/intro_linear_algebra.ipynb) <br>\n",
    "we review some of the most common operations on vectors, including the **dot product**.\n",
    "$$\n",
    "\\mathbf{u}^\\top \\mathbf{v} = \\sum_i^n u_i v_j\n",
    "$$"
   ]
  },
  {
   "cell_type": "code",
   "execution_count": 4,
   "metadata": {},
   "outputs": [],
   "source": [
    "def dot_product(u,v):\n",
    "    nu = u.shape[0]\n",
    "    nv = v.shape[0]\n",
    "    \n",
    "    if nu != nv:\n",
    "        raise ValueError(\"Vectors must be the same length!\")\n",
    "    \n",
    "    value = 0.\n",
    "    for i in range(nu):\n",
    "        value += u[i] * v[i]\n",
    "    return value\n"
   ]
  },
  {
   "cell_type": "code",
   "execution_count": 5,
   "metadata": {},
   "outputs": [
    {
     "name": "stdout",
     "output_type": "stream",
     "text": [
      "dot product(ours):  34.0\n",
      "dot product(Numpy):  34\n"
     ]
    }
   ],
   "source": [
    "# let's test our function\n",
    "v = np.random.randint(low=-10, high=10, size=5)\n",
    "u = np.random.randint(low=-10, high=10, size=5)\n",
    "\n",
    "print('dot product(ours): ', dot_product(u, v))\n",
    "print('dot product(Numpy): ', v.T @ u)"
   ]
  },
  {
   "cell_type": "markdown",
   "metadata": {},
   "source": [
    "# Matrix-Vector Multiplication\n",
    "As we saw in class, matrix-vector multiplication can be define in terms of the **dot product** between the matrix A's rows and the vector.\n",
    "$$\n",
    "\\underbrace{\\mathbf{A}}_{(n,m)} \\underbrace{\\mathbf{v}}_{(n,1)} =  \\begin{pmatrix}\n",
    "\t\ta_{11}  & a_{12} & \\cdots & a_{1m}  \\\\ \n",
    "\t\ta_{21}  & a_{22} & \\cdots & a_{2m}  \\\\ \n",
    "\t\t\\vdots  &   &   & \\vdots  \\\\ \n",
    "\t\ta_{n1}  & a_{n2} & \\cdots & a_{nm}   \n",
    "\t\t\\end{pmatrix}\\begin{pmatrix}\n",
    "\t\tv_{1}  \\\\ \n",
    "\t\tv_{2}  \\\\ \n",
    "\t\t\\vdots \\\\ \n",
    "\t\tv_{m} \n",
    "\t\t\\end{pmatrix} = \\begin{pmatrix}\n",
    "\t\t\\mathbf{a}_{1}^\\top   \\\\ \n",
    "\t\t\\mathbf{a}_{2}^\\top \\\\ \n",
    "\t\t\\vdots  \\\\ \n",
    "\t\t\\mathbf{a}_{n}^\\top\n",
    "\t\t\\end{pmatrix}\\begin{pmatrix}\n",
    "\t\tv_{1}  \\\\ \n",
    "\t\tv_{2}  \\\\ \n",
    "\t\t\\vdots \\\\ \n",
    "\t\tv_{m} \n",
    "\t\t\\end{pmatrix} = \\underbrace{\\begin{pmatrix}\n",
    "\t\t\\mathbf{a}_{1}^\\top \\mathbf{v}  \\\\ \n",
    "\t\t\\mathbf{a}_{2}^\\top \\mathbf{v} \\\\ \n",
    "\t\t\\vdots  \\\\ \n",
    "\t\t\\mathbf{a}_{n}^\\top  \\mathbf{v}\n",
    "\t\t\\end{pmatrix}}_{(n,1)} \n",
    "$$\n",
    "\n",
    "Using this definition, let's code the matrix-vector multiplication function."
   ]
  },
  {
   "cell_type": "code",
   "execution_count": null,
   "metadata": {},
   "outputs": [],
   "source": [
    "def matrix_vector_multiplication(A,v):\n",
    "    nv = v.shape[0] # size of vector\n",
    "    n,m  = A.shape # n rows, m columns\n",
    "\n",
    "    if  != : # check A and v have compatible sizes\n",
    "        ValueError(\"Matrix and vector have different size\")\n",
    "        \n",
    "\n",
    "    # code here\n",
    "    result = np.zeros(n)  # how many elements would the result have?\n",
    "    for i in range(n): # loop over rows of A\n",
    "        result[i] = \n",
    "\n",
    "    return result"
   ]
  },
  {
   "cell_type": "code",
   "execution_count": null,
   "metadata": {},
   "outputs": [],
   "source": [
    "# let's test our function\n",
    "v = np.random.randint(low=-2, high=2, size=5)\n",
    "a = np.random.randint(low=-2, high=2, size=(3,5))\n",
    "\n",
    "print(v)\n",
    "print(a)\n",
    "\n",
    "print('matrix-vector(ours): ', matrix_vector_multiplication(a, v))\n",
    "print('matrix-vector product(Numpy): ', a @ v)\n",
    "\n",
    "# what happens when we do a * v ?\n",
    "# print('dot product(Numpy): ', a * v)"
   ]
  },
  {
   "cell_type": "markdown",
   "metadata": {},
   "source": [
    "# Matrix-Matrix Multiplication\n",
    "Now, let's consider matrix-matrix multiplication, which can be define in terms of the **dot product** between the rows of matrix A and the columns of matrix B.\n",
    "$$\n",
    "\\underbrace{\\mathbf{A}}_{(n_A,m_A)} \\underbrace{\\mathbf{B}}_{(n_B,m_B)} =  \\begin{pmatrix}\n",
    "\t\ta_{11}  & a_{12} & \\cdots & a_{1m}  \\\\ \n",
    "\t\ta_{21}  & a_{22} & \\cdots & a_{2m}  \\\\ \n",
    "\t\t\\vdots  &   &   & \\vdots  \\\\ \n",
    "\t\ta_{n1}  & a_{n2} & \\cdots & a_{nm}   \n",
    "\t\t\\end{pmatrix}\\begin{pmatrix}\n",
    "\t\tb_{11}  & b_{12} & \\cdots & b_{1l}  \\\\ \n",
    "\t\tb_{21}  & b_{22} & \\cdots & b_{2l}  \\\\ \n",
    "\t\t\\vdots  &   &   & \\vdots  \\\\ \n",
    "\t\tb_{m1}  & b_{n2} & \\cdots & b_{ml}   \n",
    "\t\t\\end{pmatrix} =  \\begin{pmatrix}\n",
    "\t\t\\mathbf{a}_{1}^\\top \\mathbf{b}_{1} & \\mathbf{a}_{1}^\\top \\mathbf{b}_{2} & \\cdots & \\mathbf{a}_{1}^\\top \\mathbf{b}_{l}  \\\\ \n",
    "\t\t\\mathbf{a}_{2}^\\top \\mathbf{b}_{2} & \\mathbf{a}_{2}^\\top \\mathbf{b}_{2} & \\cdots & \\mathbf{a}_{2}^\\top \\mathbf{b}_{l}  \\\\  \n",
    "\t\t\\vdots  &   &   & \\vdots  \\\\  \n",
    "\t\t\\mathbf{a}_{n}^\\top \\mathbf{b}_{1} & \\mathbf{a}_{n}^\\top \\mathbf{b}_{2} & \\cdots & \\mathbf{a}_{n}^\\top \\mathbf{b}_{l}  \\\\ \n",
    "\t\t\\end{pmatrix} = \\underbrace{\\mathbf{C}}_{(n_A,m_b)}\n",
    "$$\n",
    "\n",
    "Using our ``matrix_vector_multiplication`` function, let's code the matrix-matrix multiplication function."
   ]
  },
  {
   "cell_type": "code",
   "execution_count": null,
   "metadata": {},
   "outputs": [],
   "source": [
    "def matrix_matrix_multiplication(a, b):\n",
    "    na, ma = a.shape # n rows, m columns\n",
    "    nb, mb = a.shape # n rows, m columns\n",
    "\n",
    "    if ma != nb:  # check if the number of columns in a are the same as the number of rows in b\n",
    "        ValueError(\"Matrices A and B have different size\")\n",
    "\n",
    "    # code here\n",
    "    result = np.zeros(shape=(    ))  # how many elements would the result have? (na,ma) x (nb,mb) = (na,mb)\n",
    "    \n",
    "    for j in range(): # loop over columns of b\n",
    "        result[:,j] =   # multiply each column of b by matrix A\n",
    "\n",
    "    return result\n"
   ]
  },
  {
   "cell_type": "code",
   "execution_count": null,
   "metadata": {},
   "outputs": [],
   "source": [
    "def matrix_matrix_multiplication_full(a, b):\n",
    "    na, ma = a.shape # n rows, m columns\n",
    "    nb, mb = a.shape # n rows, m columns\n",
    "\n",
    "    if ma != nb:  # check if the number of columns in a are the same as the number of rows in b\n",
    "        ValueError(\"Matrices A and B have different size\")\n",
    "\n",
    "    # code here\n",
    "    result = np.zeros(shape=(    ))  # how many elements would the result have? (na,ma) x (nb,mb) = (na,mb)\n",
    "\n",
    "    for i in range(    ): # loop over rows of a\n",
    "        for j in range(    ): # loop over columns of b\n",
    "            # compute the dot product between row i of a and column j of b\n",
    "            result[i,j] =\n",
    "    return result"
   ]
  },
  {
   "cell_type": "code",
   "execution_count": null,
   "metadata": {},
   "outputs": [],
   "source": [
    "# let's test our function\n",
    "b = np.random.randint(low=-2, high=2, size=(5,5))\n",
    "a = np.random.randint(low=-2, high=2, size=(5, 5))\n",
    "\n",
    "print(a)\n",
    "print('\\n')\n",
    "print(b)\n",
    "print('\\n')\n",
    "\n",
    "print('matrix-matrix(ours): ', matrix_matrix_multiplication(a, b))\n",
    "print('\\n')\n",
    "print('matrix-matrix(Numpy): ', a @ b)"
   ]
  },
  {
   "cell_type": "markdown",
   "metadata": {},
   "source": [
    "Comparing matrices is one of the most important computations in data science and code development as it provides a way to verify our computations.\n",
    "One of the common metrics to compare two matrices is the **Frobenius norm**,\n",
    "$$\n",
    "\\| \\mathbf{X}\\|_{F} = \\sqrt{\\sum_i \\sum_j x^2_{ij}}\n",
    "$$\n",
    "\n",
    "where $\\mathbf{X}$  can be the difference between two matrices, $\\mathbf{X} = \\mathbf{A} - \\mathbf{B}$<br>\n",
    "\n",
    "Some times to code the Frobenius norm differently, using only Numpy functions.<br>\n",
    "\n",
    "(Let's avoid looping over the entire matrix, $\\cancel{\\sum_i \\sum_j}$)<br>\n",
    "1. Use the Numpy function [``flatten()``](https://numpy.org/doc/2.0/reference/generated/numpy.ndarray.flatten.html)\n",
    "2. Use the Numpy function [``sum''](https://numpy.org/doc/stable/reference/generated/numpy.sum.html)"
   ]
  },
  {
   "cell_type": "code",
   "execution_count": null,
   "metadata": {},
   "outputs": [],
   "source": [
    "def frobenius_norm(A, B):\n",
    "    X = A - B\n",
    "    x_flat = X.flatten() # convert to 1D array, x_flat.shape = (n*m,)\n",
    "    x2_flat = x_flat**2 # square each element\n",
    "    return np.sqrt(np.sum(x2_flat))"
   ]
  },
  {
   "cell_type": "code",
   "execution_count": null,
   "metadata": {},
   "outputs": [],
   "source": [
    "# let's test our function\n",
    "a = np.random.randint(low=-2, high=2, size=(5, 5))\n",
    "b = np.random.randint(low=-2, high=2, size=(5, 5))\n",
    "\n",
    "print('F norm for A-B', frobenius_norm(a,b))\n"
   ]
  }
 ],
 "metadata": {
  "kernelspec": {
   "display_name": "chem3pc3",
   "language": "python",
   "name": "python3"
  },
  "language_info": {
   "codemirror_mode": {
    "name": "ipython",
    "version": 3
   },
   "file_extension": ".py",
   "mimetype": "text/x-python",
   "name": "python",
   "nbconvert_exporter": "python",
   "pygments_lexer": "ipython3",
   "version": "3.12.4"
  }
 },
 "nbformat": 4,
 "nbformat_minor": 2
}
