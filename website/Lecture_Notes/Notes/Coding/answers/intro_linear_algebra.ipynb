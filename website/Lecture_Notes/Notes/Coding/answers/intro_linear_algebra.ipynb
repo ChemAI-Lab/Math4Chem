{
 "cells": [
  {
   "cell_type": "markdown",
   "metadata": {},
   "source": [
    "# Introduction to Linear Algebra (Answer Keys)\n",
    "\n",
    "In this section we are going to go over some basic Linear Algebra operations in Python. <br>\n",
    "\n",
    "This tutorial can be deployed in [![Open In Colab](https://colab.research.google.com/assets/colab-badge.svg)](https://colab.research.google.com/github/ChemAI-Lab/Math4Chem/blob/main/website/Lecture_Notes/Notes/Coding/answers/intro_linear_algebra.ipynb)\n"
   ]
  },
  {
   "cell_type": "code",
   "execution_count": 28,
   "metadata": {},
   "outputs": [],
   "source": [
    "import numpy as np\n",
    "import matplotlib\n",
    "import matplotlib.pyplot as plt"
   ]
  },
  {
   "cell_type": "markdown",
   "metadata": {},
   "source": [
    "From our previous lecture, we saw that under the structure of **tensors** we can define the following structures,\n",
    "1. **Scalars** -> zero-order tensors\n",
    "2. **Vectors** -> fist-order tensors\n",
    "3. **Matrices** -> second-order tensors"
   ]
  },
  {
   "cell_type": "code",
   "execution_count": 29,
   "metadata": {},
   "outputs": [
    {
     "name": "stdout",
     "output_type": "stream",
     "text": [
      "scalar\n",
      "shape ()\n",
      "---------------\n",
      "vector\n",
      "shape (1,)\n",
      "shape (6,)\n",
      "---------------\n",
      "matrix\n",
      "[[1 2 3]\n",
      " [4 5 6]\n",
      " [7 8 9]]\n",
      "shape (3, 3)\n",
      "---------------\n"
     ]
    }
   ],
   "source": [
    "# scalar \n",
    "x = np.array(10.)\n",
    "print('scalar')\n",
    "print('shape', x.shape)\n",
    "print('---------------')\n",
    "\n",
    "# vectors\n",
    "x = np.array([10.])\n",
    "print('vector')\n",
    "print('shape', x.shape)\n",
    "\n",
    "x = np.array([10,11,12,13,14,15])\n",
    "print('shape', x.shape)\n",
    "print('---------------')\n",
    "\n",
    "\n",
    "# matrices\n",
    "x = np.array([[1,2,3],[4,5,6],[7,8,9]])\n",
    "print('matrix')\n",
    "print(x)\n",
    "print('shape', x.shape)\n",
    "print('---------------')"
   ]
  },
  {
   "cell_type": "markdown",
   "metadata": {},
   "source": [
    "# Operations on Tensors \n",
    "In class we saw that tensors can have two types of operations:\n",
    "1. Elementwise operations\n",
    "2. Not-elementwise operations "
   ]
  },
  {
   "cell_type": "markdown",
   "metadata": {},
   "source": [
    "## Elementwise operations for vectors\n",
    "1. Scalar multiplication,   ``c*v``\n",
    "2. Vector addition,  ``u + v``\n",
    "3. Elementwise multiplication, ``u*v``"
   ]
  },
  {
   "cell_type": "code",
   "execution_count": 3,
   "metadata": {},
   "outputs": [
    {
     "name": "stdout",
     "output_type": "stream",
     "text": [
      "Vector v: [1 2 3]\n",
      "Scalar multiplication: [2 4 6]\n",
      "Vector addition: [5 7 9]\n",
      "Elementwise multiplication: [ 4 10 18]\n"
     ]
    }
   ],
   "source": [
    "# Defining a vector\n",
    "v = np.array([1, 2, 3])\n",
    "u = np.array([4, 5, 6])\n",
    "print(\"Vector v:\", v)\n",
    "\n",
    "# Basic operations on vectors\n",
    "print(\"Scalar multiplication:\", 2 * v)\n",
    "print(\"Vector addition:\", v + u)\n",
    "print(\"Elementwise multiplication:\",u*v)"
   ]
  },
  {
   "cell_type": "markdown",
   "metadata": {},
   "source": [
    "I am a big fan of Numpy; however given that you are new to python we are going to code these three operations from scratch."
   ]
  },
  {
   "cell_type": "code",
   "execution_count": 18,
   "metadata": {},
   "outputs": [],
   "source": [
    "# Scalar multiplication\n",
    "# write a function that iterates over the vector and multiplies each element with c\n",
    "\n",
    "def scalar_multiplication(c,x):\n",
    "    cx = x.copy()\n",
    "    n = x.shape[0] # number of elements\n",
    "    for i in range(n):\n",
    "        cx[i] = c*x[i]\n",
    "    return cx"
   ]
  },
  {
   "cell_type": "code",
   "execution_count": 19,
   "metadata": {},
   "outputs": [
    {
     "name": "stdout",
     "output_type": "stream",
     "text": [
      "vector [0.96860437 0.24317104 0.14224979 0.91686355 0.76665946]\n",
      "ours [1.93720874 0.48634208 0.28449958 1.8337271  1.53331892]\n",
      "Numpy [1.93720874 0.48634208 0.28449958 1.8337271  1.53331892]\n"
     ]
    }
   ],
   "source": [
    "# test the scalar_multiplication function\n",
    "x = np.random.uniform(size=(5,)) # random vector\n",
    "c = 2. # scalar value \n",
    "print('vector', x)\n",
    "print('ours', scalar_multiplication(c, x))\n",
    "print('Numpy', c*x)"
   ]
  },
  {
   "cell_type": "code",
   "execution_count": 27,
   "metadata": {},
   "outputs": [],
   "source": [
    "# Vector addition\n",
    "# write a function that computes the addition of two vectors. \n",
    "\n",
    "def vector_addition(u,v):\n",
    "    nu = u.shape[0]\n",
    "    nv = v.shape[0]\n",
    "    \n",
    "    u_plus_v = np.zeros_like(u)\n",
    "    for i in range(nu):\n",
    "        u_plus_v[i] = u[i] + v[i]\n",
    "    return u_plus_v"
   ]
  },
  {
   "cell_type": "code",
   "execution_count": 24,
   "metadata": {},
   "outputs": [
    {
     "name": "stdout",
     "output_type": "stream",
     "text": [
      "vector u [0.91919339 0.54248777 0.87139839 0.24713116 0.81257307]\n",
      "vector v [0.27523367 0.9397578  0.88050612 0.53049842 0.42636137]\n",
      "ours [1.19442706 1.48224557 1.75190451 0.77762958 1.23893444]\n",
      "Numpy [1.19442706 1.48224557 1.75190451 0.77762958 1.23893444]\n"
     ]
    }
   ],
   "source": [
    "# test the vector_addition function\n",
    "u = np.random.uniform(size=(5,))  # random vector\n",
    "v = np.random.uniform(size=(5,))  # random vector\n",
    "\n",
    "print('vector u', u)\n",
    "print('vector v', v)\n",
    "print('ours', vector_addition(u, v))\n",
    "print('Numpy', u+v)"
   ]
  },
  {
   "cell_type": "code",
   "execution_count": 26,
   "metadata": {},
   "outputs": [
    {
     "name": "stdout",
     "output_type": "stream",
     "text": [
      "vector u [0.23958816 0.19458448 0.35661607 0.7616097  0.73557192]\n",
      "vector v [0.63002631 0.67544285 0.79867713 0.79017802 0.69620514 0.97445557]\n",
      "ours [0.86961448 0.87002734 1.15529321 1.55178772 1.43177706]\n"
     ]
    },
    {
     "ename": "ValueError",
     "evalue": "operands could not be broadcast together with shapes (5,) (6,) ",
     "output_type": "error",
     "traceback": [
      "\u001b[0;31m---------------------------------------------------------------------------\u001b[0m",
      "\u001b[0;31mValueError\u001b[0m                                Traceback (most recent call last)",
      "Cell \u001b[0;32mIn[26], line 8\u001b[0m\n\u001b[1;32m      6\u001b[0m \u001b[38;5;28mprint\u001b[39m(\u001b[38;5;124m'\u001b[39m\u001b[38;5;124mvector v\u001b[39m\u001b[38;5;124m'\u001b[39m, v)\n\u001b[1;32m      7\u001b[0m \u001b[38;5;28mprint\u001b[39m(\u001b[38;5;124m'\u001b[39m\u001b[38;5;124mours\u001b[39m\u001b[38;5;124m'\u001b[39m, vector_addition(u, v))\n\u001b[0;32m----> 8\u001b[0m \u001b[38;5;28mprint\u001b[39m(\u001b[38;5;124m'\u001b[39m\u001b[38;5;124mNumpy\u001b[39m\u001b[38;5;124m'\u001b[39m, \u001b[43mu\u001b[49m\u001b[38;5;241;43m+\u001b[39;49m\u001b[43mv\u001b[49m)\n",
      "\u001b[0;31mValueError\u001b[0m: operands could not be broadcast together with shapes (5,) (6,) "
     ]
    }
   ],
   "source": [
    "# test the vector_addition function for two vectors with different dimensions\n",
    "u = np.random.uniform(size=(5,))  # random vector\n",
    "v = np.random.uniform(size=(6,))  # random vector\n",
    "\n",
    "print('vector u', u)\n",
    "print('vector v', v)\n",
    "print('ours', vector_addition(u, v))\n",
    "print('Numpy', u+v)"
   ]
  },
  {
   "cell_type": "code",
   "execution_count": null,
   "metadata": {},
   "outputs": [],
   "source": [
    "# Vector multiplication\n",
    "# write a function that multiplies two vectors\n",
    "\n",
    "def vector_multiplication(u, v):\n",
    "    nu = u.shape[0]\n",
    "    nv = v.shape[0]\n",
    "\n",
    "    u_times_v = np.zeros_like(u)\n",
    "    for i in range(nu):\n",
    "        u_times_v[i] = u[i] * v[i]\n",
    "    return u_times_v"
   ]
  },
  {
   "cell_type": "code",
   "execution_count": 30,
   "metadata": {},
   "outputs": [
    {
     "name": "stdout",
     "output_type": "stream",
     "text": [
      "vector u [0.82871734 0.64247534 0.01954352 0.35501259 0.91102268]\n",
      "vector v [0.25488783 0.23817648 0.42073386 0.50810497 0.18041714]\n",
      "ours [1.08360517 0.88065182 0.44027737 0.86311755 1.09143982]\n",
      "Numpy [1.08360517 0.88065182 0.44027737 0.86311755 1.09143982]\n"
     ]
    }
   ],
   "source": [
    "# test the vector_addition function for two vectors with different dimensions\n",
    "u = np.random.uniform(size=(5,))  # random vector\n",
    "v = np.random.uniform(size=(5,))  # random vector\n",
    "\n",
    "print('vector u', u)\n",
    "print('vector v', v)\n",
    "print('ours', vector_addition(u, v))\n",
    "print('Numpy', u+v)"
   ]
  },
  {
   "cell_type": "markdown",
   "metadata": {},
   "source": [
    "There are many other element-wise operations for vectors. <br>\n",
    "For example, in previous classes we use a function to compute the pressure given a volume. \n",
    "\n",
    "Let's use the idea gas law to compute the pressure given a volume at a constant temperature. \n",
    "From the well known equation, $PV= nRT$, we get,\n",
    "$$ \n",
    "P = \\frac{nRT}{V}\n",
    "$$\n",
    "\n",
    "Plot Isotherms of an ideal gas for different temperatures, for simplicity, assume $nR = 1$.\n"
   ]
  },
  {
   "cell_type": "code",
   "execution_count": 41,
   "metadata": {},
   "outputs": [],
   "source": [
    "def pressure_function(v,T):\n",
    "    nR = 1.\n",
    "    p = v.copy()\n",
    "    for i in range(v.shape[0]):\n",
    "        vi = v[i]\n",
    "        p[i] = nR * T / vi\n",
    "    \n",
    "    return p"
   ]
  },
  {
   "cell_type": "code",
   "execution_count": 43,
   "metadata": {},
   "outputs": [
    {
     "data": {
      "text/plain": [
       "Text(0, 0.5, 'Pressure')"
      ]
     },
     "execution_count": 43,
     "metadata": {},
     "output_type": "execute_result"
    },
    {
     "data": {
      "image/png": "[encoded data removed]",
      "text/plain": [
       "<Figure size 640x480 with 1 Axes>"
      ]
     },
     "metadata": {},
     "output_type": "display_data"
    }
   ],
   "source": [
    "# test your function, plot some isotherms curves\n",
    "v_min = 10\n",
    "v_max = 100\n",
    "n_v_grid = 100\n",
    "v = np.linspace(v_min, v_max,n_v_grid)\n",
    "T = 1.\n",
    "\n",
    "for ti in [100,150,200,250]:\n",
    "    p = pressure_function(v,ti)\n",
    "\n",
    "    plt.plot(v, p, label=ti)\n",
    "\n",
    "plt.legend()\n",
    "plt.xlabel('Volume',fontsize=18)\n",
    "plt.ylabel('Pressure',fontsize=18)"
   ]
  },
  {
   "cell_type": "markdown",
   "metadata": {},
   "source": [
    "## Dot product\n",
    "As we will see in the course. The **dot product** is one of the most used functions in linear algebra.\n",
    "$$\n",
    "\\mathbf{u} \\cdot \\mathbf{v} = \\mathbf{u}\\top \\mathbf{v} = \\|\\mathbf{u} \\| \\|\\mathbf{v} \\| \\cos(\\theta)\n",
    "$$\n",
    "\n",
    "We can also compute the dot product using the following equation,\n",
    "$$\n",
    "\\mathbf{u} \\cdot \\mathbf{v} = \\sum_{i=0}^{n} u_i v_i\n",
    "$$\n",
    "\n",
    "Let's compute the angle $\\theta$ using both equations. \n",
    "$$\n",
    "\\theta = \\cos^{-1} \\left (\\frac{\\sum_{i=0}^{n} u_i v_i}{\\|\\mathbf{u} \\| \\|\\mathbf{v} \\|}\\right ),\n",
    "$$\n",
    "where, $\\cos^{-1}(x)$ is the [arc cosine](https://en.wikipedia.org/wiki/Inverse_trigonometric_functions). <br>\n",
    "\n",
    "For this task, we are required the following building blocks,\n",
    "1. The dot product given the sum of the multiplication between the elements of the vectors.\n",
    "2. The norm of a vector, $\\|\\mathbf{u} \\| = \\sqrt{\\mathbf{u}\\cdot \\mathbf{u}}$\n",
    "3. Arc cosine, which in Numpy is ``np.arccos()``.\n",
    "\n"
   ]
  },
  {
   "cell_type": "markdown",
   "metadata": {},
   "source": [
    "# Distance between vectors\n",
    "We can also quantify the Euclidean distance between vectors. \n",
    "$$\n",
    "d(\\mathbf{u},\\mathbf{v}) = \\sqrt{\\sum_{i=1}^n (u_i - v_i)^2 }.\n",
    "$$\n",
    "\n",
    "We can also write the Euclidean distance as,\n",
    "$$\n",
    "d(\\mathbf{u},\\mathbf{v}) = \\| \\mathbf{u} - \\mathbf{v} \\|_2.\n",
    "$$"
   ]
  },
  {
   "cell_type": "code",
   "execution_count": 44,
   "metadata": {},
   "outputs": [],
   "source": [
    "# at home create a function for the Euclidean distance using all the resources from this tutorial.\n",
    "def EuclideanDistance_full(u,v):\n",
    "    nu = u.shape[0]\n",
    "    nv = v.shape[0]\n",
    "    d = 0.\n",
    "    for i in range(nu):\n",
    "        d += (u[i] - v[i])**2\n",
    "    return d"
   ]
  },
  {
   "cell_type": "code",
   "execution_count": 48,
   "metadata": {},
   "outputs": [],
   "source": [
    "# Euclidean distance using Numpy\n",
    "def EuclideanDistance(u,v):\n",
    "    uv = u - v\n",
    "    uv = np.power(uv,2)\n",
    "    uv_sum = np.sum(uv)\n",
    "    return np.sqrt(uv_sum)"
   ]
  },
  {
   "cell_type": "code",
   "execution_count": 57,
   "metadata": {},
   "outputs": [
    {
     "name": "stdout",
     "output_type": "stream",
     "text": [
      "vector u [0.20613236 0.0186927  0.685624   0.97472214 0.1260474 ]\n",
      "vector v [0.60556173 0.71676918 0.57700908 0.50440666 0.47427551]\n",
      "ED:  1.0005554741612328\n"
     ]
    }
   ],
   "source": [
    "u = np.random.uniform(size=(5,))  # random vector\n",
    "v = np.random.uniform(size=(5,))  # random vector\n",
    "\n",
    "print('vector u', u)\n",
    "print('vector v', v)\n",
    "\n",
    "print('ED: ', EuclideanDistance(u,v))\n",
    "\n",
    "# prove that d(u,v) = d(v,u)\n"
   ]
  },
  {
   "cell_type": "markdown",
   "metadata": {},
   "source": [
    "We can use the following function in Numpy to verify our code.<br>\n",
    "[``np.linalg.norm(x)``](https://numpy.org/doc/stable/reference/generated/numpy.linalg.norm.html)"
   ]
  },
  {
   "cell_type": "code",
   "execution_count": 56,
   "metadata": {},
   "outputs": [
    {
     "name": "stdout",
     "output_type": "stream",
     "text": [
      "ED(numpy):  0.7818012460429007\n"
     ]
    }
   ],
   "source": [
    "print('ED(numpy): ', np.linalg.norm(u-v))"
   ]
  },
  {
   "cell_type": "markdown",
   "metadata": {},
   "source": [
    "# Cross product\n",
    "\n",
    "Next class, I will introduce to you guys an additional vector operation named **cross product**.<br>\n",
    "For three dimensional vectors, using the physics notation, $\\mathbf{u} = u_x\\mathbf{i} + u_y\\mathbf{j} + u_z\\mathbf{k}$, where $\\mathbf{i},\\mathbf{j}$ and $\\mathbf{k}$ are unitary vectors, the cross product is defined as,\n",
    "$$\n",
    "\\mathbf{u} \\times \\mathbf{v} = (u_y v_z - u_z v_y)\\mathbf{i} +(u_z v_x - u_x v_z)\\mathbf{j} + (u_x v_y - u_y v_x)\\mathbf{k}\\\\\n",
    "\\mathbf{u} \\times \\mathbf{v} = [u_y v_z - u_z v_y, u_z v_x - u_x v_z,u_x v_y - u_y v_x]\n",
    "$$\n",
    "\n",
    "Compute the cross product of two vectors in three dimensions.\n",
    "\n",
    "You can verify that the cross product using Numpy's cross product function,\n",
    "[``np.cross()``](https://numpy.org/doc/stable/reference/generated/numpy.cross.html)"
   ]
  },
  {
   "cell_type": "code",
   "execution_count": 70,
   "metadata": {},
   "outputs": [],
   "source": [
    "def cross_product(u,v):\n",
    "    zx = u[1]*v[2] - u[2]*v[1]\n",
    "    zy = u[2]*v[0] - u[0]*v[2]\n",
    "    zz = u[0]*v[1] - u[1]*v[0]\n",
    "    \n",
    "    z = np.array([zx,zy,zz])\n",
    "    return z\n",
    "    "
   ]
  },
  {
   "cell_type": "code",
   "execution_count": 72,
   "metadata": {},
   "outputs": [
    {
     "name": "stdout",
     "output_type": "stream",
     "text": [
      "vector u [0.38933776 0.04546807 0.98686181]\n",
      "vector v [0.69092704 0.8283209  0.95806858]\n",
      "corss product  [-0.77387673  0.30883723  0.29108148]\n",
      "corss product (Numpy)  [-0.77387673  0.30883723  0.29108148]\n"
     ]
    }
   ],
   "source": [
    "u = np.random.uniform(size=(3,))  # random vector\n",
    "v = np.random.uniform(size=(3,))  # random vector\n",
    "\n",
    "print('vector u', u)\n",
    "print('vector v', v)\n",
    "print('corss product ', cross_product(u, v))\n",
    "\n",
    "print('corss product (Numpy) ', np.cross(u,v))"
   ]
  },
  {
   "cell_type": "markdown",
   "metadata": {},
   "source": []
  }
 ],
 "metadata": {
  "kernelspec": {
   "display_name": "chem3pc3",
   "language": "python",
   "name": "python3"
  },
  "language_info": {
   "codemirror_mode": {
    "name": "ipython",
    "version": 3
   },
   "file_extension": ".py",
   "mimetype": "text/x-python",
   "name": "python",
   "nbconvert_exporter": "python",
   "pygments_lexer": "ipython3",
   "version": "3.12.4"
  }
 },
 "nbformat": 4,
 "nbformat_minor": 2
}
