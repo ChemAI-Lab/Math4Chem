{
 "cells": [
  {
   "cell_type": "markdown",
   "metadata": {},
   "source": [
    "# Intro to Python and First law of Thermodynamics\n",
    "\n",
    "In this tutorial we are going to go over some basic operations in Python that will guide you through the course and as an example we will use some of the thermodynamic concepts learned in class. <br>\n",
    "This tutorial can be deployed in  <a target=\"_blank\" href=\"https://colab.research.google.com/github/ChemAI-Lab/Math4Chem/blob/main/website/Lecture_Notes/Notes/Coding/answers/intro_thermo.ipynb\">\n",
    "  <img src=\"https://colab.research.google.com/assets/colab-badge.svg\" alt=\"Open In Colab\"/>\n",
    "</a>"
   ]
  },
  {
   "cell_type": "code",
   "execution_count": 1,
   "metadata": {},
   "outputs": [],
   "source": [
    "# import numpy as matplotlib \n",
    "\n",
    "import numpy as np\n",
    "import matplotlib\n",
    "import matplotlib.pyplot as plt"
   ]
  },
  {
   "cell_type": "markdown",
   "metadata": {},
   "source": [
    "# Thermodynamics recap\n",
    "\n",
    "## First Law of Thermodynamics\n",
    "\n",
    "The change in the internal energy (U) of a system is the sum of the heat (q) transferred to the system and the work (w) done on the system,\n",
    "$$\n",
    "dU = q + w\n",
    "$$\n",
    "\n",
    "## Heat\n",
    "The energy that flows in between two objects that are at different temperatures. At constant pressure processes we can define heat as,\n",
    "$$\n",
    "dq_{p} = C_{P}dT,\n",
    "$$\n",
    "where $C_{P}$ is is the heat capacity of a substance at constant pressure, $C_{P} = mc_{p}$ where $m$ is the mass.\n",
    "\n",
    "## P-V Work\n",
    "Work in thermodynamics is defined as in classical mechanics, the energy transferred to a system by applying an external force along a displacement. \n",
    "In thermodynamics, one of the most common ways to do wok on a system is by changing the volume of the system through compression of expansion (P-V work).\n",
    "P-V work is defined as,\n",
    "$$\n",
    "w = -\\int_{V_{i}}^{V_{f}} P(T,V) dV\n",
    "$$\n",
    "where $P(T,V)$ is a function that describes the pressure of the system as a function of temperature (T) and its volume (V).\n",
    "This type of integrals are known as **line integrals**. \n",
    "\n"
   ]
  },
  {
   "cell_type": "markdown",
   "metadata": {},
   "source": []
  },
  {
   "cell_type": "markdown",
   "metadata": {},
   "source": [
    "## Line integral\n",
    "Let's compute the work done by a processes where the Pressure is given by,\n",
    "$$\n",
    "P(V) = \\sin(V) + a V + b,\n",
    "$$\n",
    "where $a = -0.55$ and $b = 10.55$.\n",
    "\n",
    "The initial and final volume for this processes are, $V_i = 10$ and $V_f=5$.\n"
   ]
  },
  {
   "cell_type": "code",
   "execution_count": 31,
   "metadata": {},
   "outputs": [
    {
     "data": {
      "text/plain": [
       "Text(0, 0.5, 'P')"
      ]
     },
     "execution_count": 31,
     "metadata": {},
     "output_type": "execute_result"
    },
    {
     "data": {
      "image/png": "[encoded data removed]",
      "text/plain": [
       "<Figure size 640x480 with 1 Axes>"
      ]
     },
     "metadata": {},
     "output_type": "display_data"
    }
   ],
   "source": [
    "def f_P(V):\n",
    "    a = -0.55\n",
    "    b = 10.55\n",
    "    p = np.sin(V) + a*V + b\n",
    "    return p\n",
    "\n",
    "vi = 1.\n",
    "vf = 10\n",
    "\n",
    "n = 100\n",
    "v = np.linspace(vi, vf, n)\n",
    "p = f_P(v)\n",
    "\n",
    "# plotting\n",
    "plt.plot(v, p)\n",
    "plt.fill_between(v,p,alpha=0.2)\n",
    "plt.ylim(0,np.max(p)+1.1)\n",
    "plt.xlabel('V',fontsize=20)\n",
    "plt.ylabel('P', fontsize=20)"
   ]
  },
  {
   "cell_type": "markdown",
   "metadata": {},
   "source": [
    "What are the initial and final pressure? "
   ]
  },
  {
   "cell_type": "code",
   "execution_count": 26,
   "metadata": {},
   "outputs": [
    {
     "name": "stdout",
     "output_type": "stream",
     "text": [
      "Initial pressure =  9.456\n",
      "Final pressure =  4.544\n"
     ]
    }
   ],
   "source": [
    "pi = f_P(vi)\n",
    "pf = f_P(vf)\n",
    "\n",
    "print('Initial pressure = ', f'{pi:.3f}')\n",
    "print('Final pressure = ', f'{pf:.3f}')"
   ]
  },
  {
   "cell_type": "markdown",
   "metadata": {},
   "source": [
    "Using numerical integration, compute the value of the work for this process. <br>\n",
    "The [trapezoidal rule](https://en.wikipedia.org/wiki/Trapezoidal_rule) is one of the most common numerical integration strategies,\n",
    "$$\n",
    "\\int_a^b f(x) dx \\approx  \\sum_{i=1}^N \\frac{f(x_{i-1}) + f(x_{i})}{2} \\Delta x  = \\sum_{i=1}^N \\frac{f(x_{i-1})}{2}\\Delta x + \\sum_{i=1}^N \\frac{f(x_{i})}{2} \\Delta x\n",
    "$$\n",
    "where the partition of $[a,b]$ is $x_0 < x_1 < \\cdots < x_N$ where $a = x_0$ and $b = x_N$. <br>\n",
    "$\\Delta x$ is the difference between two consecutive points, $\\Delta x = x_{i+1} - x_i$.\n",
    "\n",
    "If we expand the sum, we get,\n",
    "$$\n",
    "% \\int_a^b f(x) dx \\approx \\sum_{i=1}^N \\frac{f(x_{i-1})}{2}\\Delta x + \\sum_{i=1}^N \\frac{f(x_{i})}{2} \\Delta x\n",
    "\\int_a^b f(x) dx \\approx \\frac{\\Delta x}{2}\\left ( f(x_0) + 2f(x_1) + 2f(x_2) + 2f(x_3) + \\cdots + f(x_N) \\right )\n",
    "$$\n",
    "\n",
    "\n",
    "Let's consider 5 grid points $x_0 < x_1 < x_2 < x_3 < x_4$. <br>\n",
    "How many terms does each term have? \n",
    "\n",
    "$$\n",
    "\\sum_{i=1}^N \\frac{f(x_{i-1})}{2}\\Delta x = \\frac{\\Delta x}{2} \\left( f(x_0) + f(x_1) + f(x_2) + f(x_3)  \\right)\n",
    "$$\n",
    "$$\n",
    "\\sum_{i=1}^N \\frac{f(x_{i})}{2}\\Delta x = \\frac{\\Delta x}{2} \\left( f(x_1) + f(x_2) + f(x_3) + f(x_4) \\right)\n",
    "$$\n",
    "if we sum both terms we get, \n",
    "$$\n",
    "\\int_a^b f(x) dx \\approx  \\frac{\\Delta x}{2} \\left(  f(x_0) + 2f(x_1) + 2f(x_2) + 2f(x_3) + f(x_4)  \\right)\n",
    "$$\n",
    "\n",
    "From the above equation, we can observe that except from the first ($x_0$) and last ($x_N$) term of the grid points, all other points are multiplied by a factor of 2.<br>\n",
    "\n",
    "There are are many ways to code the above trapezoidal rule, \n",
    "1. For loops --> this tutorial.\n",
    "2. Element wise vector multiplication --> suggested homework."
   ]
  },
  {
   "cell_type": "markdown",
   "metadata": {},
   "source": [
    "**Slicing in Python**\n",
    "Slice syntax allows us to select a range of items in a list or Numpy array.<br>\n"
   ]
  },
  {
   "cell_type": "code",
   "execution_count": 27,
   "metadata": {},
   "outputs": [
    {
     "name": "stdout",
     "output_type": "stream",
     "text": [
      "[0 1 2 3 4 5 6 7 8 9]\n",
      "1\n",
      "9\n",
      "[0 1]\n",
      "[9 8 7 6 5 4 3 2 1 0]\n"
     ]
    }
   ],
   "source": [
    "x = np.arange(0, 10)\n",
    "print(x)\n",
    "\n",
    "# print second element\n",
    "print(x[1])\n",
    "\n",
    "# print last element\n",
    "print(x[-1])\n",
    "\n",
    "# print elements up to the third one\n",
    "print(x[:2])\n",
    "\n",
    "# print(x[::2])\n",
    "\n",
    "# iterate x reverse order\n",
    "print(x[::-1])"
   ]
  },
  {
   "cell_type": "code",
   "execution_count": 28,
   "metadata": {},
   "outputs": [],
   "source": [
    "# code for trapezoidal rule\n",
    "def trap_rule(y, dx):\n",
    "    int_value = y[0]*(dx/2) + y[-1]*(dx/2)\n",
    "    for yi in y[1:-1]:\n",
    "        int_value += yi*dx\n",
    "    return int_value"
   ]
  },
  {
   "cell_type": "code",
   "execution_count": 30,
   "metadata": {},
   "outputs": [
    {
     "name": "stdout",
     "output_type": "stream",
     "text": [
      "N =   500\n",
      "DV =  0.018036072144288484\n",
      "work =  67.55532242855152\n"
     ]
    }
   ],
   "source": [
    "vi = 1. # initial volume\n",
    "vf = 10 # final volume \n",
    "n = 500 # number of grid points\n",
    "    \n",
    "v = np.linspace(vi,vf, n) # grid of volume\n",
    "dv = v[1] - v[0]\n",
    "p = f_P(v) # value of pressure at each volume\n",
    "\n",
    "w = trap_rule(p,dv)\n",
    "\n",
    "print('N =  ', n)\n",
    "print('DV = ', dv)\n",
    "print('work = ', w)\n",
    "                       "
   ]
  },
  {
   "cell_type": "markdown",
   "metadata": {},
   "source": [
    "Compute the true value of $P(T,V)$ for this process.\n",
    "$$\n",
    "w = -\\int_{V_{i}}^{V_{f}} P(T,V) dV = -\\int_{V_{i}}^{V_{f}} \\left ( \\sin(V) + a V + b \\right ) dV \n",
    "$$\n",
    "where $a = -0.55$ and $b = 10.55$.\n",
    "\n",
    "<!-- w = -69.1044 -->"
   ]
  },
  {
   "cell_type": "markdown",
   "metadata": {},
   "source": [
    "Using your code, how many grid points are required for numerical integration to approximate the true value  95%. <br>\n",
    "The formula for mean percentage error (MPE) for a single point is,\n",
    "$$\n",
    "MPE =  \\left| \\frac{y - \\hat{y}}{\\hat{y}} \\right|100\\%,\n",
    "$$\n",
    "where $\\hat{y}$ is the true or exact value and $y$ is the predicted one.\n"
   ]
  },
  {
   "cell_type": "code",
   "execution_count": 16,
   "metadata": {},
   "outputs": [],
   "source": [
    "# create a function for the MPE\n",
    "def MPE(y,y_hat):\n",
    "    e = (y - y_hat)/y_hat\n",
    "    return np.abs(e) * 100"
   ]
  },
  {
   "cell_type": "code",
   "execution_count": 23,
   "metadata": {},
   "outputs": [
    {
     "name": "stdout",
     "output_type": "stream",
     "text": [
      "5 68.4666\n",
      "6 68.7101\n",
      "7 68.8355\n",
      "8 68.9089\n",
      "9 68.9557\n",
      "10 68.9875\n",
      "11 69.0100\n",
      "12 69.0266\n",
      "13 69.0391\n",
      "14 69.0488\n",
      "15 69.0565\n",
      "16 69.0627\n",
      "17 69.0678\n",
      "18 69.0720\n",
      "19 69.0755\n",
      "20 69.0785\n",
      "21 69.0810\n",
      "22 69.0832\n",
      "23 69.0851\n",
      "24 69.0867\n",
      "25 69.0882\n",
      "26 69.0894\n",
      "27 69.0906\n",
      "28 69.0916\n",
      "29 69.0925\n",
      "30 69.0933\n",
      "31 69.0940\n",
      "32 69.0947\n",
      "33 69.0953\n",
      "34 69.0958\n",
      "35 69.0963\n",
      "36 69.0968\n",
      "37 69.0972\n",
      "38 69.0976\n",
      "39 69.0979\n",
      "40 69.0982\n",
      "41 69.0985\n",
      "42 69.0988\n",
      "43 69.0991\n",
      "44 69.0993\n",
      "45 69.0996\n",
      "46 69.0998\n",
      "47 69.1000\n",
      "48 69.1002\n",
      "49 69.1003\n"
     ]
    },
    {
     "data": {
      "text/plain": [
       "Text(0, 0.5, '$y - \\\\hat{y}$')"
      ]
     },
     "execution_count": 23,
     "metadata": {},
     "output_type": "execute_result"
    },
    {
     "data": {
      "image/png": "[encoded data removed]",
      "text/plain": [
       "<Figure size 640x480 with 1 Axes>"
      ]
     },
     "metadata": {},
     "output_type": "display_data"
    },
    {
     "data": {
      "image/png": "[encoded data removed]",
      "text/plain": [
       "<Figure size 640x480 with 1 Axes>"
      ]
     },
     "metadata": {},
     "output_type": "display_data"
    }
   ],
   "source": [
    "n_ = np.arange(5,50,1)\n",
    "\n",
    "w_exact = 69.1044\n",
    "mpe_ = [] # list to store the values\n",
    "w_ = []\n",
    "for n in n_:\n",
    "    v = np.linspace(vi,vf, n) # grid of volume\n",
    "    dv = v[1] - v[0]\n",
    "    p = f_P(v) # value of pressure at each volume\n",
    "\n",
    "    w = trap_rule(p,dv)\n",
    "    w_.append(w)\n",
    "    \n",
    "    mpei = MPE(w,w_exact)\n",
    "    mpe_.append(mpei)\n",
    "    print(n, f'{w:.4f}')\n",
    "\n",
    "w_ = np.array(w_)\n",
    "mpe_ = np.array(mpe_)\n",
    "\n",
    "# plot\n",
    "plt.figure(0)\n",
    "plt.scatter(n_,mpe_)\n",
    "plt.xlabel('number of points',fontsize=18)\n",
    "plt.ylabel('MPE', fontsize=18)\n",
    "\n",
    "\n",
    "# plot\n",
    "plt.figure(1)\n",
    "plt.scatter(n_, w_ - w_exact,color='tab:orange')\n",
    "plt.xlabel('number of points', fontsize=18)\n",
    "plt.ylabel(r'$y - \\hat{y}$', fontsize=18)\n",
    "# plt.yscale('log')\n",
    "    "
   ]
  },
  {
   "cell_type": "markdown",
   "metadata": {},
   "source": [
    "Let's do the same analysis but now using, \n",
    "$$\n",
    "P(V) = \\sin \\left (\\frac{V}{0.1} \\right ) + a V + b,\n",
    "$$\n",
    "where $a = -0.55$ and $b = 10.55$.\n",
    "\n",
    "The integral of this function is, \n",
    "$$\n",
    "\\int_{1}^{10} P(V) dV = 67.5549\n",
    "$$"
   ]
  },
  {
   "cell_type": "code",
   "execution_count": 57,
   "metadata": {},
   "outputs": [
    {
     "data": {
      "text/plain": [
       "Text(0, 0.5, 'P')"
      ]
     },
     "execution_count": 57,
     "metadata": {},
     "output_type": "execute_result"
    },
    {
     "data": {
      "image/png": "[encoded data removed]",
      "text/plain": [
       "<Figure size 640x480 with 1 Axes>"
      ]
     },
     "metadata": {},
     "output_type": "display_data"
    }
   ],
   "source": [
    "def f_P_new(V):\n",
    "    a = -0.55\n",
    "    b = 10.55\n",
    "    p = np.sin(V/0.1) + a*V + b\n",
    "    return p\n",
    "\n",
    "\n",
    "vi = 1.\n",
    "vf = 10\n",
    "\n",
    "n = 1000\n",
    "v = np.linspace(vi, vf, n)\n",
    "p = f_P_new(v)\n",
    "\n",
    "# plotting\n",
    "plt.plot(v, p)\n",
    "plt.fill_between(v, p, alpha=0.2)\n",
    "plt.ylim(0, np.max(p)+1.1)\n",
    "plt.xlabel('V', fontsize=20)\n",
    "plt.ylabel('P', fontsize=20)"
   ]
  },
  {
   "cell_type": "code",
   "execution_count": 60,
   "metadata": {},
   "outputs": [
    {
     "name": "stdout",
     "output_type": "stream",
     "text": [
      "10 67.9766\n",
      "11 67.5599\n",
      "12 67.2265\n",
      "13 66.8090\n",
      "14 65.9475\n",
      "15 60.2152\n",
      "16 71.3057\n",
      "17 69.1262\n",
      "18 68.5602\n",
      "19 68.2944\n",
      "20 68.1379\n",
      "21 68.0341\n",
      "22 67.9597\n",
      "23 67.9038\n",
      "24 67.8602\n",
      "25 67.8252\n",
      "26 67.7964\n",
      "27 67.7725\n",
      "28 67.7523\n",
      "29 67.7349\n",
      "30 67.7200\n",
      "31 67.7069\n",
      "32 67.6954\n",
      "33 67.6853\n",
      "34 67.6762\n",
      "35 67.6682\n",
      "36 67.6609\n",
      "37 67.6543\n",
      "38 67.6484\n",
      "39 67.6430\n",
      "40 67.6380\n",
      "41 67.6335\n",
      "42 67.6294\n",
      "43 67.6256\n",
      "44 67.6220\n",
      "45 67.6188\n",
      "46 67.6158\n",
      "47 67.6129\n",
      "48 67.6103\n",
      "49 67.6079\n"
     ]
    },
    {
     "data": {
      "text/plain": [
       "Text(0, 0.5, '$y - \\\\hat{y}$')"
      ]
     },
     "execution_count": 60,
     "metadata": {},
     "output_type": "execute_result"
    },
    {
     "data": {
      "image/png": "[encoded data removed]",
      "text/plain": [
       "<Figure size 640x480 with 1 Axes>"
      ]
     },
     "metadata": {},
     "output_type": "display_data"
    },
    {
     "data": {
      "image/png": "[encoded data removed]",
      "text/plain": [
       "<Figure size 640x480 with 1 Axes>"
      ]
     },
     "metadata": {},
     "output_type": "display_data"
    }
   ],
   "source": [
    "n_ = np.arange(10, 50, 1)\n",
    "\n",
    "w_exact = 67.5549\n",
    "mpe_ = []  # list to store the values\n",
    "w_ = []\n",
    "for n in n_:\n",
    "    v = np.linspace(vi, vf, n)  # grid of volume\n",
    "    dv = v[1] - v[0]\n",
    "    p = f_P_new(v)  # value of pressure at each volume\n",
    "\n",
    "    w = trap_rule(p, dv)\n",
    "    w_.append(w)    \n",
    "\n",
    "    mpei = MPE(w, w_exact)\n",
    "    mpe_.append(mpei)\n",
    "    print(n, f'{w:.4f}')\n",
    "\n",
    "w_ = np.array(w_)\n",
    "mpe_ = np.array(mpe_)\n",
    "\n",
    "# plot\n",
    "plt.figure(0)\n",
    "plt.scatter(n_, mpe_)\n",
    "plt.xlabel('number of points', fontsize=18)\n",
    "plt.ylabel('MPE', fontsize=18)\n",
    "\n",
    "\n",
    "# plot\n",
    "plt.figure(1)\n",
    "plt.scatter(n_, w_ - w_exact, color='tab:orange')\n",
    "plt.xlabel('number of points', fontsize=18)\n",
    "plt.ylabel(r'$y - \\hat{y}$', fontsize=18)\n",
    "# plt.yscale('log')"
   ]
  },
  {
   "cell_type": "code",
   "execution_count": null,
   "metadata": {},
   "outputs": [],
   "source": []
  },
  {
   "cell_type": "markdown",
   "metadata": {},
   "source": [
    "# Heat Capacity\n",
    "the heat capacity $C_{P}$ of a substance is the amount of heat absorbed by the system to increase its temperature 1C. <br>\n",
    "\n",
    "Experimentally one can measure the $C_{P}$ of a substance using a calorimeter for example, where we can measure the temperature and the amount of heat transferred to the substance. <br>\n",
    "We can approximate the computation of $C_{P}$ as, \n",
    "$$\n",
    "C_{P} = \\frac{q}{\\Delta T}\n",
    "$$\n",
    "\n",
    "\n",
    "The following experimental data contains the measured amount of heat (q) to change 1 kg of an unknown material from the initial temperature ($T_i$) to a final one ($T_f$). <br>\n",
    "\n",
    "| heat (kJ)   | $T_i$ (C) | $T_f$ (C) |\n",
    "| -------- | ------- | ------- |\n",
    "| 9.08 | 21.5 | 31.38 |\n",
    "| 10.52 | 40.4 | 51.93 |\n",
    "| 10.27 | 60.36 | 71.44 |\n",
    "| 7.6 | 81.75 | 90.1 |\n",
    "| 8.1 | 101.97 | 110.84 |\n",
    "| 8.38 | 121.32 | 130.31 |\n",
    "| 9.07 | 141.07 | 150.75 |\n",
    "\n",
    "**Exercise** <br>\n",
    "1. Compute the mean and the standard deviation of the $C_{P}$ using this experimental data.\n",
    "\n",
    "Tips:\n",
    "1. [`np.mean`](https://numpy.org/doc/stable/reference/generated/numpy.mean.html)\n",
    "2. [`np.std`](https://numpy.org/doc/stable/reference/generated/numpy.std.html)"
   ]
  },
  {
   "cell_type": "code",
   "execution_count": null,
   "metadata": {},
   "outputs": [],
   "source": [
    "ti_and_tf = np.array([[21.5 , 31.38],\n",
    "                      [40.4 , 51.93],\n",
    "                      [60.36 , 71.44],\n",
    "                      [81.75 , 90.1],\n",
    "                      [101.97 , 110.84],\n",
    "                      [121.32 , 130.31],\n",
    "                      [141.07 , 150.75]])\n",
    "\n",
    "dT = ti_and_tf[:, 1] - ti_and_tf[:,0]\n",
    "q = np.array([9.08, 10.52, 10.27, 7.6, 8.1, 8.38, 9.07])\n",
    "cp = q/dT\n",
    "print(cp)\n",
    "\n",
    "av_cp = np.mean(cp)\n",
    "std_cp = np.std(cp)\n",
    "print('mean Cp = ', av_cp)\n",
    "print('std CP = ', std_cp)"
   ]
  },
  {
   "cell_type": "code",
   "execution_count": null,
   "metadata": {},
   "outputs": [],
   "source": []
  }
 ],
 "metadata": {
  "kernelspec": {
   "display_name": "chem3pc3",
   "language": "python",
   "name": "python3"
  },
  "language_info": {
   "codemirror_mode": {
    "name": "ipython",
    "version": 3
   },
   "file_extension": ".py",
   "mimetype": "text/x-python",
   "name": "python",
   "nbconvert_exporter": "python",
   "pygments_lexer": "ipython3",
   "version": "3.12.4"
  }
 },
 "nbformat": 4,
 "nbformat_minor": 2
}
