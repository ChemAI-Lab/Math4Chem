{
 "cells": [
  {
   "cell_type": "markdown",
   "metadata": {},
   "source": [
    "# Chemical Kinetics\n",
    "\n",
    "This code is to help us visualize the solution of nonlinear linear equations. <br>\n",
    "\n",
    "This tutorial can be deployed in <a target=\"_blank\" href=\"https://colab.research.google.com/github/ChemAI-Lab/Math4Chem/blob/main/website/Lecture_Notes/Coding/chem_kinetics.ipynb\">\n",
    "  <img src=\"https://colab.research.google.com/assets/colab-badge.svg\" alt=\"Open In Colab\"/>\n",
    "</a>\n"
   ]
  },
  {
   "cell_type": "code",
   "execution_count": null,
   "metadata": {},
   "outputs": [],
   "source": [
    "import numpy as np"
   ]
  },
  {
   "cell_type": "markdown",
   "metadata": {},
   "source": [
    "Example from [link](https://flexbooks.ck12.org/cbook/ck-12-chemistry-flexbook-2.0/section/18.10/primary/lesson/determining-the-rate-law-from-experimental-data-chem/)\n",
    "\n",
    "| Experiment | [NO] | [H<sub>2</sub>] | Initial Rate [M/s]\n",
    "| :---: | :---: | :---: | :---: |\n",
    "| 1 | 0.005 | 0.002 | -11.29 |\n",
    "| 2 | 0.01 | 0.002 | -9.90 |\n",
    "| 3 | 0.01 | 0.004 | -9.21 |\n",
    "\n",
    "Each of this experiment can be represented using the following rate law,\n",
    "$$\n",
    "r = k [NO]^{\\alpha} [H_2]^{\\beta}\n",
    "$$\n",
    "where using the properties of the logarithms we get,\n",
    "$$\n",
    "\\ln r = \\ln k + \\alpha \\ln [NO] + \\beta \\ln [H_2]\n",
    "$$\n",
    "We can solve this system of linear equations to find the values of $\\ln k$, $\\alpha$, and $\\beta$."
   ]
  },
  {
   "cell_type": "code",
   "execution_count": null,
   "metadata": {},
   "outputs": [],
   "source": [
    "X = np.array([[0.0050,0.002],\n",
    "              [0.01,0.002],\n",
    "              [0.01,0.004]])\n",
    "X = np.log(X)\n",
    "X = np.column_stack((np.ones(3,), X))  # why the np.ones(3,)?\n",
    "\n",
    "y = np.array([1.25E-5,5E-5, 1E-4])\n",
    "y = np.log(y)\n",
    "\n",
    "# magic\n",
    "w = np.linalg.solve(X,y)\n",
    "\n",
    "\n",
    "ln_k = w[0]\n",
    "alpha = w[1]\n",
    "beta = w[2]\n",
    "print(f\"ln(k) = {ln_k:.2f}\", f\"k = {np.exp(ln_k):.2f}\")\n",
    "print(f\"alpha = {alpha:.2f}\")\n",
    "print(f\"beta = {beta:.2f}\")"
   ]
  },
  {
   "cell_type": "markdown",
   "metadata": {},
   "source": [
    "# Steady State Solution using gradient descent\n",
    "Let's consider the following reaction,\n",
    "$$\n",
    "2NO + Br_2 \\to 2NOBr\n",
    "$$\n",
    "with the forward and reverse equilibrium constants ($k_f$ and $k_r$).\n",
    "\n",
    "We can derive three different rate laws for each species,\n",
    "$$\n",
    "\\frac{d [NO]}{dt} = 2k_b[NOBr]^2 - 2k_f[Br_2][NO]^2\\\\\n",
    "\n",
    "\\frac{d [Br_2]}{dt} = k_b[NOBr]^2 - k_f[Br_2][NO]^2\\\\\n",
    "\n",
    "\\frac{d [NOBr]}{dt} = 2k_f[Br_2][NO]^2 - 2k_f[NOBr]^2\n",
    "$$\n",
    "\n",
    "The goal is to find the values of $[NO], [Br_2]$ and $[NOBr]$,  where $\\frac{d [NO]}{dt} = \\frac{d [Br_2]}{dt} = \\frac{d [NOBr]}{dt} = 0$.<br>\n",
    "For these conditions we can use gradient descent to find these steady state concentrations."
   ]
  },
  {
   "cell_type": "code",
   "execution_count": null,
   "metadata": {},
   "outputs": [],
   "source": [
    "def equations_of_motion(x, kf, kb):\n",
    "    rf = kf * x[0]**2 * x[1]\n",
    "    rb = kb * x[2]**2\n",
    "    return [2*(rb - rf), rb - rf, 2*(rf - rb)]\n",
    "\n",
    "def gradient_of_equations_of_motion(x, kf, kb):\n",
    "    dg1_dx1 = -4*kf*x[1]*x[0]\n",
    "    dg2_dx1 = -2*kf*x[1]*x[0]\n",
    "    dg3_dx1 = 2*kf*x[1]*x[0]\n",
    "    \n",
    "    dg1_dx2 = -2*kf*x[2]**2\n",
    "    dg2_dx2 = -kf*x[2]**2\n",
    "    dg3_dx2 = 2*kf*x[2]**2\n",
    "    \n",
    "    dg1_dx3 = 4*kb*x[2]\n",
    "    dg2_dx3 = 2*kb*x[2]\n",
    "    dg3_dx3 = -4*kb*x[2]\n",
    "    \n",
    "    jac = np.array([[dg1_dx1, dg1_dx2, dg1_dx3], \n",
    "                    [dg2_dx1, dg2_dx2, dg2_dx3], \n",
    "                    [dg3_dx1, dg3_dx2, dg3_dx3]])\n",
    "    return jac\n",
    "\n",
    "def error_function(x, kf, kb):\n",
    "    g = equations_of_motion(x,kf,kb)\n",
    "    return 0.5 * np.dot(g, g)\n",
    "\n",
    "\n",
    "def gradient_error_function(x, kf, kb):\n",
    "    g = equations_of_motion(x, kf, kb)\n",
    "    jac_g = gradient_of_equations_of_motion(x, kf, kb)\n",
    "    return jac_g.T @ g\n",
    "\n",
    "    "
   ]
  },
  {
   "cell_type": "code",
   "execution_count": null,
   "metadata": {},
   "outputs": [],
   "source": [
    "x0 = np.ones(3)\n",
    "kf, kb = 0.42, 0.17"
   ]
  },
  {
   "cell_type": "code",
   "execution_count": null,
   "metadata": {},
   "outputs": [],
   "source": [
    "eta = 0.1\n",
    "for i in range(15):\n",
    "    dx0 = gradient_error_function(x0, kf, kb)\n",
    "    e = error_function(x0, kf, kb)\n",
    "    print(f'Itr {i+1}, e = ', e, 'x = ', x0, '|dx| = ', np.linalg.norm(dx0))\n",
    "    x0 = x0 - eta * dx0\n",
    "\n",
    "print('Steady State concentrations')\n",
    "print(f'[NO] = {x0[0]:.3f}')\n",
    "print(r'[Br2]'+ f' = {x0[1]:.3f}')\n",
    "print(f'[NOBr] = {x0[2]:.3f}')"
   ]
  },
  {
   "cell_type": "code",
   "execution_count": null,
   "metadata": {},
   "outputs": [],
   "source": []
  }
 ],
 "metadata": {
  "kernelspec": {
   "display_name": "chem3pc3",
   "language": "python",
   "name": "python3"
  },
  "language_info": {
   "codemirror_mode": {
    "name": "ipython",
    "version": 3
   },
   "file_extension": ".py",
   "mimetype": "text/x-python",
   "name": "python",
   "nbconvert_exporter": "python",
   "pygments_lexer": "ipython3",
   "version": "3.12.4"
  }
 },
 "nbformat": 4,
 "nbformat_minor": 2
}
