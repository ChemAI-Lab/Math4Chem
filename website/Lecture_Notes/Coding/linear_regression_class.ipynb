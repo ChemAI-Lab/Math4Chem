{
 "cells": [
  {
   "cell_type": "markdown",
   "metadata": {},
   "source": [
    "# Linear Regression \n",
    "\n",
    "This code is to help us visualize the linear regression models. <br>\n",
    "*Due to some time limitations this tutorial is not fully clean and well documented, I apologize for this inconvenience.\n",
    "\n",
    "This tutorial can be deployed in <a target=\"_blank\" href=\"https://colab.research.google.com/github/ChemAI-Lab/Math4Chem/blob/main/website/Lecture_Notes/Coding/linear_regression_class.ipynb\">\n",
    "  <img src=\"https://colab.research.google.com/assets/colab-badge.svg\" alt=\"Open In Colab\"/>\n",
    "</a>"
   ]
  },
  {
   "cell_type": "code",
   "execution_count": null,
   "metadata": {},
   "outputs": [],
   "source": [
    "# when deployed in Colab uncomment this line to install ipyml\n",
    "#!pip install ipympl"
   ]
  },
  {
   "cell_type": "code",
   "execution_count": 1,
   "metadata": {},
   "outputs": [],
   "source": [
    "%matplotlib widget \n",
    "import numpy as np\n",
    "import matplotlib.pyplot as plt\n",
    "from mpl_toolkits import mplot3d"
   ]
  },
  {
   "cell_type": "code",
   "execution_count": 2,
   "metadata": {},
   "outputs": [],
   "source": [
    "def linear_model(a,b,x):\n",
    "    return a*x + b"
   ]
  },
  {
   "cell_type": "code",
   "execution_count": 3,
   "metadata": {},
   "outputs": [],
   "source": [
    "x = np.linspace(0, 2, 5)\n",
    "y = linear_model(2, 1, x) + np.random.uniform(-5, 5,size=x.shape)"
   ]
  },
  {
   "cell_type": "code",
   "execution_count": null,
   "metadata": {},
   "outputs": [],
   "source": [
    "a = -1\n",
    "b = 2\n",
    "\n",
    "x_grid = np.linspace(0, 2, 100)\n",
    "y_grid = linear_model(a, b, x_grid)\n",
    "\n",
    "y_pred = linear_model(a, b, x)\n",
    "error = y_pred - y\n",
    "\n",
    "fig, (ax1, ax2) = plt.subplots(1, 2,figsize=(11,5))\n",
    "fig.suptitle('Error in linear models')\n",
    "\n",
    "# left panel \n",
    "ax1.plot(x_grid, y_grid, c='k')\n",
    "for xi, yi in zip(x, y):\n",
    "    y_pred_i = linear_model(a, b, xi)\n",
    "    error_i = yi - y_pred_i\n",
    "    if error_i > 0:\n",
    "        ax1.vlines(xi, y_pred_i, y_pred_i + np.abs(error_i))\n",
    "    else:\n",
    "        ax1.vlines(xi, y_pred_i - np.abs(error_i), y_pred_i)\n",
    "ax1.text(0.1, .9, f'a = {a}, b = {b}', fontsize=20, transform=ax1.transAxes)\n",
    "ax1.scatter(x, y, s=45)\n",
    "ax1.set_xlim(-0.5, 2.5)\n",
    "ax1.set_ylim(-2, 12)\n",
    "ax1.set_ylabel(r'$a\\;x + b$', fontsize=20)\n",
    "ax1.set_xlabel(r'$x$,', fontsize=20)\n",
    "\n",
    "# right panel\n",
    "sum_errors = 0.\n",
    "for xi, yi in zip(x, y):\n",
    "    y_pred_i = linear_model(a, b, xi)\n",
    "    error_i = yi - y_pred_i\n",
    "    sum_errors += error_i**2\n",
    "\n",
    "    ax2.scatter(xi, error_i**2, color='k', s=50)\n",
    "ax2.text(0.1, 0.8, r'$\\sum_i^n \\epsilon_i^2 = $' + f'{sum_errors:.2f}',\n",
    "         transform=ax2.transAxes, fontsize=16)\n",
    "ax2.set_ylabel(r'$(\\hat{y}_i - f(x_i))^2$', fontsize=20)\n",
    "ax2.set_xlabel(r'$x$', fontsize=20)\n",
    "\n",
    "plt.tight_layout()"
   ]
  },
  {
   "cell_type": "markdown",
   "metadata": {},
   "source": [
    "## Mean squared error\n",
    "$$\n",
    "{\\cal L}(\\mathbf{w}) = \\frac{1}{n} \\sum_{i=i}^{n} \\ell_i(\\mathbf{w}) = \\frac{1}{n} \\sum_{i=i}^{n} \\frac{1}{2} \\left (\\hat{y}_i - \\mathbf{w}^\\top x \\right )^2 = \\frac{1}{n} \\sum_{i=i}^{n} \\frac{1}{2} \\left (\\hat{y}_i - a\\;x + b \\right )^2\n",
    "$$"
   ]
  },
  {
   "cell_type": "code",
   "execution_count": 5,
   "metadata": {},
   "outputs": [],
   "source": [
    "def linear_model_total_error(a, b, x,y):\n",
    "    y_pred = linear_model(a, b, x)\n",
    "    error = y_pred - y\n",
    "    error_sqr = error**2\n",
    "    return 0.5 * np.mean(error_sqr)"
   ]
  },
  {
   "cell_type": "code",
   "execution_count": null,
   "metadata": {},
   "outputs": [],
   "source": [
    "a_grid = np.linspace(-5,15,100)\n",
    "b_grid = np.arange(-3,4,1)\n",
    "\n",
    "plt.figure(figsize=(11,8))\n",
    "for bi in b_grid:\n",
    "    total_errors = [linear_model_total_error(a, bi, x, y) for a in a_grid]\n",
    "    total_errors = np.asanyarray(total_errors)\n",
    "    i0 = np.argmin(total_errors)\n",
    "    a_best = a_grid[i0]\n",
    "    plt.plot(a_grid, total_errors,label=bi)\n",
    "    plt.scatter(a_best,total_errors[i0],color='k',zorder=2.5)\n",
    "    \n",
    "plt.legend()\n",
    "# plt.ylim(-0,20)\n",
    "plt.xlabel('a',fontsize=15)\n",
    "plt.ylabel('Mean Square Error', fontsize=15)"
   ]
  },
  {
   "cell_type": "code",
   "execution_count": null,
   "metadata": {},
   "outputs": [],
   "source": [
    "a_grid = np.linspace(-1, 3, 100)\n",
    "b_grid = np.linspace(-1, 3,  100)\n",
    "a_, b_ = np.meshgrid(a_grid, b_grid)\n",
    "a_b = np.column_stack((a_.flatten(), b_.flatten()))\n",
    "\n",
    "total_error_ = []\n",
    "for abi in a_b:\n",
    "    a,b = abi[0],abi[1]\n",
    "    ei = linear_model_total_error(a, b, x, y)\n",
    "    total_error_.append(ei)\n",
    "total_error_ = np.array(total_error_)\n",
    "i0 = np.argmin(total_error_)\n",
    "\n",
    "ab_best = a_b[i0]\n",
    "lowest_error = total_error_[i0]\n",
    "print(ab_best, lowest_error)\n",
    "total_error_ = total_error_.reshape(a_.shape)\n",
    "\n",
    "\n",
    "plt.figure(figsize=(11, 8))\n",
    "ax = plt.axes(projection='3d')\n",
    "ax.plot_surface(a_, b_, total_error_, rstride=1, cstride=1,\n",
    "                cmap='viridis', edgecolor='none')\n",
    "ax.scatter(ab_best[0], ab_best[1], lowest_error,zorder=10,color='k', marker='*',s=50)\n",
    "ax.set_xlabel('a',fontsize=25)\n",
    "ax.set_ylabel('b', fontsize=25)\n",
    "ax.set_zlabel('RMSE', fontsize=15,rotation=90)\n",
    "# ax.view_init(elev=30, azim=-120)\n",
    "plt.tight_layout()"
   ]
  },
  {
   "cell_type": "code",
   "execution_count": null,
   "metadata": {},
   "outputs": [],
   "source": [
    "a, b = ab_best[0], ab_best[1]\n",
    "x_grid = np.linspace(0, 2, 100)\n",
    "y_grid = linear_model(a, b, x_grid)\n",
    "\n",
    "y_pred = linear_model(a, b, x)\n",
    "error = y_pred - y\n",
    "\n",
    "fig, (ax1, ax2) = plt.subplots(1, 2, figsize=(11, 5))\n",
    "fig.suptitle('Error in linear models')\n",
    "\n",
    "# left panel\n",
    "ax1.plot(x_grid, y_grid, c='k')\n",
    "for xi, yi in zip(x, y):\n",
    "    y_pred_i = linear_model(a, b, xi)\n",
    "    error_i = yi - y_pred_i\n",
    "    if error_i > 0:\n",
    "        ax1.vlines(xi, y_pred_i, y_pred_i + np.abs(error_i))\n",
    "    else:\n",
    "        ax1.vlines(xi, y_pred_i - np.abs(error_i), y_pred_i)\n",
    "ax1.text(0.1, .9, f'a = {a:.2f}, b = {b:.2f}',\n",
    "         fontsize=20, transform=ax1.transAxes)\n",
    "ax1.scatter(x, y, s=45)\n",
    "ax1.set_xlim(-0.5, 2.5)\n",
    "ax1.set_ylim(-2, 12)\n",
    "ax1.set_ylabel(r'$a\\;x + b$', fontsize=20)\n",
    "ax1.set_xlabel(r'$x$,', fontsize=20)\n",
    "\n",
    "# right panel\n",
    "sum_errors = 0.\n",
    "for xi, yi in zip(x, y):\n",
    "    y_pred_i = linear_model(a, b, xi)\n",
    "    error_i = yi - y_pred_i\n",
    "    sum_errors += error_i**2\n",
    "\n",
    "    ax2.scatter(xi, error_i**2, color='k', s=50)\n",
    "ax2.text(0.1, 0.8, r'$\\sum_i^n \\epsilon_i^2 = $' + f'{sum_errors:.2f}',\n",
    "         transform=ax2.transAxes, fontsize=16)\n",
    "ax2.set_ylabel(r'$(\\hat{y}_i - f(x_i))^2$', fontsize=20)\n",
    "ax2.set_xlabel(r'$x$', fontsize=20)\n",
    "\n",
    "plt.tight_layout()"
   ]
  },
  {
   "cell_type": "code",
   "execution_count": null,
   "metadata": {},
   "outputs": [],
   "source": []
  }
 ],
 "metadata": {
  "kernelspec": {
   "display_name": "chem3pc3",
   "language": "python",
   "name": "python3"
  },
  "language_info": {
   "codemirror_mode": {
    "name": "ipython",
    "version": 3
   },
   "file_extension": ".py",
   "mimetype": "text/x-python",
   "name": "python",
   "nbconvert_exporter": "python",
   "pygments_lexer": "ipython3",
   "version": "3.12.4"
  }
 },
 "nbformat": 4,
 "nbformat_minor": 2
}
