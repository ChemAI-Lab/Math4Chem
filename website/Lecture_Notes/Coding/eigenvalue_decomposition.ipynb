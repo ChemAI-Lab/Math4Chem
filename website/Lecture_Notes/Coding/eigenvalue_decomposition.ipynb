{
 "cells": [
  {
   "cell_type": "markdown",
   "metadata": {},
   "source": [
    "# Eigenvalues and Eigenvectors\n",
    "\n",
    "\n",
    "This code is to help us in the computation of matrix-vector multiplications, instead of doing them by hand. <br>\n",
    "\n",
    "<a target=\"_blank\" href=\"https://colab.research.google.com/github/ChemAI-Lab/Math4Chem/blob/main/website/Assigments/eigenvalue_decomposition.ipynb\">\n",
    "  <img src=\"https://colab.research.google.com/assets/colab-badge.svg\" alt=\"Open In Colab\"/>\n",
    "</a>"
   ]
  },
  {
   "cell_type": "code",
   "execution_count": null,
   "metadata": {},
   "outputs": [],
   "source": [
    "import numpy as np\n",
    "\n",
    "A = np.array([[2, 1, -1],[1,2,-1],[-1, -1, 2]])\n",
    "print('Matrix A')\n",
    "print(A)\n"
   ]
  },
  {
   "cell_type": "code",
   "execution_count": null,
   "metadata": {},
   "outputs": [],
   "source": [
    "v,ev = np.linalg.eigh(A)\n",
    "print('Eigenvalues')\n",
    "print(v)\n",
    "print('Eigenvectors (column-wise)')\n",
    "print(ev)"
   ]
  },
  {
   "cell_type": "code",
   "execution_count": null,
   "metadata": {},
   "outputs": [],
   "source": [
    "l1 = v[0]\n",
    "x_1 = ev[:,0]\n",
    "x_2 = ev[:,1]\n",
    "\n",
    "# any combination of eigenvectors with the same eigenvalue is also an eigenvector\n",
    "x_new = x_1 + x_2\n",
    "Ax = A@x_new\n",
    "print(Ax)\n",
    "print(l1*x_new)"
   ]
  },
  {
   "cell_type": "markdown",
   "metadata": {},
   "source": [
    "# Time-dependent ODE\n",
    "For an linear set of ODEs, of the form,\n",
    "$$\n",
    "\\frac{d\\; \\mathbf{x}(t)}{d\\;t} = A\\mathbf{x}(t)\n",
    "$$\n",
    "The solution to the system is, \n",
    "$$\n",
    "\\mathbf{x}(t) = e^{At}\\mathbf{x}(0)\n",
    "$$\n",
    "where $e^{At}$ is the matrix exponential, **which is not the same as the exponentiation each element of the matrix**. <br>\n",
    "If we rewrite $\\mathbf{x}(0)$ in terms of the eigenvectors of the matrix $A$, then we find the following general solution,\n",
    "$$\n",
    "\\mathbf{x}(t) = \\sum_i c_i e^{\\lambda_i t} \\mathbf{x}_i\n",
    "$$\n",
    "where $\\mathbf{x}_i$ and $\\lambda_i$ are the eigenvectors and eigenvalues of the matrix $A$. <br>\n",
    "The coefficients $ci$ are simply parameters of the general solution. One can find its values using initial value conditions, for example the value of $\\mathbf{x}(t=0)$, \n",
    "$$\n",
    "\\mathbf{x}(0) = \\begin{pmatrix} \n",
    "a_0 \\\\ b_0 \\\\ c_0\n",
    "\\end{pmatrix}\n",
    "$$\n",
    "\n",
    "By defining a set of linear equations, we can find teh value of the coefficients $ci$, for example for a $3\\times 3$ system,\n",
    "$$\n",
    "\\mathbf{x}(0) = \\begin{pmatrix} \n",
    "a_0 \\\\ b_0 \\\\ c_0\n",
    "\\end{pmatrix} = \\sum_i^{3} c_i \\mathbf{x}_i = \\mathbf{U}\\mathbf{c},\n",
    "$$\n",
    "where $\\mathbf{U}$ is the matrix whose columns are the eigenvectors of $A$, and $\\mathbf{c}^\\top = [c_1, c_2, c_3]$. If we multiply from the right by the transpose of $\\mathbf{U}$ and we take advantage that $\\mathbf{U}$ is an orthogonal matrix, we get,\n",
    "$$\n",
    "\\mathbf{c} = \\mathbf{U}^\\top\\mathbf{x}(0).\n",
    "$$\n"
   ]
  },
  {
   "cell_type": "code",
   "execution_count": null,
   "metadata": {},
   "outputs": [],
   "source": [
    "import numpy as np\n",
    "import matplotlib.pyplot as plt\n",
    "\n",
    "# Define a 3x3 decay matrix A\n",
    "A = np.array([[-0.5, 0.1, 0.1],\n",
    "              [0.1, -0.3, 0.1],\n",
    "              [0.1, 0.0, -0.1]]) \n",
    "\n",
    "x0 = np.array([1.0, 0., 0.])  # Initial condition x(0)\n",
    "\n",
    "# Compute eigenvalues and eigenvectors\n",
    "eigenvalues, eigenvectors = np.linalg.eigh(A)\n",
    "print('Eigenvalues')\n",
    "print(eigenvalues)\n",
    "\n",
    "print('Eigenvectors')\n",
    "print(eigenvectors)\n",
    "\n",
    "# Projection to find coefficients c1, c2, c3\n",
    "coefficients = eigenvectors.T @ x0\n",
    "print('Coefficients')\n",
    "print(coefficients)\n",
    "\n",
    "# Define the time range\n",
    "t = np.linspace(0, 20, 200)  # Time from 0 to 20 units\n",
    "\n",
    "# Compute x(t) = sum of c_i * exp(lambda_i * t) * v_i for all eigenpairs\n",
    "x_t = np.zeros((len(t), 3))\n",
    "for i in range(3):\n",
    "    x_t += coefficients[i] * np.exp(eigenvalues[i]\n",
    "                                    * t)[:, None] * eigenvectors[:, i]\n",
    "\n",
    "# Plotting the components of x(t)\n",
    "plt.figure(figsize=(10, 6))\n",
    "plt.plot(t, x_t[:, 0], label='$x_1(t)$ (Parent isotope)')\n",
    "plt.plot(t, x_t[:, 1], label='$x_2(t)$ (Intermediate isotope)')\n",
    "plt.plot(t, x_t[:, 2], label='$x_3(t)$ (Stable product)')\n",
    "plt.title('Radioactive Decay Process')\n",
    "plt.xlabel('Time (t)')\n",
    "plt.ylabel('Concentrations')\n",
    "plt.legend()\n",
    "plt.grid()\n",
    "plt.show()"
   ]
  },
  {
   "cell_type": "code",
   "execution_count": null,
   "metadata": {},
   "outputs": [],
   "source": []
  }
 ],
 "metadata": {
  "kernelspec": {
   "display_name": "chem3pc3",
   "language": "python",
   "name": "python3"
  },
  "language_info": {
   "codemirror_mode": {
    "name": "ipython",
    "version": 3
   },
   "file_extension": ".py",
   "mimetype": "text/x-python",
   "name": "python",
   "nbconvert_exporter": "python",
   "pygments_lexer": "ipython3",
   "version": "3.12.4"
  }
 },
 "nbformat": 4,
 "nbformat_minor": 2
}
