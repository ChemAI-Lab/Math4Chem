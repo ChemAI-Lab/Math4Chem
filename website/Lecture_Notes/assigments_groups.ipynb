{
 "cells": [
  {
   "cell_type": "code",
   "execution_count": 15,
   "metadata": {},
   "outputs": [],
   "source": [
    "import numpy as np\n",
    "import pandas as pd"
   ]
  },
  {
   "cell_type": "code",
   "execution_count": 14,
   "metadata": {},
   "outputs": [
    {
     "name": "stdout",
     "output_type": "stream",
     "text": [
      "           ID                              Name                 Email\n",
      "0   400332281                        Basit,Suha   basits4@mcmaster.ca\n",
      "1   400469345              Biggar,Ryan Kerrigan   biggar2@mcmaster.ca\n",
      "2   400455720             Choy,Curtis Chun-Shan    choyc5@mcmaster.ca\n",
      "3   400437974           Cornish,Michael William  cornishm@mcmaster.ca\n",
      "4   400483779  Dallos Blair,Sebastian Sebastian  dallosbj@mcmaster.ca\n",
      "5   400476903            Dorsey,Skyleigh Morgan   dorses1@mcmaster.ca\n",
      "6   400481360                     Flinn,Charlie    flinnc@mcmaster.ca\n",
      "7   400612833               Kong,Karina Yi Zhen    kongk8@mcmaster.ca\n",
      "8   400305478                     Kotian,Luvlyn   kotianl@mcmaster.ca\n",
      "9   400083162                          Lo,Denis      lod1@mcmaster.ca\n",
      "10  400455815                 Lobo,Jude Douglas    loboj7@mcmaster.ca\n",
      "11  400325148             McGoldrick,Liam James  mcgoldrl@mcmaster.ca\n",
      "12  400477156               Reeves,Meredith Nia   reevel5@mcmaster.ca\n",
      "13  400434545                        Shang,Ziqi   shangz6@mcmaster.ca\n",
      "14    1426508                       Zhang,Jason  zhang642@mcmaster.ca\n"
     ]
    }
   ],
   "source": [
    "x = pd.read_excel('class_roster_3pc3_2024.xlsx')  \n",
    "print(x)"
   ]
  },
  {
   "cell_type": "code",
   "execution_count": 4,
   "metadata": {},
   "outputs": [
    {
     "data": {
      "text/plain": [
       "0                           Basit,Suha\n",
       "1                 Biggar,Ryan Kerrigan\n",
       "2                Choy,Curtis Chun-Shan\n",
       "3              Cornish,Michael William\n",
       "4     Dallos Blair,Sebastian Sebastian\n",
       "5               Dorsey,Skyleigh Morgan\n",
       "6                        Flinn,Charlie\n",
       "7                  Kong,Karina Yi Zhen\n",
       "8                        Kotian,Luvlyn\n",
       "9                             Lo,Denis\n",
       "10                   Lobo,Jude Douglas\n",
       "11               McGoldrick,Liam James\n",
       "12                 Reeves,Meredith Nia\n",
       "13                          Shang,Ziqi\n",
       "14                         Zhang,Jason\n",
       "Name: Name, dtype: object"
      ]
     },
     "execution_count": 4,
     "metadata": {},
     "output_type": "execute_result"
    }
   ],
   "source": [
    "x['Name']"
   ]
  },
  {
   "cell_type": "code",
   "execution_count": 6,
   "metadata": {},
   "outputs": [
    {
     "name": "stdout",
     "output_type": "stream",
     "text": [
      "15\n"
     ]
    }
   ],
   "source": [
    "n  = x.shape[0]\n",
    "print(n)"
   ]
  },
  {
   "cell_type": "code",
   "execution_count": 10,
   "metadata": {},
   "outputs": [
    {
     "name": "stdout",
     "output_type": "stream",
     "text": [
      "[ 0  1  2  3  4  5  6  7  8  9 10 11 12 13 14]\n",
      "[ 9  7 12  1  0  3  8 10  4  5  2  6 11 14 13]\n"
     ]
    }
   ],
   "source": [
    "id = np.arange(0,n)\n",
    "print(id)\n",
    "id_random = np.random.permutation(n)\n",
    "print(id_random)\n",
    "\n",
    "if n % 2 == 0:\n",
    "    id_pairs = np.reshape(id_random,(-1,2))\n",
    "    id_pairs\n",
    "else:\n",
    "    id_trio = id_random[:3]\n",
    "    id_2 = id_random[3:]\n",
    "    id_pairs = np.reshape(id_2, (-1,2))"
   ]
  },
  {
   "cell_type": "code",
   "execution_count": 11,
   "metadata": {},
   "outputs": [
    {
     "name": "stdout",
     "output_type": "stream",
     "text": [
      "Trio\n",
      "           ID                 Name                Email\n",
      "9   400083162             Lo,Denis     lod1@mcmaster.ca\n",
      "7   400612833  Kong,Karina Yi Zhen   kongk8@mcmaster.ca\n",
      "12  400477156  Reeves,Meredith Nia  reevel5@mcmaster.ca\n"
     ]
    }
   ],
   "source": [
    "print('Trio')\n",
    "print(x.iloc[id_trio])\n",
    "\n",
    "f = open('assigments_groups.txt', \"w\")\n",
    "print('Trio',file=f)\n",
    "print(x.iloc[id_trio], file=f)\n",
    "print('----------------------', file=f)\n",
    "f.close()"
   ]
  },
  {
   "cell_type": "code",
   "execution_count": 12,
   "metadata": {},
   "outputs": [
    {
     "name": "stdout",
     "output_type": "stream",
     "text": [
      "Pairs\n",
      "          ID                  Name                Email\n",
      "1  400469345  Biggar,Ryan Kerrigan  biggar2@mcmaster.ca\n",
      "0  400332281            Basit,Suha  basits4@mcmaster.ca\n",
      "----------------------\n",
      "          ID                     Name                 Email\n",
      "3  400437974  Cornish,Michael William  cornishm@mcmaster.ca\n",
      "8  400305478            Kotian,Luvlyn   kotianl@mcmaster.ca\n",
      "----------------------\n",
      "           ID                              Name                 Email\n",
      "10  400455815                 Lobo,Jude Douglas    loboj7@mcmaster.ca\n",
      "4   400483779  Dallos Blair,Sebastian Sebastian  dallosbj@mcmaster.ca\n",
      "----------------------\n",
      "          ID                    Name                Email\n",
      "5  400476903  Dorsey,Skyleigh Morgan  dorses1@mcmaster.ca\n",
      "2  400455720   Choy,Curtis Chun-Shan   choyc5@mcmaster.ca\n",
      "----------------------\n",
      "           ID                   Name                 Email\n",
      "6   400481360          Flinn,Charlie    flinnc@mcmaster.ca\n",
      "11  400325148  McGoldrick,Liam James  mcgoldrl@mcmaster.ca\n",
      "----------------------\n",
      "           ID         Name                 Email\n",
      "14    1426508  Zhang,Jason  zhang642@mcmaster.ca\n",
      "13  400434545   Shang,Ziqi   shangz6@mcmaster.ca\n",
      "----------------------\n"
     ]
    }
   ],
   "source": [
    "f = open('assigments_groups.txt', \"a\")\n",
    "print('Pairs')\n",
    "for ij in id_pairs:\n",
    "    print(x.iloc[ij])\n",
    "    print('----------------------')\n",
    "    print(x.iloc[ij],file=f)\n",
    "    print('----------------------', file=f)\n",
    "f.close()"
   ]
  },
  {
   "cell_type": "code",
   "execution_count": null,
   "metadata": {},
   "outputs": [],
   "source": []
  }
 ],
 "metadata": {
  "kernelspec": {
   "display_name": "chem3pc3",
   "language": "python",
   "name": "python3"
  },
  "language_info": {
   "codemirror_mode": {
    "name": "ipython",
    "version": 3
   },
   "file_extension": ".py",
   "mimetype": "text/x-python",
   "name": "python",
   "nbconvert_exporter": "python",
   "pygments_lexer": "ipython3",
   "version": "3.12.4"
  }
 },
 "nbformat": 4,
 "nbformat_minor": 2
}
