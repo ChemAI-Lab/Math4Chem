{
  "cells": [
    {
      "cell_type": "markdown",
      "metadata": {
        "id": "UAXfvJIZiHf_"
      },
      "source": [
        "# Assignment 2\n",
        "**Due date** December 6th, 2024.\n",
        "\n",
        "Please fo not forget to add your names, student IDs, and emails in this file.<br>\n",
        "**Only submit one file per team**\n",
        "\n",
        "<a target=\"_blank\" href=\"https://colab.research.google.com/github/ChemAI-Lab/Math4Chem/blob/main/website/Assigments/assigment_1.ipynb\">\n",
        "  <img src=\"https://colab.research.google.com/assets/colab-badge.svg\" alt=\"Open In Colab\"/>\n",
        "</a>"
      ]
    },
    {
      "cell_type": "code",
      "execution_count": null,
      "metadata": {
        "id": "yesF8UA4iHgZ"
      },
      "outputs": [],
      "source": [
        "# load the required libraries that you will need for this assignment\n",
        "import numpy as np\n",
        "import matplotlib\n",
        "import matplotlib.pyplot as plt\n",
        "import pandas as pd\n",
        "#  [5 marks]\n",
        "# loading any libraries in other cells will deduct you marks."
      ]
    },
    {
      "cell_type": "markdown",
      "metadata": {
        "id": "XdzdQoifiHgj"
      },
      "source": [
        "## (Q1) Linear Regression\n",
        "* For **Q1** you are only allowed to ude Numpy, Pandas, and Matplotlib, if you use any other libraries you will not get full marks.<br>\n",
        "<br>\n",
        "\n",
        "To Do: Write an introduction to the linear regression. <br>\n",
        "\n",
        "The following data is based on a Polynomial expansion to predict the electronic energy of methane for different geometries. <br>\n",
        "We will follow the work presented in the paper, [paper link](https://pubs.acs.org/doi/full/10.1021/acs.jctc.9b00043)<br>\n",
        "\"*Using Gradients in Permutationally Invariant Polynomial Potential Fitting: A Demonstration for CH4 Using as Few as 100 Configurations*\".\n",
        "\n",
        "The main idea is to expand the inter-atomic distance of the 5 atoms in terms on a polynomial expansion,\n",
        "$$\n",
        "y = \\sum^{np}_{i} w_i \\phi_i(\\mathbf{r})\n",
        "$$\n",
        "where $w_i$ are the weights, $\\phi_i$ are the Permutationally Invariant Polynomial expansion, and $\\mathbf{r}$ are the inter-atomic distances.\n",
        "\n",
        "In the dataset provided, the values of the vector $\\mathbf{\\phi}(\\mathbf{r})^\\top = [\\phi_0(\\mathbf{r}),\\cdots,\\phi_{np}(\\mathbf{r})]$, are in each column of a raw, with the respective energy in the last column.\n"
      ]
    },
    {
      "cell_type": "markdown",
      "metadata": {
        "id": "hIc-tAxZiHgn"
      },
      "source": [
        "## (Q1.A) Data preprocessing\n",
        "1. Load the dataset from the provided link and print the first few rows.<br>\n",
        "    (https://raw.githubusercontent.com/ChemAI-Lab/Math4Chem/main/website/Assigments/CH4_data.csv)<br>\n",
        "    1. Answer the following questions,\n",
        "       1. How many points does the dataset contains?\n",
        "       2. What is the point with the lowest energy and what is its value?\n",
        "       3. What is the range of energies in the dataset?\n",
        "       4. Do a histogram of the energy.\n",
        "   "
      ]
    },
    {
      "cell_type": "markdown",
      "metadata": {
        "id": "AaoR3srTiHgq"
      },
      "source": [
        "## (Q1.B) Data splitting fitting\n",
        "Before you carry each of these three different strategies to find the optimal mode, you first need to,\n",
        "   1. Sample **100** random points (training points), and other **500** random points (test points). <br>\n",
        "   Use the randomly sampled 100 points only for training, and the other 500 to test accuracy of the three different models. <br>"
      ]
    },
    {
      "cell_type": "markdown",
      "metadata": {
        "id": "zsXgafPYiHgt"
      },
      "source": [
        "## (Q1.C) Model fitting,\n",
        "The main goal of this section is to train this regression model using,\n",
        "   1. Exact solution\n",
        "   2. Gradient descent\n",
        "      1. Do not forget to play around with the $\\eta$ parameter for gradient descent,\n",
        "      2. How many iterations do you need to reach a \"good\" model.\n",
        "      3. Plot the value of the training error as a function of the iterations in gradient descent, (this is known as **learning curves**).\n",
        "   3. SVD for linear regression\n",
        "\n",
        "**Extra results you need to include,**\n",
        "1. In a single figure, plot the vector of the optimal linear weights of the three models, label each curve.\n",
        "2. For each model, create a figure where you plot **predicted vs true** values of the training and test points (use different symbols to identify training and test points). <br>\n",
        "In each figure, also display the [$r^2$ score](https://en.wikipedia.org/wiki/Coefficient_of_determination) value.\n",
        "3. What of the three models had the best performance?\n",
        "4. Choose the model with the lowest test error, you can use root mean squared error, and see how much the test error will change if we sample another *100* points from the untouched data as the new training points.\n",
        "Do this 5 times so we can compute the mean and standard deviation of the test error.\n"
      ]
    },
    {
      "cell_type": "code",
      "execution_count": null,
      "metadata": {
        "colab": {
          "base_uri": "https://localhost:8080/",
          "height": 1000
        },
        "collapsed": true,
        "id": "L_7KjJesiHgw",
        "outputId": "1ef08634-0b33-4107-da26-5e380546574f"
      },
      "outputs": [
        {
          "output_type": "stream",
          "name": "stdout",
          "text": [
            "   Unnamed: 0  phi_0     phi_1     phi_2     phi_3     phi_4     phi_5  \\\n",
            "0           0    1.0  0.206794  0.047658  0.016033  0.004927  0.000189   \n",
            "1           1    1.0  0.204853  0.047194  0.015728  0.004834  0.000186   \n",
            "2           2    1.0  0.202104  0.046530  0.015310  0.004705  0.000180   \n",
            "3           3    1.0  0.199966  0.046054  0.014993  0.004608  0.000176   \n",
            "4           4    1.0  0.199642  0.046051  0.014946  0.004597  0.000175   \n",
            "\n",
            "      phi_6     phi_7     phi_8  ...    phi_21    phi_22    phi_23    phi_24  \\\n",
            "0  0.004928  0.000757  0.010698  ...  0.001659  0.000255  0.000255  0.000039   \n",
            "1  0.004834  0.000740  0.010509  ...  0.001613  0.000248  0.000248  0.000038   \n",
            "2  0.004699  0.000718  0.010226  ...  0.001549  0.000238  0.000238  0.000037   \n",
            "3  0.004601  0.000703  0.010000  ...  0.001499  0.000231  0.000230  0.000036   \n",
            "4  0.004596  0.000703  0.009966  ...  0.001492  0.000229  0.000229  0.000036   \n",
            "\n",
            "     phi_25    phi_26    phi_27    phi_28    phi_29     energy  \n",
            "0  0.000003  0.000039  0.000012  0.000554  0.000003 -40.483220  \n",
            "1  0.000003  0.000038  0.000012  0.000540  0.000003 -40.481880  \n",
            "2  0.000003  0.000037  0.000011  0.000518  0.000003 -40.480698  \n",
            "3  0.000003  0.000036  0.000011  0.000500  0.000003 -40.480026  \n",
            "4  0.000003  0.000036  0.000011  0.000498  0.000003 -40.479866  \n",
            "\n",
            "[5 rows x 32 columns]\n",
            "The number of points = 9000\n",
            "The point with the lowest energy has an energy of -40.48363 Hartree.\n",
            "The data point is:\n",
            "Unnamed: 0    130.000000\n",
            "phi_0           1.000000\n",
            "phi_1           0.200908\n",
            "phi_2           0.045398\n",
            "phi_3           0.015135\n",
            "phi_4           0.004560\n",
            "phi_5           0.000172\n",
            "phi_6           0.004561\n",
            "phi_7           0.000687\n",
            "phi_8           0.010095\n",
            "phi_9           0.000344\n",
            "phi_10          0.000507\n",
            "phi_11          0.000114\n",
            "phi_12          0.000458\n",
            "phi_13          0.000034\n",
            "phi_14          0.000115\n",
            "phi_15          0.000034\n",
            "phi_16          0.000069\n",
            "phi_17          0.000005\n",
            "phi_18          0.000002\n",
            "phi_19          0.000035\n",
            "phi_20          0.000002\n",
            "phi_21          0.001521\n",
            "phi_22          0.000229\n",
            "phi_23          0.000229\n",
            "phi_24          0.000035\n",
            "phi_25          0.000003\n",
            "phi_26          0.000035\n",
            "phi_27          0.000010\n",
            "phi_28          0.000507\n",
            "phi_29          0.000003\n",
            "energy        -40.483630\n",
            "Name: 130, dtype: float64\n",
            "The range of energies in the dataset is: -40.48363 -> -40.416504 Hartree\n"
          ]
        },
        {
          "output_type": "display_data",
          "data": {
            "text/plain": [
              "<Figure size 640x480 with 1 Axes>"
            ],
            "image/png": "[encoded data removed]"
          },
          "metadata": {}
        }
      ],
      "source": [
        "# Q1.A. Data preprocessing\n",
        "\n",
        "# load data using pandas\n",
        "dataset = \"https://raw.githubusercontent.com/ChemAI-Lab/Math4Chem/main/website/Assigments/CH4_data.csv\"\n",
        "df = pd.read_csv(dataset)\n",
        "print(df.head())\n",
        "\n",
        "# 1. How many points does the dataset contains?\n",
        "num_points = df.shape[0]\n",
        "print(f\"The number of points = {num_points}\")\n",
        "\n",
        "# 2. What is the point with the lowest energy and what is its value?\n",
        "min_energy = df.iloc[:, -1].min()\n",
        "min_energy_index = df.iloc[:, -1].idxmin()\n",
        "\n",
        "lowest_energy_point = df.iloc[min_energy_index]\n",
        "\n",
        "min_energy = df.iloc[:, -1].min()\n",
        "min_energy_index = df.iloc[:, -1].idxmin()\n",
        "lowest_energy_point = df.iloc[min_energy_index]\n",
        "\n",
        "print(f\"The point with the lowest energy has an energy of {min_energy} Hartree.\")\n",
        "print(f\"The data point is:\\n{lowest_energy_point}\")\n",
        "\n",
        "# 3. What is the range of energies in the dataset? The energy is reported in Hartree\n",
        "energy_column = df.iloc[:, -1]\n",
        "min_energy = energy_column.min()\n",
        "max_energy = energy_column.max()\n",
        "energy_range = max_energy - min_energy\n",
        "\n",
        "print(f\"The range of energies in the dataset is: {min_energy} -> {max_energy} Hartree\")\n",
        "\n",
        "# 4. Do a histogram of the energy.\n",
        "plt.hist(energy_column, bins=20, color='blue', edgecolor='black')\n",
        "plt.xlabel(\"Energy (Hartree)\")\n",
        "plt.ylabel(\"Frequency\")\n",
        "plt.title(\"Histogram of Energies\")\n",
        "plt.show()\n"
      ]
    },
    {
      "cell_type": "code",
      "execution_count": null,
      "metadata": {
        "id": "WllEO1SqiHg0",
        "colab": {
          "base_uri": "https://localhost:8080/"
        },
        "outputId": "fb2c1d6f-f8d5-4887-8695-1ea8cbbba6bb"
      },
      "outputs": [
        {
          "output_type": "stream",
          "name": "stdout",
          "text": [
            "3200\n",
            "      Unnamed: 0  phi_0     phi_1     phi_2     phi_3     phi_4     phi_5  \\\n",
            "5221        5221    1.0  0.222953  0.056816  0.018437  0.006205  0.000260   \n",
            "2975        2975    1.0  0.200118  0.045686  0.015012  0.004567  0.000173   \n",
            "5786        5786    1.0  0.184001  0.041450  0.012582  0.003725  0.000136   \n",
            "8591        8591    1.0  0.157519  0.035586  0.009283  0.002785  0.000121   \n",
            "1321        1321    1.0  0.199633  0.045775  0.014944  0.004571  0.000175   \n",
            "...          ...    ...       ...       ...       ...       ...       ...   \n",
            "7053        7053    1.0  0.188242  0.042949  0.013210  0.004006  0.000152   \n",
            "4437        4437    1.0  0.236232  0.063177  0.020918  0.007431  0.000315   \n",
            "7540        7540    1.0  0.159934  0.035339  0.009417  0.002706  0.000100   \n",
            "8791        8791    1.0  0.185338  0.039921  0.012812  0.003697  0.000133   \n",
            "4945        4945    1.0  0.170187  0.036408  0.010850  0.003078  0.000105   \n",
            "\n",
            "         phi_6     phi_7     phi_8  ...        phi_20    phi_21    phi_22  \\\n",
            "5221  0.006463  0.001048  0.012833  ...  3.113895e-06  0.002097  0.000349   \n",
            "2975  0.004576  0.000694  0.010023  ...  1.752619e-06  0.001503  0.000228   \n",
            "5786  0.003902  0.000559  0.008693  ...  1.205650e-06  0.001179  0.000173   \n",
            "8591  0.002820  0.000378  0.006246  ...  5.850400e-07  0.000735  0.000110   \n",
            "1321  0.004567  0.000694  0.009966  ...  1.749292e-06  0.001492  0.000228   \n",
            "...        ...       ...       ...  ...           ...       ...       ...   \n",
            "7053  0.004078  0.000602  0.009015  ...  1.378078e-06  0.001258  0.000190   \n",
            "4437  0.007493  0.001319  0.013969  ...  4.544095e-06  0.002473  0.000438   \n",
            "7540  0.002946  0.000393  0.006745  ...  6.788744e-07  0.000778  0.000108   \n",
            "8791  0.003702  0.000530  0.008727  ...  1.170228e-06  0.001200  0.000174   \n",
            "4945  0.003118  0.000441  0.007263  ...  8.881332e-07  0.000925  0.000130   \n",
            "\n",
            "        phi_23    phi_24    phi_25    phi_26    phi_27    phi_28    phi_29  \n",
            "5221  0.000380  0.000065  0.000005  0.000071  0.000022  0.000765  0.000008  \n",
            "2975  0.000229  0.000035  0.000003  0.000035  0.000011  0.000503  0.000003  \n",
            "5786  0.000188  0.000029  0.000002  0.000031  0.000009  0.000420  0.000003  \n",
            "8591  0.000113  0.000021  0.000002  0.000021  0.000005  0.000249  0.000002  \n",
            "1321  0.000228  0.000036  0.000003  0.000036  0.000011  0.000498  0.000003  \n",
            "...        ...       ...       ...       ...       ...       ...       ...  \n",
            "7053  0.000197  0.000031  0.000002  0.000032  0.000009  0.000439  0.000003  \n",
            "4437  0.000445  0.000085  0.000007  0.000086  0.000030  0.000827  0.000009  \n",
            "7540  0.000130  0.000019  0.000001  0.000023  0.000006  0.000301  0.000002  \n",
            "8791  0.000174  0.000025  0.000002  0.000025  0.000007  0.000418  0.000002  \n",
            "4945  0.000134  0.000020  0.000001  0.000020  0.000006  0.000311  0.000002  \n",
            "\n",
            "[100 rows x 31 columns]\n",
            "3100\n",
            "[[5.2210000e+03 1.0000000e+00 2.2295251e-01 ... 2.1910062e-05\n",
            "  7.6475414e-04 7.5273080e-06]\n",
            " [2.9750000e+03 1.0000000e+00 2.0011806e-01 ... 1.0709240e-05\n",
            "  5.0251060e-04 2.7685157e-06]\n",
            " [5.7860000e+03 1.0000000e+00 1.8400078e-01 ... 8.6040470e-06\n",
            "  4.2022450e-04 2.9199061e-06]\n",
            " ...\n",
            " [7.5400000e+03 1.0000000e+00 1.5993449e-01 ... 5.6194513e-06\n",
            "  3.0101507e-04 2.3070193e-06]\n",
            " [8.7910000e+03 1.0000000e+00 1.8533841e-01 ... 7.1183317e-06\n",
            "  4.1757087e-04 1.8304644e-06]\n",
            " [4.9450000e+03 1.0000000e+00 1.7018746e-01 ... 5.6596564e-06\n",
            "  3.1092952e-04 1.5653349e-06]]\n"
          ]
        }
      ],
      "source": [
        "# Q1.B Data splitting for training and testing.\n",
        "\n",
        "\n",
        "trainingpoints = df.sample(n=100, random_state=1)\n",
        "print(trainingpoints.size)\n",
        "X_train = trainingpoints.iloc[:, :-1]\n",
        "print(X_train)\n",
        "print(X_train.size)\n",
        "y_train = trainingpoints.iloc[:, -1]\n",
        "X_train = X_train.to_numpy()\n",
        "print(X_train)\n",
        "y_train = y_train.to_numpy()\n",
        "\n",
        "testingpoints = df.sample(n=500, random_state=2)\n",
        "X_test = testingpoints.iloc[:, :-1]\n",
        "y_test = testingpoints.iloc[:, -1]\n",
        "X_test = X_test.to_numpy()\n",
        "y_test = y_test.to_numpy()\n",
        "\n",
        "# code here,"
      ]
    },
    {
      "cell_type": "code",
      "execution_count": null,
      "metadata": {
        "colab": {
          "base_uri": "https://localhost:8080/"
        },
        "id": "O757-Zb-iHg3",
        "outputId": "e5fc7bf3-a67c-4d0c-f4d2-61fe57f55ccb"
      },
      "outputs": [
        {
          "output_type": "stream",
          "name": "stdout",
          "text": [
            "[ 7.73651932e-09 -3.95527234e+01 -1.65594390e+01  2.10849986e+01\n",
            "  1.22600893e+02 -5.81302813e+01  3.65442400e+02  1.70292536e+00\n",
            " -9.15776566e+02  1.19342861e+02 -3.27363994e+02 -6.59221955e+02\n",
            " -2.40238377e+03 -1.79008067e+03  5.49783120e+03 -5.50243645e+02\n",
            "  1.62662316e+04  1.22325882e+04 -2.52204946e+04 -6.30246782e+04\n",
            "  2.38514086e+04 -1.05347228e+05 -8.62993512e+01 -1.41442412e+03\n",
            " -3.72767614e+03  3.44773065e+03 -1.50075322e+04  3.72283491e+03\n",
            " -2.40716762e+04  2.82577795e+02  7.52537781e+03]\n"
          ]
        }
      ],
      "source": [
        "\n",
        "# Q1.C Exact solution of Linear Regression\n",
        "w_exact = np.linalg.solve(X_train.T @ X_train, X_train.T @ y_train)\n",
        "print(w_exact)"
      ]
    },
    {
      "cell_type": "code",
      "execution_count": null,
      "metadata": {
        "colab": {
          "base_uri": "https://localhost:8080/"
        },
        "id": "N4mzZZSYHI3z",
        "outputId": "06db7b0e-32b1-42f7-c8d7-d3410f3d9c7f"
      },
      "outputs": [
        {
          "output_type": "stream",
          "name": "stdout",
          "text": [
            "[5.17112937e+05 9.06067598e+01 1.83968576e+01 5.16924097e+00\n",
            " 2.27425964e+00 1.40895817e+00 1.01737733e+00 1.41658096e+00\n",
            " 1.06392095e+00 1.87165160e+00 1.03806142e+00 1.04174025e+00\n",
            " 1.01009450e+00 1.04110683e+00 1.00350726e+00 1.01045720e+00\n",
            " 1.00316917e+00 1.00645126e+00 1.00052467e+00 1.00016284e+00\n",
            " 1.00328764e+00 1.00016321e+00 1.12841552e+00 1.02068773e+00\n",
            " 1.02144509e+00 1.00377163e+00 1.00034262e+00 1.00389295e+00\n",
            " 1.00114839e+00 1.04497311e+00 1.00040346e+00]\n"
          ]
        }
      ],
      "source": [
        "\n",
        "n= 0.01\n",
        "iterations = 10\n",
        "w = np.ones(X_train.shape[1])\n",
        "\n",
        "def gradient(X_train, y_train, w, n):\n",
        "    N = X_train.shape[0]\n",
        "    # Convert X_train and y_train to NumPy arrays to ensure consistent data types\n",
        "\n",
        "    dldw = -2 * X_train.T @ (y_train - X_train @ w)\n",
        "\n",
        "    w = w + n * dldw / N\n",
        "\n",
        "    return w\n",
        "\n",
        "print(gradient(X_train, y_train, w, n))\n",
        "\n"
      ]
    },
    {
      "cell_type": "code",
      "execution_count": null,
      "metadata": {
        "id": "1-t159XxGA4j"
      },
      "outputs": [],
      "source": []
    },
    {
      "cell_type": "code",
      "execution_count": null,
      "metadata": {
        "id": "nY7QcnAniHg7"
      },
      "outputs": [],
      "source": [
        "# Q1.C SVD for Linear Regression\n",
        "\n",
        "# code here"
      ]
    },
    {
      "cell_type": "markdown",
      "metadata": {
        "id": "4eiSH6qKiHg8"
      },
      "source": [
        "# (Q2) Newton's method for Nonlinear set of equations\n",
        "\n",
        "* For **Q2** you are only allowed to ude Numpy, Pandas, and Matplotlib, if you use any other libraries you will not get full marks.<br>\n",
        "<br>\n",
        "\n",
        "Let's consider the following reactions,\n",
        "$$\n",
        "ScF_3(s) \\to Sc^{3+}(aq) + 3F^{-}(aq), \\;\\; K_{sp} = 4.2\\times10^{-18}\\\\\n",
        "HF(aq) + H_2O \\to H_3O^{+}(aq) + F^{-}(aq), \\;\\; K_{a} = 5.6\\times10^-4\\\\\n",
        "2H_2O \\to H_3O^{+} + OH^{-}(aq), \\;\\; K_w = 10^{-14}\n",
        "$$\n",
        "\n",
        "\n",
        "We can write the concentration values for each species at equilibrium using three main variables, $\\mathbf{x}^\\top = [x_{sp},x_{a},x_{w}]$.\n",
        "These give us the following relations,\n",
        "$$\n",
        "K_{sp} = x_{sp}(3x_{sp}+ x_a)^3 \\\\\n",
        "K_{a} = \\frac{(x_{a}+x_w)(3x_{sp} + x_a)}{-x_a} \\\\\n",
        "K_w = (x_a+x_w)(x_w)\n",
        "$$\n",
        "\n",
        "You can use the following initial values for each species,\n",
        "1. $x_{sp} = 2\\times^{-5}$\n",
        "2. $x_a = -6.2\\times^{-4}$\n",
        "3. $x_w = 6.2\\times^{-4}$\n",
        "   \n",
        "```x0 = np.array([2E-5,-6.2E-4,62E-4])```. <br>\n",
        "\n",
        " <br>\n",
        "\n",
        "**Results to include,**\n",
        "1. Implement the Vector function to find $\\mathbf{x}^\\top = [x_{sp},x_{a},x_{w}]$.\n",
        "2. Implement the Jacobian function.\n",
        "3. Implement the Newton's method step function.\n",
        "4. Figure illustrating the value of the three concentrations as a function of the iterations in Newton's method.\n",
        "5. The value of the concentrations.\n",
        "6. How many iterations are required for the concentration to change less than 1E-4 from the previous iteration.\n",
        "7. Check if the answer of Newton's method depends on the initial value of the concentrations, you can use ```x0 = np.random.uniform(1E-5,1E-3,(3,))```, to generate some random initial guess.\n"
      ]
    },
    {
      "cell_type": "code",
      "execution_count": null,
      "metadata": {
        "id": "K5WdwFl7iHg_"
      },
      "outputs": [],
      "source": [
        "def equations_of_motion(x, k):\n",
        "    # code here\n",
        "\n",
        "    xsp, xa, xw = x\n",
        "    Ksp, Ka, Kw = k\n",
        "\n",
        "    f1 = x[0] * (3 * x[0] + x[1]) ** 3 - k[0]\n",
        "    f2 = (x[1] + x[2]) * (3 * x[0] + x[1]) / (-x[1]) - k[1]\n",
        "    f3 = (x[1] + x[2]) * x[2] - k[2]\n",
        "\n",
        "\n",
        "    return np.array([f1,f2,f3])\n",
        "\n",
        "def jacobian_of_equations_of_motion(x, k):\n",
        "    # code here\n",
        "\n",
        "    xsp, xa, xw = x\n",
        "\n",
        "    # Partial derivatives for matrix\n",
        "    J11 = -(3 * xsp + xa)**3 - 9 * xsp * (3 * xsp + xa)**2\n",
        "    J12 = -3 * xsp * (3 * xsp + xa)**2\n",
        "    J13 = 0\n",
        "    J21 = -(xa + xw) * 3\n",
        "    J22 = -(3 * xsp + xa) + 1\n",
        "    J23 = -(3 * xsp + xa)\n",
        "    J31 = 0\n",
        "    J32 = -xw\n",
        "    J33 = -(xa + xw) - 1\n",
        "\n",
        "    # matrix\n",
        "    jacobian = np.array([[J11, J12, J13],\n",
        "                         [J21, J22, J23],\n",
        "                         [J31, J32, J33]])\n",
        "    return jacobian\n",
        "\n",
        "def newton_step(x0,k):\n",
        "    #code here\n",
        "\n",
        "    # Compute G(x) and J(x)\n",
        "    G = equations_of_motion(x0, k)\n",
        "    J = jacobian_of_equations_of_motion(x0, k)\n",
        "\n",
        "    # Compute the Newton step\n",
        "    delta_x = np.linalg.solve(J, G)  # Solve J * delta_x = G\n",
        "    x_next = x0 - delta_x            # Update rule\n",
        "\n",
        "    return x_next"
      ]
    },
    {
      "cell_type": "code",
      "execution_count": null,
      "metadata": {
        "id": "Bv3KwhmOiHhA"
      },
      "outputs": [],
      "source": [
        "# Newton's method\n",
        "\n",
        "k = np.array([4.2E-18, 5.6E-4,1E-14])\n",
        "x0 = np.array([2E-5,-6.2E-4,62E-4])\n",
        "\n",
        "# code here for the iteration of Newton's method\n",
        "\n",
        "def newton_method(x0, k, tol=1E-4, max_iter=100):\n",
        "\n",
        "    x = x0\n",
        "    history = [x]\n",
        "\n",
        "    for i in range(max_iter):\n",
        "        x_next = newton_step(x, k)\n",
        "        history.append(x_next)\n",
        "\n",
        "        # Check convergence\n",
        "        if np.linalg.norm(x_next - x) < tol:\n",
        "            break\n",
        "\n",
        "        x = x_next\n",
        "\n",
        "    return x_next, np.array(history), i + 1\n",
        "\n",
        "# Constants\n",
        "Ksp = 4.2E-18\n",
        "Ka = 5.6E-4\n",
        "Kw = 1E-14\n",
        "k = (Ksp, Ka, Kw)\n",
        "\n",
        "# Initial guess\n",
        "x0 = np.array([2E-5, -6.2E-4, 6.2E-4])\n",
        "\n",
        "# Run Newton's method\n",
        "solution, history, iterations = newton_method(x0, k)\n",
        "\n",
        "# Results\n",
        "print(f\"Final solution: Xsp = {solution[0]} Xa = {solution[1]}  Xw = {solution[2]}\")\n",
        "print(f\"Number of iterations: {iterations}\")\n"
      ]
    },
    {
      "cell_type": "code",
      "execution_count": null,
      "metadata": {
        "id": "ZaOCDKXWiHhC"
      },
      "outputs": [],
      "source": [
        "# Newton's method with a random initial guess\n",
        "k = np.array([4.2E-18, 5.6E-4, 1E-14])\n",
        "xrand = np.random.uniform(1E-3, 1E-3, (3,))\n",
        "\n",
        "# code here for the iteration of Newton's method\n",
        "\n",
        "def newton_method(xrand, k, tol=1E-4, max_iter=100):\n",
        "\n",
        "    x = xrand\n",
        "    history = [x]\n",
        "\n",
        "    for i in range(max_iter):\n",
        "        x_next = newton_step(x, k) * 0.3  #DAMPENING FACTOR APPLIED\n",
        "        history.append(x_next)\n",
        "\n",
        "        # Check convergence\n",
        "        if np.linalg.norm(x_next - x) < tol:\n",
        "            break\n",
        "\n",
        "        x = x_next\n",
        "\n",
        "    return x_next, np.array(history), i + 1\n",
        "\n",
        "    # Constants\n",
        "Ksp = 4.2E-18\n",
        "Ka = 5.6E-4\n",
        "Kw = 1E-14\n",
        "k = (Ksp, Ka, Kw)\n",
        "\n",
        "# Initial guess\n",
        "xrand = np.random.uniform(1E-3, 1E-3, (3,))\n",
        "\n",
        "# Run Newton's method\n",
        "solution_rand, history_rand, iterations_rand = newton_method(xrand, k)\n",
        "\n",
        "# Results\n",
        "print(f\"Final solution: Xsp = {solution_rand[0]} Xa = {solution_rand[1]}  Xw = {solution_rand[2]}\")\n",
        "print(f\"Number of iterations: {iterations_rand}\")\n",
        "\n",
        "# Plot the convergence of each variable for random start\n",
        "iterations_range_rand = np.arange(len(history_rand))\n",
        "xsp_vals_rand, xa_vals_rand, xw_vals_rand = history_rand.T\n",
        "\n",
        "plt.figure(figsize=(8, 6))\n",
        "plt.plot(iterations_range_rand, xsp_vals_rand, label=\"$x_{sp}$ (random)\")\n",
        "plt.plot(iterations_range_rand, xa_vals_rand, label=\"$x_{a}$ (random)\")\n",
        "plt.plot(iterations_range_rand, xw_vals_rand, label=\"$x_{w}$ (random)\")\n",
        "plt.xlabel(\"Iterations\")\n",
        "plt.ylabel(\"Concentration (mol/L)\")\n",
        "plt.title(\"Concentrations as a Function of Iterations (Random Start)\")\n",
        "plt.legend()\n",
        "plt.grid()\n",
        "plt.show()"
      ]
    },
    {
      "cell_type": "code",
      "execution_count": null,
      "metadata": {
        "id": "zc6qyd3giHhE"
      },
      "outputs": [],
      "source": [
        "# Q2 Results\n",
        "# 4. Figure illustrating the value of the three concentrations as a function of the iterations in Newton's method.\n",
        "\n",
        "# Plot the convergence of each variable\n",
        "\n",
        "iterations_range = np.arange(len(history))\n",
        "xsp_vals, xa_vals, xw_vals = history.T\n",
        "\n",
        "plt.figure(figsize=(8, 6))\n",
        "plt.plot(iterations_range, xsp_vals, label=\"$x_{sp}$\")\n",
        "plt.plot(iterations_range, xa_vals, label=\"$x_{a}$\")\n",
        "plt.plot(iterations_range, xw_vals, label=\"$x_{w}$\")\n",
        "plt.xlabel(\"Iterations\")\n",
        "plt.ylabel(\"Concentration (mol/L)\")\n",
        "plt.title(\"Concentrations as a Function of Iterations\")\n",
        "plt.legend()\n",
        "plt.grid()\n",
        "plt.show()"
      ]
    },
    {
      "cell_type": "code",
      "execution_count": null,
      "metadata": {
        "id": "42B9RR8ZiHhG"
      },
      "outputs": [],
      "source": [
        "# 5. The value of the concentrations.\n",
        "print(f\"Final solution: Xsp = {solution[0]} Xa = {solution[1]}  Xw = {solution[2]}\")\n",
        "# 6. How many iterations are required for the concentration to change less than 1E-4 from the previous iteration.\n",
        "\n",
        "print(f\"Number of iterations: {iterations}\")\n",
        "\n",
        "# 7. Check if the answer of Newton's method depends on the initial value of the concentrations, you can use ```x0 = np.random.uniform(1E-5,1E-3,(3,))```, to generate some random initial guess.\n",
        "\n",
        "print(f\"Final solution for random start: Xsp = {solution_rand[0]} Xa = {solution_rand[1]}  Xw = {solution_rand[2]}\")\n",
        "print(f\"Number of iterations for random start: {iterations_rand}\")"
      ]
    },
    {
      "cell_type": "markdown",
      "metadata": {
        "id": "HdsoFrSmiHhH"
      },
      "source": [
        "# Q3 Molecular orbitals and Diagonalization"
      ]
    },
    {
      "cell_type": "markdown",
      "metadata": {
        "id": "S_QbyJTSiHhI"
      },
      "source": [
        "# Hückel model\n",
        "As we saw in class, the Hückel model is one of the most basic models to describe the interaction between electrons in a molecule. <br>\n",
        "The Hückel model is based on the following assumptions:\n",
        "1. Only next-nearest neighbors atoms form bonds and if so $S_{ij} = 1$, else $S_{ij} = 0$.\n",
        "2. The matrix elements of the Hamiltonian are described depending on the type of atom. <br>\n",
        "   We will follow the notation of the paper, [A Pariser-Parr-Pople-based set of Hueckel molecular orbital parameters](https://pubs.acs.org/doi/abs/10.1021/jo01311a060), <br>\n",
        "   where the diagonal elements ($h_i$) and off-diagonal elements ($h_{ij}$) are given by,\n",
        "\n",
        "    $$\n",
        "    h_{i} = \\alpha_0 + h_{X} \\beta_0 \\\\\n",
        "    h_{ij} = h_{X,Y} \\beta_0 \\\\\n",
        "    $$\n",
        "    \n",
        "Table 1 and 2 from [paper](https://pubs.acs.org/doi/abs/10.1021/jo01311a060) have those respected values.\n",
        "1. Table 1 $\\to$ $h_i$ for different types of atoms.\n",
        "2. Table 2 $\\to$ $ h_{X,Y}$ for different types of atoms, $X$ and $Y$ are the index for the type of atoms that form a bond.\n",
        "\n",
        "**Results to include,**\n",
        "1. What is the **HOMO-LUMO** value for Benzene.\n",
        "2. Plot HOMO or LUMO orbital using the ```plot_benzene_with_lcao_circles()``` function.\n",
        "   "
      ]
    },
    {
      "cell_type": "code",
      "execution_count": null,
      "metadata": {
        "id": "xWa_Vs-biHhJ"
      },
      "outputs": [],
      "source": [
        "def create_hamiltonian_for_benzene():\n",
        "  H = np.zeros((6,6))\n",
        "  for i in range(6):\n",
        "    for ii in range(6):\n",
        "      if i-ii == 1 or i-ii == 5 or ii-i == 1 or ii-i == 5:\n",
        "        H[i,ii] = 1\n",
        "  return H\n",
        "\n",
        "def diagonalize_hamiltonian():\n",
        "    eigenvalues, eigenvectors = np.linalg.eig(create_hamiltonian_for_benzene())\n",
        "    return eigenvalues, eigenvectors\n",
        "\n",
        "def generate_lcao_magnitudes(eigenvalues,eigenvectors):\n",
        "  #benzene has 3 double bonds so 6 pi electrons\n",
        "  #therefore the 3rd eigenvalue is the HOMO eigenvector\n",
        "  eigenvalues_sorted = np.sort(eigenvalues)\n",
        "  HOMO_eigenvalue = eigenvalues_sorted[2]\n",
        "  for i in range(eigenvalues.size):\n",
        "    if eigenvalues[i] == HOMO_eigenvalue:\n",
        "      HOMOindex = i\n",
        "  HOMO = eigenvectors[HOMOindex]\n",
        "  print(\"HOMOindex: \", HOMOindex)\n",
        "  print(\"HOMO eigenvalue: \", eigenvalues[HOMOindex], \" HOMO eigenvector: \", eigenvectors[HOMOindex])\n",
        "  return HOMO\n",
        "\n",
        "def calc_HOMO_LUMO_gap(eigenvalues):\n",
        "  eigenvalues_sorted = np.sort(eigenvalues)\n",
        "  HOMO_eigenvalue = eigenvalues_sorted[2]\n",
        "  LUMO_eigenvalue = eigenvalues_sorted[3]\n",
        "  HOMO_LUMO_gap = LUMO_eigenvalue - HOMO_eigenvalue\n",
        "  return HOMO_LUMO_gap\n"
      ]
    },
    {
      "cell_type": "code",
      "execution_count": null,
      "metadata": {
        "id": "-DwOpwWEiHhK"
      },
      "outputs": [],
      "source": [
        "\n",
        "from matplotlib.cm import ScalarMappable\n",
        "from matplotlib.colors import Normalize\n",
        "\n",
        "# Define the benzene molecule coordinates\n",
        "def benzene_positions():\n",
        "    # 6 evenly spaced points around a circle\n",
        "    theta = np.linspace(0, 2 * np.pi, 7)[:-1]\n",
        "    radius = 1.0\n",
        "    x = radius * np.cos(theta)\n",
        "    y = radius * np.sin(theta)\n",
        "    return np.array([x, y]).T\n",
        "\n",
        "# Plot benzene with LCAO magnitudes\n",
        "def plot_benzene_with_lcao_circles(magnitudes):\n",
        "    positions = benzene_positions()\n",
        "    # magnitudes = generate_lcao_magnitudes()\n",
        "\n",
        "    # Normalize magnitudes for color mapping\n",
        "    norm = Normalize(vmin=np.min(magnitudes), vmax=np.max(magnitudes))\n",
        "    colormap = plt.cm.viridis\n",
        "\n",
        "    fig, ax = plt.subplots(figsize=(8, 8))\n",
        "    ax.set_aspect('equal')\n",
        "\n",
        "    # Plot benzene structure\n",
        "    for i in range(len(positions)):\n",
        "        ax.plot(\n",
        "            [positions[i, 0], positions[(i + 1) % len(positions), 0]],\n",
        "            [positions[i, 1], positions[(i + 1) % len(positions), 1]],\n",
        "            'k-', lw=2\n",
        "        )\n",
        "\n",
        "    # Plot circles for each carbon atom\n",
        "    for pos, mag in zip(positions, magnitudes):\n",
        "        color = colormap(norm(mag))\n",
        "        circle = plt.Circle(pos, radius=0.2, color=color,\n",
        "                            edgecolor='black', lw=1)\n",
        "        ax.add_artist(circle)\n",
        "        ax.text(pos[0], pos[1], f\"{mag:.2f}\", fontsize=8,\n",
        "                ha='center', va='center', color='white')\n",
        "\n",
        "    # Add colorbar\n",
        "    sm = ScalarMappable(cmap=colormap, norm=norm)\n",
        "    sm.set_array(magnitudes)\n",
        "    cbar = plt.colorbar(sm, ax=ax, orientation='vertical')\n",
        "    cbar.set_label(\"Magnitude of LCAO\")\n",
        "\n",
        "    # Adjust plot limits and labels\n",
        "    ax.set_xlim(-1.5, 1.5)\n",
        "    ax.set_ylim(-1.5, 1.5)\n",
        "    ax.axis('off')\n",
        "    plt.title(\"Benzene with LCAO Magnitudes (Circles by Magnitude)\")\n",
        "    plt.show()\n"
      ]
    },
    {
      "cell_type": "code",
      "execution_count": null,
      "metadata": {
        "id": "JiSl1CHpiHhL",
        "colab": {
          "base_uri": "https://localhost:8080/",
          "height": 913
        },
        "outputId": "f1124589-a663-4f7e-cde2-5eb3f23220e5"
      },
      "outputs": [
        {
          "output_type": "stream",
          "name": "stdout",
          "text": [
            "Hamiltonian matrix: \n",
            "[[0. 1. 0. 0. 0. 1.]\n",
            " [1. 0. 1. 0. 0. 0.]\n",
            " [0. 1. 0. 1. 0. 0.]\n",
            " [0. 0. 1. 0. 1. 0.]\n",
            " [0. 0. 0. 1. 0. 1.]\n",
            " [1. 0. 0. 0. 1. 0.]]\n",
            "# of eigenvalues:  6\n",
            "HOMOindex:  4\n",
            "HOMO eigenvalue:  -0.9999999999999996  HOMO eigenvector:  [ 0.40824829 -0.40824829  0.28867513 -0.29351503 -0.5297411   0.4437968 ]\n",
            "[0.40824829 0.40824829 0.28867513 0.29351503 0.5297411  0.4437968 ]\n"
          ]
        },
        {
          "output_type": "stream",
          "name": "stderr",
          "text": [
            "<ipython-input-13-3fd772fc7ff5>:36: UserWarning: Setting the 'color' property will override the edgecolor or facecolor properties.\n",
            "  circle = plt.Circle(pos, radius=0.2, color=color,\n"
          ]
        },
        {
          "output_type": "display_data",
          "data": {
            "text/plain": [
              "<Figure size 800x800 with 2 Axes>"
            ],
            "image/png": "[encoded data removed]"
          },
          "metadata": {}
        },
        {
          "output_type": "stream",
          "name": "stdout",
          "text": [
            "Benzene eigenvalues:  [-2. -1. -1.  1.  1.  2.]\n",
            "HOMO_LUMO_gap:  1.9999999999999991\n"
          ]
        }
      ],
      "source": [
        "#create and print Hamiltonian matrix for benzene\n",
        "print(\"Hamiltonian matrix: \")\n",
        "H = create_hamiltonian_for_benzene()\n",
        "print(H)\n",
        "\n",
        "#diagonalize hamiltonian and check the size of its eigenvalue array\n",
        "eigenvalues, eigenvectors = diagonalize_hamiltonian()\n",
        "print(\"# of eigenvalues: \", eigenvalues.size)\n",
        "\n",
        "# Generate LCAO for HOMO and plot it\n",
        "HOMO = np.abs(generate_lcao_magnitudes(eigenvalues,eigenvectors))\n",
        "print(HOMO)\n",
        "plot_benzene_with_lcao_circles(HOMO)\n",
        "\n",
        "#Print LUMO-HOMO\n",
        "HOMO_LUMO_gap = calc_HOMO_LUMO_gap(eigenvalues)\n",
        "print(\"Benzene eigenvalues: \", np.sort(eigenvalues))\n",
        "print(\"HOMO_LUMO_gap: \", HOMO_LUMO_gap)"
      ]
    }
  ],
  "metadata": {
    "colab": {
      "provenance": [],
      "collapsed_sections": [
        "4eiSH6qKiHg8"
      ]
    },
    "kernelspec": {
      "display_name": "chem3pc3",
      "language": "python",
      "name": "python3"
    },
    "language_info": {
      "codemirror_mode": {
        "name": "ipython",
        "version": 3
      },
      "file_extension": ".py",
      "mimetype": "text/x-python",
      "name": "python",
      "nbconvert_exporter": "python",
      "pygments_lexer": "ipython3",
      "version": "3.12.4"
    }
  },
  "nbformat": 4,
  "nbformat_minor": 0
}