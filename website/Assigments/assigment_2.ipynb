{
 "cells": [
  {
   "cell_type": "markdown",
   "metadata": {},
   "source": [
    "# Assignment 2\n",
    "**Due date** December 6th, 2024.\n",
    "\n",
    "Please fo not forget to add your names, student IDs, and emails in this file.<br>\n",
    "**Only submit one file per team**\n",
    "\n",
    "<a target=\"_blank\" href=\"https://colab.research.google.com/github/ChemAI-Lab/Math4Chem/blob/main/website/Assigments/assigment_1.ipynb\">\n",
    "  <img src=\"https://colab.research.google.com/assets/colab-badge.svg\" alt=\"Open In Colab\"/>\n",
    "</a>"
   ]
  },
  {
   "cell_type": "code",
   "execution_count": null,
   "metadata": {},
   "outputs": [],
   "source": [
    "# load the required libraries that you will need for this assignment\n",
    "#  [5 marks]\n",
    "# loading any libraries in other cells will deduct you marks."
   ]
  },
  {
   "cell_type": "markdown",
   "metadata": {},
   "source": [
    "## (Q1) Linear Regression\n",
    "* For **Q1** you are only allowed to ude Numpy, Pandas, and Matplotlib, if you use any other libraries you will not get full marks.<br>\n",
    "<br>\n",
    "\n",
    "To Do: Write an introduction to the linear regression. <br>\n",
    "\n",
    "The following data is based on a Polynomial expansion to predict the electronic energy of methane for different geometries. <br>\n",
    "We will follow the work presented in the paper, [paper link](https://pubs.acs.org/doi/full/10.1021/acs.jctc.9b00043)<br>\n",
    "\"*Using Gradients in Permutationally Invariant Polynomial Potential Fitting: A Demonstration for CH4 Using as Few as 100 Configurations*\".\n",
    "\n",
    "The main idea is to expand the inter-atomic distance of the 5 atoms in terms on a polynomial expansion,\n",
    "$$\n",
    "y = \\sum^{np}_{i} w_i \\phi_i(\\mathbf{r})\n",
    "$$\n",
    "where $w_i$ are the weights, $\\phi_i$ are the Permutationally Invariant Polynomial expansion, and $\\mathbf{r}$ are the inter-atomic distances. \n",
    "\n",
    "In the dataset provided, the values of the vector $\\mathbf{\\phi}(\\mathbf{r})^\\top = [\\phi_0(\\mathbf{r}),\\cdots,\\phi_{np}(\\mathbf{r})]$, are in each column of a raw, with the respective energy in the last column. \n"
   ]
  },
  {
   "cell_type": "markdown",
   "metadata": {},
   "source": [
    "## (Q1.A) Data preprocessing \n",
    "1. Load the dataset from the provided link and print the first few rows.<br>\n",
    "    (https://raw.githubusercontent.com/ChemAI-Lab/Math4Chem/main/website/Assigments/CH4_data.csv)<br>\n",
    "    1. Answer the following questions, \n",
    "       1. How many points does the dataset contains?\n",
    "       2. What is the point with the lowest energy and what is its value?\n",
    "       3. What is the range of energies in the dataset?\n",
    "       4. Do a histogram of the energy.\n",
    "   "
   ]
  },
  {
   "cell_type": "markdown",
   "metadata": {},
   "source": [
    "## (Q1.B) Data splitting fitting \n",
    "Before you carry each of these three different strategies to find the optimal mode, you first need to,\n",
    "   1. Sample **100** random points (training points), and other **500** random points (test points). <br>\n",
    "   Use the randomly sampled 100 points only for training, and the other 500 to test accuracy of the three different models. <br>"
   ]
  },
  {
   "cell_type": "markdown",
   "metadata": {},
   "source": [
    "## (Q1.C) Model fitting, \n",
    "The main goal of this section is to train this regression model using, \n",
    "   1. Exact solution\n",
    "   2. Gradient descent\n",
    "      1. Do not forget to play around with the $\\eta$ parameter for gradient descent, \n",
    "      2. How many iterations do you need to reach a \"good\" model. \n",
    "      3. Plot the value of the training error as a function of the iterations in gradient descent, (this is known as **learning curves**).\n",
    "   3. SVD for linear regression\n",
    "\n",
    "**Extra results you need to include,**\n",
    "1. In a single figure, plot the vector of the optimal linear weights of the three models, label each curve. \n",
    "2. For each model, create a figure where you plot **predicted vs true** values of the training and test points (use different symbols to identify training and test points). <br>\n",
    "In each figure, also display the [$r^2$ score](https://en.wikipedia.org/wiki/Coefficient_of_determination) value. \n",
    "3. What of the three models had the best performance?\n",
    "4. Choose the model with the lowest test error, you can use root mean squared error, and see how much the test error will change if we sample another *100* points from the untouched data as the new training points.\n",
    "Do this 5 times so we can compute the mean and standard deviation of the test error. \n"
   ]
  },
  {
   "cell_type": "code",
   "execution_count": null,
   "metadata": {},
   "outputs": [],
   "source": [
    "# Q1.A. Data preprocessing\n",
    "\n",
    "# load data using pandas\n",
    "\n",
    "\n",
    "# 1. How many points does the dataset contains?\n",
    "\n",
    "\n",
    "# 2. What is the point with the lowest energy and what is its value?\n",
    "\n",
    "\n",
    "# 3. What is the range of energies in the dataset? The energy is reported in Hartree\n",
    "\n",
    "\n",
    "# 4. Do a histogram of the energy.\n",
    "\n"
   ]
  },
  {
   "cell_type": "code",
   "execution_count": null,
   "metadata": {},
   "outputs": [],
   "source": [
    "# Q1.B Data splitting for training and testing.\n",
    "# code here, "
   ]
  },
  {
   "cell_type": "code",
   "execution_count": null,
   "metadata": {},
   "outputs": [],
   "source": [
    "# Q1.C Exact solution of Linear Regression\n",
    "#code here"
   ]
  },
  {
   "cell_type": "code",
   "execution_count": null,
   "metadata": {},
   "outputs": [],
   "source": [
    "# Q1.C Gradient descent for Linear Regression\n",
    "# code here "
   ]
  },
  {
   "cell_type": "code",
   "execution_count": null,
   "metadata": {},
   "outputs": [],
   "source": [
    "# Q1.C SVD for Linear Regression\n",
    "# code here"
   ]
  },
  {
   "cell_type": "markdown",
   "metadata": {},
   "source": [
    "# (Q2) Newton's method for Nonlinear set of equations\n",
    "\n",
    "* For **Q2** you are only allowed to ude Numpy, Pandas, and Matplotlib, if you use any other libraries you will not get full marks.<br>\n",
    "<br>\n",
    "\n",
    "Let's consider the following reactions,\n",
    "$$\n",
    "ScF_3(s) \\to Sc^{3+}(aq) + 3F^{-}(aq), \\;\\; K_{sp} = 4.2\\times10^{-18}\\\\\n",
    "HF(aq) + H_2O \\to H_3O^{+}(aq) + F^{-}(aq), \\;\\; K_{a} = 5.6\\times10^-4\\\\\n",
    "2H_2O \\to H_3O^{+} + OH^{-}(aq), \\;\\; K_w = 10^{-14}\n",
    "$$\n",
    "\n",
    "\n",
    "We can write the concentration values for each species at equilibrium using three main variables, $\\mathbf{x}^\\top = [x_{sp},x_{a},x_{w}]$.\n",
    "These give us the following relations,\n",
    "$$\n",
    "K_{sp} = x_{sp}(3x_{sp}+ x_a)^3 \\\\\n",
    "K_{a} = \\frac{(x_{a}+x_w)(3x_{sp} + x_a)}{-x_a} \\\\\n",
    "K_w = (x_a+x_w)(x_w)\n",
    "$$\n",
    "\n",
    "You can use the following initial values for each species, \n",
    "1. $x_{sp} = 2\\times^{-5}$\n",
    "2. $x_a = -6.2\\times^{-4}$\n",
    "3. $x_w = 6.2\\times^{-4}$\n",
    "   \n",
    "```x0 = np.array([2E-5,-6.2E-4,62E-4])```. <br>\n",
    "\n",
    " <br>\n",
    " \n",
    "**Results to include,**\n",
    "1. Implement the Vector function to find $\\mathbf{x}^\\top = [x_{sp},x_{a},x_{w}]$.\n",
    "2. Implement the Jacobian function.\n",
    "3. Implement the Newton's method step function. \n",
    "4. Figure illustrating the value of the three concentrations as a function of the iterations in Newton's method. \n",
    "5. The value of the concentrations. \n",
    "6. How many iterations are required for the concentration to change less than 1E-4 from the previous iteration.\n",
    "7. Check if the answer of Newton's method depends on the initial value of the concentrations, you can use ```x0 = np.random.uniform(1E-5,1E-3,(3,))```, to generate some random initial guess.\n"
   ]
  },
  {
   "cell_type": "code",
   "execution_count": null,
   "metadata": {},
   "outputs": [],
   "source": [
    "def equations_of_motion(x, k):\n",
    "    # code here\n",
    "    \n",
    "    return np.array([f1,f2,f3])\n",
    "\n",
    "\n",
    "def jacobian_of_equations_of_motion(x, k):\n",
    "    # code here\n",
    "        \n",
    "    return jacobian\n",
    "def newton_step(x0,k):\n",
    "    #code here\n",
    "    return x_next"
   ]
  },
  {
   "cell_type": "code",
   "execution_count": null,
   "metadata": {},
   "outputs": [],
   "source": [
    "# Newton's method\n",
    "\n",
    "k = np.array([4.2E-18, 5.6E-4,1E-14])\n",
    "x0 = np.array([2E-5,-6.2E-4,62E-4])\n",
    "\n",
    "# code here for the iteration of Newton's method"
   ]
  },
  {
   "cell_type": "code",
   "execution_count": null,
   "metadata": {},
   "outputs": [],
   "source": [
    "# Newton's method with a random initial guess\n",
    "k = np.array([4.2E-18, 5.6E-4, 1E-14])\n",
    "x0 = np.random.uniform(1E-3, 1E-3, (3,))\n",
    "\n",
    "# code here for the iteration of Newton's method"
   ]
  },
  {
   "cell_type": "code",
   "execution_count": null,
   "metadata": {},
   "outputs": [],
   "source": [
    "# Q2 Results\n",
    "# 4. Figure illustrating the value of the three concentrations as a function of the iterations in Newton's method. \n"
   ]
  },
  {
   "cell_type": "code",
   "execution_count": null,
   "metadata": {},
   "outputs": [],
   "source": [
    "# 5. The value of the concentrations. \n",
    "\n",
    "# 6. How many iterations are required for the concentration to change less than 1E-4 from the previous iteration.\n",
    "\n",
    "# 7. Check if the answer of Newton's method depends on the initial value of the concentrations, you can use ```x0 = np.random.uniform(1E-5,1E-3,(3,))```, to generate some random initial guess.\n"
   ]
  },
  {
   "cell_type": "markdown",
   "metadata": {},
   "source": [
    "# Q3 Eigenvalues and Eigenvectors. (under construction!)\n",
    "This question will cover the use of eigenvalues and eigenvectors in Chemistry. <br>\n",
    "I will upload the question later today, as this is the last topic of the course."
   ]
  },
  {
   "cell_type": "markdown",
   "metadata": {},
   "source": []
  }
 ],
 "metadata": {
  "kernelspec": {
   "display_name": "chem3pc3",
   "language": "python",
   "name": "python3"
  },
  "language_info": {
   "codemirror_mode": {
    "name": "ipython",
    "version": 3
   },
   "file_extension": ".py",
   "mimetype": "text/x-python",
   "name": "python",
   "nbconvert_exporter": "python",
   "pygments_lexer": "ipython3",
   "version": "3.12.4"
  }
 },
 "nbformat": 4,
 "nbformat_minor": 2
}
