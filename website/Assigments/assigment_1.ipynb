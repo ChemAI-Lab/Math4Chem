{
 "cells": [
  {
   "cell_type": "markdown",
   "metadata": {},
   "source": [
    "# Assignment 1\n",
    "**Due date** October 24th, 2024.\n",
    "\n",
    "\n",
    "Please fo not forget to add your names, student IDs, and emails in this file.\n",
    "\n",
    "<a target=\"_blank\" href=\"https://colab.research.google.com/github/ChemAI-Lab/Math4Chem/blob/main/website/Assigments/assigment_1.ipynb\">\n",
    "  <img src=\"https://colab.research.google.com/assets/colab-badge.svg\" alt=\"Open In Colab\"/>\n",
    "</a>"
   ]
  },
  {
   "cell_type": "code",
   "execution_count": null,
   "metadata": {},
   "outputs": [],
   "source": [
    "# !pip install rdkit"
   ]
  },
  {
   "cell_type": "code",
   "execution_count": 96,
   "metadata": {},
   "outputs": [],
   "source": [
    "# load the required libraries that you will need for this assignment\n",
    "#  [5 marks]\n",
    "# loading any libraries in other cells will deduct you marks. \n",
    "import numpy as np\n",
    "import matplotlib\n",
    "import matplotlib.pyplot as plt"
   ]
  },
  {
   "cell_type": "code",
   "execution_count": 121,
   "metadata": {},
   "outputs": [],
   "source": [
    "# import this additional libraries\n",
    "import pandas as pd\n",
    "from rdkit.Chem import AllChem, Descriptors, MolFromSmiles, MolToSmiles\n",
    "from rdkit.Chem.Draw import IPythonConsole\n",
    "from rdkit.Chem import Draw\n",
    "from rdkit.Chem import rdFingerprintGenerator"
   ]
  },
  {
   "cell_type": "markdown",
   "metadata": {},
   "source": [
    "# Question 1\n",
    "The van der Waals equation of state is given by, \n",
    "$$\n",
    "P(V,T) = \\frac{RT}{V-b} - \\frac{a}{V^2}\n",
    "$$\n",
    "where $P(V,T)$ is the pressure, $R$ is the ideal gas constant, $T$ is the temperature, $V$ is the molar volume, and $a$ and $b$ are constants.\n",
    "The value of $a$ and $b$ are,\n",
    "* a = 1.38169 $\\frac{bar\\; L^2}{mol}$\n",
    "* b = 0.0387 $\\frac{L}{mol}$\n",
    "* \n",
    "The van der Waals equation of state is normally only used to model the gas."
   ]
  },
  {
   "cell_type": "markdown",
   "metadata": {},
   "source": [
    "## Q1.a [5 marks]\n",
    "Plot $P$ vs $V$ with for an isotherm ($T=77.25K$). \n",
    "For the plot to look ``nice'' the grid must have the following properties,\n",
    "1. lowest and maximum values of $V$ are, $V_{min} = 0.045 \\frac{L}{mol}$, and $V_{max} = 1 \\frac{L}{mol}$. \n",
    "2. the total grid must have 10,000 points\n",
    "   \n",
    "Create a function that computes $P$ using the van der Waals equation of state. <br>\n"
   ]
  },
  {
   "cell_type": "code",
   "execution_count": null,
   "metadata": {},
   "outputs": [],
   "source": [
    "# code for the grid\n",
    "\n",
    "v_min = 0.045  # L/mol\n",
    "v_max = 1  # L/mol\n",
    "delta_v = 1E-5\n",
    "n_points = 10000\n",
    "\n",
    "v_grid = np.linspace(v_min, v_max,n_points)"
   ]
  },
  {
   "cell_type": "code",
   "execution_count": 92,
   "metadata": {},
   "outputs": [],
   "source": [
    "# code for P state function\n",
    "def P_vanW(V,T):\n",
    "    R =  # L⋅bar⋅K−1⋅mol−1\n",
    "    a =   # bar L^2/mol\n",
    "    b =  # L/mol\n",
    "    \n",
    "    return p"
   ]
  },
  {
   "cell_type": "code",
   "execution_count": null,
   "metadata": {},
   "outputs": [],
   "source": [
    "# code for plotting P state function\n",
    "# The x-axis and y-axis must specify the name of the variables you are plotting. (marks will be deduced if you do not specify what variable is each axis)\n",
    "\n",
    "T = 77.25\n",
    "p = P_vanW(v_grid,T)\n",
    "plt.scatter(v_grid, p)\n",
    "plt.xlabel('V')\n",
    "plt.ylabel('P')"
   ]
  },
  {
   "cell_type": "markdown",
   "metadata": {},
   "source": [
    "## Q1.b [10 marks]\n",
    "\n",
    "From the fundamental equation of thermodynamics we can define the following equality, \n",
    "$$\n",
    "\\int_{P_1}^{P_2} V(P)\\;dP = \\int_{V_1}^{V_2} V \\left (\\frac{\\partial P}{\\partial V} \\right )_{T}dV\n",
    "$$\n",
    "\n",
    "As you can see from this integral it is also necessary the computation of partial derivative of the state function P.\n",
    "\n",
    "\n",
    "Compute the partial derivative of $P(V,T)$ with respect to $V$ at $T=77.25K$ using the following numerical approximation for the derivative. <br>\n",
    "**Three-point forward difference formula:**\n",
    "$$\n",
    "\\frac{\\partial f}{\\partial x} \\approx \\frac{-3 f(x) + 4f(x+h) - f(x+2h)}{2h}\n",
    "$$\n",
    "where $f(x)$ is the function you want to differentiate, $x$ is the variable, and $h$ is the step size.\n",
    "\n",
    "1. Create a python function that computes the derivative of P with respect to V using the three-point forward difference.\n",
    "2. Cerate a python function that computes the analytical derivative of P with respect to V.\n",
    "3. Compute the Frobenius norm of the difference of the derivative of P with respect to V computed with both methods. \n",
    "Compare your results with the analytical solution (extra exercise for your midterm).\n",
    "\n",
    "Verify the output of any of both functions is the same size as the grid of the input."
   ]
  },
  {
   "cell_type": "code",
   "execution_count": 100,
   "metadata": {},
   "outputs": [],
   "source": [
    "def three_point_differentiation(x,h):\n",
    "    # code goes here\n",
    "\n",
    "    return derivative"
   ]
  },
  {
   "cell_type": "code",
   "execution_count": 101,
   "metadata": {},
   "outputs": [],
   "source": [
    "# partial derivative of P with respect to V at constant T\n",
    "def dP_dV(V,T):\n",
    "    # code goes here\n",
    "    \n",
    "    return derivative"
   ]
  },
  {
   "cell_type": "code",
   "execution_count": 99,
   "metadata": {},
   "outputs": [],
   "source": [
    "# value the Frobenius norm of the difference of the derivative compute with three-point forward difference and the analytical derivative.\n",
    "\n",
    "# code here"
   ]
  },
  {
   "cell_type": "markdown",
   "metadata": {},
   "source": [
    "## Q1.c numerical integration\n",
    "\n",
    "In class we saw that the integral of a function can be approximated using the sum of the integrand.<br>\n",
    "**Composite Three-Point Trapezoidal Rule:**\n",
    "For a uniform grid where $h$ is the spacing between consecutive points, the composite three-point trapezoidal rule can be written as,\n",
    "$$\n",
    "\\int_{a}^{b} f(x) dx = \\frac{h}{4} \\sum_{i=0}^{N-3} \\left (f(x_i) + 2f(x_{i+1}) + f(x_{i+2}) \\right )\n",
    "$$\n",
    "where $N$ is the number of grid points. \n",
    "\n",
    "1. Create a python function for the three-point trapezoidal rule for numerical integration.\n",
    "2. Cerate a python function that computes the analytical integration of $\\int_{V_1}^{V_2} V \\left (\\frac{\\partial P}{\\partial V} \\right )_{T}dV$ for different values of $V_1$ and $V_2$ and T.\n",
    "3. Compare your three-point trapezoidal rule function for this example with the analytical number.\n",
    "4. Compute the Frobenius norm of the difference of the derivative of P with respect to V computed with both methods. \n",
    "Compare your results with the analytical solution (extra exercise for your midterm)."
   ]
  },
  {
   "cell_type": "code",
   "execution_count": 102,
   "metadata": {},
   "outputs": [],
   "source": [
    "def three_point_trapezoidal_rule(f,h):\n",
    "    # code here\n",
    "    \n",
    "    return integral\n"
   ]
  },
  {
   "cell_type": "code",
   "execution_count": null,
   "metadata": {},
   "outputs": [],
   "source": [
    "# function that computes the analytical integral of int V (dP/dV)_T \n",
    "def analytical_integral(V_min,V_max,T):\n",
    "    \n",
    "    # code here\n",
    "    \n",
    "    return integral"
   ]
  },
  {
   "cell_type": "markdown",
   "metadata": {},
   "source": []
  },
  {
   "cell_type": "markdown",
   "metadata": {},
   "source": []
  },
  {
   "cell_type": "markdown",
   "metadata": {},
   "source": [
    "# Q3 Tanimoto similarity function [10marks]\n",
    "\n",
    "Later in class we will see that a molecule can be represented numerically using a **finger prints** representation. This numerical vector is used describe each individual molecule,\n",
    "for example for the molecule of caffeine, \n"
   ]
  },
  {
   "cell_type": "markdown",
   "metadata": {},
   "source": [
    "Now, suppose you have a database of 5,000 molecules.<br>\n",
    "To find the similarity of the caffeine molecule with the database. <br>\n",
    "You would calculate the **Tanimoto similarity** between each molecule in the database and the caffeine molecule.<br>\n",
    "\n",
    "\n",
    "**Tanimoto similarity**\n",
    "$$\n",
    "TS(\\mathbf{x}, \\mathbf{x}') = \\frac{\\mathbf{x}^\\top\\mathbf{x}'}{\\|\\mathbf{x}\\|^2 + \\|\\mathbf{x}'\\|^2 - \\mathbf{x}^\\top\\mathbf{x}'},\n",
    "$$\n",
    "where\n",
    "* $\\mathbf{x}$ is the fingerprint representation of a molecule\n",
    "* $\\mathbf{x}^\\top\\mathbf{x}'$ is the dot product between two molecules' fingerprint representation\n",
    "* $\\|\\mathbf{x}\\|^2$ is the square norm of the fingerprint representation; $\\|\\mathbf{x}\\|^2 = \\sum_i^n x_i^2$\n",
    "\n",
    "1. Two structures are usually considered similar if $TS > 0.5$.\n",
    "From the database, how many molecules are similar to the caffeine molecule?\n",
    "1. Plot a histogram of the Tanimoto similarity between each molecule in the database and the caffeine molecule. The histogram must have 200 bins.\n",
    "2. What is the less similar molecule to caffeine.\n",
    "3. What is the average Tanimoto similarity between each molecule in the database and caffeine? "
   ]
  },
  {
   "cell_type": "code",
   "execution_count": null,
   "metadata": {},
   "outputs": [],
   "source": [
    "# code to get the fingerprint representation for each molecule\n",
    "def get_fingerprints(m_smiles, radius=2, nbits=2048):\n",
    "  m = AllChem.MolFromSmiles(m_smiles)\n",
    "  m = AllChem.AddHs(m)\n",
    "  m_fingerprints = AllChem.GetMorganFingerprintAsBitVect(\n",
    "      m, radius=radius, nBits=nbits)\n",
    "  return np.asarray(m_fingerprints)"
   ]
  },
  {
   "cell_type": "code",
   "execution_count": 119,
   "metadata": {},
   "outputs": [],
   "source": [
    "# Tanimoto similarity\n",
    "def tanimoto_similarity(fp_molecule1, fp_molecule2):\n",
    "    \n",
    "    x = fp_molecule1\n",
    "    xp = fp_molecule2\n",
    "    \n",
    "    # code here\n",
    "    \n",
    "    return similarity"
   ]
  },
  {
   "cell_type": "code",
   "execution_count": null,
   "metadata": {},
   "outputs": [],
   "source": [
    "# caffeine molecule\n",
    "smiles_caff = 'Cn1cnc2c1c(=O)n(C)c(=O)n2C'\n",
    "# get the fingerprint representation of caffeine molecule\n",
    "x_caff = get_fingerprints(smiles_caff)\n",
    "print(x_caff)\n",
    "\n",
    "\n",
    "# template for plotting the molecule\n",
    "m = AllChem.MolFromSmiles(smiles_caff)\n",
    "m"
   ]
  },
  {
   "cell_type": "code",
   "execution_count": null,
   "metadata": {},
   "outputs": [],
   "source": [
    "# Paraxanthine\n",
    "parax_sm = 'O=C2Nc1ncn(c1C(=O)N2C)C'\n",
    "m1 = MolFromSmiles(parax_sm)\n",
    "x_parax_fp = get_fingerprints(parax_sm)\n",
    "m1\n",
    "\n",
    "# similarity between Paraxanthine and Caffeine\n",
    "similarity = tanimoto_similarity(x_caff, x_parax_fp)\n",
    "print('Similarity = ', similarity)"
   ]
  },
  {
   "cell_type": "code",
   "execution_count": null,
   "metadata": {},
   "outputs": [],
   "source": [
    "#load the database\n",
    "data_file = 'https://github.com/ChemAI-Lab/Math4Chem/raw/main/website/Assigments/solubility.csv'\n",
    "data = pd.read_csv(data_file)\n",
    "data = data['SMILES']\n",
    "print('Total data points: ',len(data))"
   ]
  },
  {
   "cell_type": "code",
   "execution_count": null,
   "metadata": {},
   "outputs": [],
   "source": [
    "# note you will get an error that says DEPRECATION WARNING: please use MorganGenerator, do not worry!\n",
    "\n",
    "similarities = np.zeros(len(data)) # vector to store the similarit\n",
    "for i, si in enumerate(data):\n",
    "    # get the fingerprint representation of each molecule in the database\n",
    "    fp = # code here\n",
    "    \n",
    "    # calculate the Tanimoto similarity between the caffeine molecule and each molecule in the database\n",
    "    similarity = # code here\n",
    "    \n",
    "    # add the similarity to a list\n",
    "    similarities[i] = similarity"
   ]
  },
  {
   "cell_type": "code",
   "execution_count": null,
   "metadata": {},
   "outputs": [],
   "source": [
    "# plot the histogram of the Tanimoto similarity here\n",
    "# make the necessary adjustments to make the plot prettier \n",
    "\n"
   ]
  },
  {
   "cell_type": "code",
   "execution_count": null,
   "metadata": {},
   "outputs": [],
   "source": [
    "# average of the similarity\n",
    "\n",
    "# maximum and minimum value of the TS. You can get the molecule in the database using\n",
    "# np.argsort(similarities) Check the Numpy documentation. \n",
    "\n",
    "\n"
   ]
  },
  {
   "cell_type": "markdown",
   "metadata": {},
   "source": [
    "### Extra code for plotting molecules\n",
    "This code can help you plot each molecule in the database"
   ]
  },
  {
   "cell_type": "code",
   "execution_count": null,
   "metadata": {},
   "outputs": [],
   "source": [
    "# The database's first molecule is \n",
    "\n",
    "s0 = data.iloc[0]\n",
    "print(s0)\n",
    "m0 = AllChem.MolFromSmiles(s0)\n",
    "m0\n",
    "\n"
   ]
  },
  {
   "cell_type": "code",
   "execution_count": null,
   "metadata": {},
   "outputs": [],
   "source": [
    "# the 10th molecule is,\n",
    "s0 = data.iloc[10]\n",
    "print(s0)\n",
    "m0 = AllChem.MolFromSmiles(s0)\n",
    "m0"
   ]
  }
 ],
 "metadata": {
  "kernelspec": {
   "display_name": "chem3pc3",
   "language": "python",
   "name": "python3"
  },
  "language_info": {
   "codemirror_mode": {
    "name": "ipython",
    "version": 3
   },
   "file_extension": ".py",
   "mimetype": "text/x-python",
   "name": "python",
   "nbconvert_exporter": "python",
   "pygments_lexer": "ipython3",
   "version": "3.12.4"
  }
 },
 "nbformat": 4,
 "nbformat_minor": 2
}
