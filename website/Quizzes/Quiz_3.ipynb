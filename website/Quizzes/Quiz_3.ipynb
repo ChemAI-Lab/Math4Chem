{
  "cells": [
    {
      "cell_type": "markdown",
      "metadata": {
        "id": "Z4BIQXZedYtN"
      },
      "source": [
        "# Quiz 3\n",
        "\n",
        "Please answer all the questions **only** in the sections marked with:  \n",
        "`# Write your code here`  \n",
        "\n",
        "---\n",
        "**Name:**   \n",
        "**Student Number:**  \n",
        "**Deadline:** 30 September 2025, 2:20 PM\n",
        "\n",
        "---\n",
        "\n",
        "Save the file as .ipynb:\n",
        "![save_ipynb.png](https://raw.githubusercontent.com/ChemAI-Lab/Math4Chem/main/website/Quizzes/save_ipynb.png)\n",
        "\n",
        "Email the file to the email: decamara@mcmaster.ca"
      ]
    },
    {
      "cell_type": "markdown",
      "metadata": {
        "id": "soKAbigidYtP"
      },
      "source": [
        "This tutorial can be deployed in [![Open In Colab](https://colab.research.google.com/assets/colab-badge.svg)](https://colab.research.google.com/github/ChemAI-Lab/Math4Chem/blob/main/website/Quizzes/Quiz_3.ipynb)"
      ]
    },
    {
      "cell_type": "markdown",
      "source": [
        "1. Approximate the derivative of the function\n",
        "$f(x) = \\exp(x)*\\sin(x^2)$\n",
        "on the interval $(0,2)$ using the central difference method with step size $h = 0.25$. The central difference formula is given by:\n",
        "\n",
        "    $f'(x) \\approx \\frac{f(x+h) - f(x-h)}{2h}$\n",
        "Show the results of the derivative at each point in the interval (you can use a table or print the values in a list)."
      ],
      "metadata": {
        "id": "inHq2SLj-9l5"
      }
    },
    {
      "cell_type": "code",
      "source": [
        "#Your code here"
      ],
      "metadata": {
        "id": "eZawhZi9-1ss"
      },
      "execution_count": null,
      "outputs": []
    },
    {
      "cell_type": "markdown",
      "source": [
        "2. Take the second order derivative of the function on exercise 1 $f(x) = \\exp(x)*\\sin(x^2)$ and evaluate on the interval $(0,2)$ using the central difference method with step size $h = 0.25$. The central difference formula for the second derivative is given by:\n",
        "\n",
        "    $f''(x) \\approx \\frac{f(x+h) - 2f(x) + f(x-h)}{h^2}$\n",
        "\n",
        "Show the results of the second derivative at each point in the interval where this approximation can be applied (you can use a table or print the values in a list)."
      ],
      "metadata": {
        "id": "fHB4IjaoFfuF"
      }
    },
    {
      "cell_type": "code",
      "source": [
        "#Your code here"
      ],
      "metadata": {
        "id": "EZInBjbS-3Ta"
      },
      "execution_count": null,
      "outputs": []
    }
  ],
  "metadata": {
    "colab": {
      "provenance": []
    },
    "kernelspec": {
      "display_name": "Python 3",
      "name": "python3"
    },
    "language_info": {
      "name": "python"
    }
  },
  "nbformat": 4,
  "nbformat_minor": 0
}