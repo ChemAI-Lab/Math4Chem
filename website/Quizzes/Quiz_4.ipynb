{
  "nbformat": 4,
  "nbformat_minor": 0,
  "metadata": {
    "colab": {
      "provenance": []
    },
    "kernelspec": {
      "name": "python3",
      "display_name": "Python 3"
    },
    "language_info": {
      "name": "python"
    }
  },
  "cells": [
    {
      "cell_type": "markdown",
      "source": [
        "# Quiz 4\n",
        "\n",
        "Please answer all the questions **only** in the sections marked with:  \n",
        "`# Write your code here` and `Write your answer here`  \n",
        "\n",
        "---\n",
        "**Name:**   \n",
        "**Student Number:**  \n",
        "**Deadline:** 7 October 2025, 2:20 PM\n",
        "\n",
        "---"
      ],
      "metadata": {
        "id": "TmUN84hlFSI-"
      }
    },
    {
      "cell_type": "markdown",
      "source": [
        "1. Find the values of the following integrals. Use either the trapezoid rule as outlined in the tutorial. For each integral, compute the result using four different grid sizes: 50, 500, 1000, and 2000 points.   \n",
        "\n",
        "a.$\\int_{1}^{2} x \\log x  dx$\n",
        "\n"
      ],
      "metadata": {
        "id": "EbgIsGja_S9-"
      }
    },
    {
      "cell_type": "code",
      "source": [
        "#Write your code here"
      ],
      "metadata": {
        "id": "Et88YD8rFl-O"
      },
      "execution_count": null,
      "outputs": []
    },
    {
      "cell_type": "markdown",
      "source": [
        "b.$\\int_{-\\pi}^{\\pi} \\frac{dx}{x^{6}+1}$"
      ],
      "metadata": {
        "id": "YiJZLoDLFn16"
      }
    },
    {
      "cell_type": "code",
      "source": [
        "#Write your code here"
      ],
      "metadata": {
        "id": "-rDKrf8AFpP2"
      },
      "execution_count": null,
      "outputs": []
    },
    {
      "cell_type": "markdown",
      "source": [
        "c.$\\int_{1}^{2} x^{x} dx$"
      ],
      "metadata": {
        "id": "qJZuqMKHFss-"
      }
    },
    {
      "cell_type": "code",
      "source": [
        "#Write your code here"
      ],
      "metadata": {
        "id": "cIx7cTGbFtN8"
      },
      "execution_count": null,
      "outputs": []
    },
    {
      "cell_type": "markdown",
      "source": [
        "After computing all integrals, provide a brief explanation (2-3 sentences) about what you observe regarding how the results change as you increase the number of grid points, and whether the convergence behavior differs between the various integrals. How can you check that the integrals are converging to the correct result ?"
      ],
      "metadata": {
        "id": "_wcrhNj3ERiN"
      }
    },
    {
      "cell_type": "markdown",
      "source": [
        "### Write your answer here"
      ],
      "metadata": {
        "id": "k81x6sluFwuf"
      }
    }
  ]
}