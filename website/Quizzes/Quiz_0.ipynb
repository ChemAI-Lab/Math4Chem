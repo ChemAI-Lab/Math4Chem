{
  "nbformat": 4,
  "nbformat_minor": 0,
  "metadata": {
    "colab": {
      "provenance": []
    },
    "kernelspec": {
      "name": "python3",
      "display_name": "Python 3"
    },
    "language_info": {
      "name": "python"
    }
  },
  "cells": [
    {
      "cell_type": "markdown",
      "source": [
        "0. Using the print function in Python check the version of Python that you are using."
      ],
      "metadata": {
        "id": "Sw5FbxQpLFwV"
      }
    },
    {
      "cell_type": "code",
      "source": [
        "#Write your code here"
      ],
      "metadata": {
        "id": "QwMbjaKDLPEE"
      },
      "execution_count": null,
      "outputs": []
    },
    {
      "cell_type": "markdown",
      "source": [
        "1. Using the print function in Python print the sentence 'Hello World'."
      ],
      "metadata": {
        "id": "6jQM0ISnI061"
      }
    },
    {
      "cell_type": "code",
      "execution_count": null,
      "metadata": {
        "id": "f-qH4FYZGtpm"
      },
      "outputs": [],
      "source": [
        "#Write your code here"
      ]
    },
    {
      "cell_type": "markdown",
      "source": [
        "2. Compute the sum of two variables a = π and b = 10 and print the result up to the 10th decimal point. Use the \\pi function in Python."
      ],
      "metadata": {
        "id": "yCHWAuSuJHa4"
      }
    },
    {
      "cell_type": "code",
      "source": [
        "#Write your code here"
      ],
      "metadata": {
        "id": "u_FTykoVLCL5"
      },
      "execution_count": null,
      "outputs": []
    },
    {
      "cell_type": "markdown",
      "source": [
        "3. Given the list my_list = [10, 20, 'Hello World', 40, 50]. Print the third element and the legth of my_list.  "
      ],
      "metadata": {
        "id": "-M-atX4jLbWc"
      }
    },
    {
      "cell_type": "code",
      "source": [
        "#Write your code here"
      ],
      "metadata": {
        "id": "ixU1aLBMMLj7"
      },
      "execution_count": null,
      "outputs": []
    },
    {
      "cell_type": "markdown",
      "source": [
        "4. Given the list my_list = [10, 20, 30, 40, 50]. Calculate and the print the values of the sum and the average of my_list."
      ],
      "metadata": {
        "id": "xr3I71RVMOVl"
      }
    },
    {
      "cell_type": "code",
      "source": [
        "#Write your code here"
      ],
      "metadata": {
        "id": "2e9_Z6zwMeMi"
      },
      "execution_count": null,
      "outputs": []
    },
    {
      "cell_type": "markdown",
      "source": [
        "5. Given the list my_list = [10, 20, 30, 40, 50]. Change the second element of a list to 200 and print the updated list. Add 600 o the end of the **updated list** and print the new list."
      ],
      "metadata": {
        "id": "YjxtHIi_Mfvn"
      }
    },
    {
      "cell_type": "code",
      "source": [
        "#Write your code here"
      ],
      "metadata": {
        "id": "5nyG0sT2NJfg"
      },
      "execution_count": null,
      "outputs": []
    },
    {
      "cell_type": "markdown",
      "source": [
        "6. Create a copy of a list [10, 20, 30] and modify the copy summing all its elements by your favorite prime number. Print the original and the copy list."
      ],
      "metadata": {
        "id": "jVg04b5NNNB9"
      }
    },
    {
      "cell_type": "code",
      "source": [
        "#Write your code here"
      ],
      "metadata": {
        "id": "Q772XTOaNj7Y"
      },
      "execution_count": null,
      "outputs": []
    },
    {
      "cell_type": "markdown",
      "source": [
        "7. Print the numbers from 1 to 10 using the while function."
      ],
      "metadata": {
        "id": "xvtj-HQqOUuq"
      }
    },
    {
      "cell_type": "code",
      "source": [
        "#Write your code here"
      ],
      "metadata": {
        "id": "WaGCUIdDOeDu"
      },
      "execution_count": null,
      "outputs": []
    },
    {
      "cell_type": "markdown",
      "source": [
        "8. Print the numbers from 1 to 10 using the for function."
      ],
      "metadata": {
        "id": "0ywwMlNgOgIs"
      }
    },
    {
      "cell_type": "code",
      "source": [
        "#Write your code here"
      ],
      "metadata": {
        "id": "7g4UUwwQOn5C"
      },
      "execution_count": null,
      "outputs": []
    },
    {
      "cell_type": "markdown",
      "source": [
        "9. Define a function that checks if a positive number is bigger or equal than 10. Print the a message indicating if the given number is bigger, equal, less than 10 or invalid."
      ],
      "metadata": {
        "id": "G9-tlk-RvcA4"
      }
    },
    {
      "cell_type": "code",
      "source": [
        "#Write your code here"
      ],
      "metadata": {
        "id": "1etiZVoWw3nA"
      },
      "execution_count": null,
      "outputs": []
    },
    {
      "cell_type": "markdown",
      "source": [
        "10. Create a function in Python that determines if a number is even or odd. You can start by defining a function called even_or_odd and then in the body of the function write the necessary operations."
      ],
      "metadata": {
        "id": "avBoF63kOyAk"
      }
    },
    {
      "cell_type": "code",
      "source": [
        "#Write your code here"
      ],
      "metadata": {
        "id": "E3A5mTZlO3Sv"
      },
      "execution_count": null,
      "outputs": []
    }
  ]
}