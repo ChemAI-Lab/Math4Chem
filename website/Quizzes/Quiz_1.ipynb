{
  "cells": [
    {
      "cell_type": "markdown",
      "metadata": {},
      "source": [
        "# Quiz 1  \n",
        "\n",
        "Please answer all the questions **only** in the sections marked with:  \n",
        "`# Write your code here`  \n",
        "\n",
        "---\n",
        "**Name:**   \n",
        "**Student Number:**  \n",
        "**Deadline:** 16 September 2025, 2:20 PM\n",
        "\n",
        "---\n",
        "\n",
        "Save the file as .ipynb:\n",
        "![save_ipynb.png](https://raw.githubusercontent.com/ChemAI-Lab/Math4Chem/main/website/Quizzes/save_ipynb.png)\n",
        "\n",
        "Email the file to the email: decamara@mcmaster.ca "
      ]
    },
    {
      "cell_type": "markdown",
      "metadata": {},
      "source": [
        "This tutorial can be deployed in [![Open In Colab](https://colab.research.google.com/assets/colab-badge.svg)](https://colab.research.google.com/github/ChemAI-Lab/Math4Chem/blob/main/website/Quizzes/Quiz_1.ipynb)"
      ]
    },
    {
      "cell_type": "markdown",
      "metadata": {
        "id": "6jQM0ISnI061"
      },
      "source": [
        "1. Using the print function in Python print the sentence 'Hello World'."
      ]
    },
    {
      "cell_type": "code",
      "execution_count": null,
      "metadata": {
        "id": "f-qH4FYZGtpm"
      },
      "outputs": [],
      "source": [
        "#Write your code here"
      ]
    },
    {
      "cell_type": "markdown",
      "metadata": {
        "id": "yCHWAuSuJHa4"
      },
      "source": [
        "2. Compute the sum of two variables a = π and b = 10 and print the result up to the 10th decimal point. Use the \\pi function in Python."
      ]
    },
    {
      "cell_type": "code",
      "execution_count": null,
      "metadata": {
        "id": "u_FTykoVLCL5"
      },
      "outputs": [],
      "source": [
        "#Write your code here"
      ]
    },
    {
      "cell_type": "markdown",
      "metadata": {
        "id": "-M-atX4jLbWc"
      },
      "source": [
        "3. Given the list my_list = [10, 20, 'Hello World', 40, 50]. Print the third element and the legth of my_list.  "
      ]
    },
    {
      "cell_type": "code",
      "execution_count": null,
      "metadata": {
        "id": "ixU1aLBMMLj7"
      },
      "outputs": [],
      "source": [
        "#Write your code here"
      ]
    },
    {
      "cell_type": "markdown",
      "metadata": {
        "id": "xr3I71RVMOVl"
      },
      "source": [
        "4. Given the list my_list = [10, 20, 30, 40, 50]. Calculate and the print the values of the sum and the average of my_list."
      ]
    },
    {
      "cell_type": "code",
      "execution_count": null,
      "metadata": {
        "id": "2e9_Z6zwMeMi"
      },
      "outputs": [],
      "source": [
        "#Write your code here"
      ]
    },
    {
      "cell_type": "markdown",
      "metadata": {
        "id": "YjxtHIi_Mfvn"
      },
      "source": [
        "5. Given the list my_list = [10, 20, 30, 40, 50]. Change the second element of a list to 200 and print the updated list. Add 600 o the end of the **updated list** and print the new list."
      ]
    },
    {
      "cell_type": "code",
      "execution_count": null,
      "metadata": {
        "id": "5nyG0sT2NJfg"
      },
      "outputs": [],
      "source": [
        "#Write your code here"
      ]
    },
    {
      "cell_type": "markdown",
      "metadata": {
        "id": "jVg04b5NNNB9"
      },
      "source": [
        "6. Create a copy of a list [10, 20, 30] and modify the copy summing all its elements by your favorite prime number. Print the original and the copy list."
      ]
    },
    {
      "cell_type": "code",
      "execution_count": null,
      "metadata": {
        "id": "Q772XTOaNj7Y"
      },
      "outputs": [],
      "source": [
        "#Write your code here"
      ]
    },
    {
      "cell_type": "markdown",
      "metadata": {
        "id": "xvtj-HQqOUuq"
      },
      "source": [
        "7. Print the numbers from 1 to 10 using the while function."
      ]
    },
    {
      "cell_type": "code",
      "execution_count": null,
      "metadata": {
        "id": "WaGCUIdDOeDu"
      },
      "outputs": [],
      "source": [
        "#Write your code here"
      ]
    },
    {
      "cell_type": "markdown",
      "metadata": {
        "id": "0ywwMlNgOgIs"
      },
      "source": [
        "8. Print the numbers from 1 to 10 using the for function."
      ]
    },
    {
      "cell_type": "code",
      "execution_count": null,
      "metadata": {
        "id": "7g4UUwwQOn5C"
      },
      "outputs": [],
      "source": [
        "#Write your code here"
      ]
    },
    {
      "cell_type": "markdown",
      "metadata": {
        "id": "G9-tlk-RvcA4"
      },
      "source": [
        "9. Define a function that checks if a positive number is bigger or equal than 10. Print the a message indicating if the given number is bigger, equal, less than 10 or invalid."
      ]
    },
    {
      "cell_type": "code",
      "execution_count": null,
      "metadata": {
        "id": "1etiZVoWw3nA"
      },
      "outputs": [],
      "source": [
        "#Write your code here"
      ]
    },
    {
      "cell_type": "markdown",
      "metadata": {
        "id": "avBoF63kOyAk"
      },
      "source": [
        "10. Create a function in Python that determines if a number is even or odd. You can start by defining a function called even_or_odd and then in the body of the function write the necessary operations."
      ]
    },
    {
      "cell_type": "code",
      "execution_count": null,
      "metadata": {
        "id": "E3A5mTZlO3Sv"
      },
      "outputs": [],
      "source": [
        "#Write your code here"
      ]
    }
  ],
  "metadata": {
    "colab": {
      "provenance": []
    },
    "kernelspec": {
      "display_name": "Python 3",
      "name": "python3"
    },
    "language_info": {
      "name": "python"
    }
  },
  "nbformat": 4,
  "nbformat_minor": 0
}
