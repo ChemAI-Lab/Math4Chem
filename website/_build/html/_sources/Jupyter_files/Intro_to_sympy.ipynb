{
 "cells": [
  {
   "cell_type": "markdown",
   "metadata": {},
   "source": [
    "# Intro to SymPy \n",
    "\n",
    "SymPy is a Python library for symbolic mathematics. We can use it to solve differential equations, simplify algebraic operations, evaluate integrals and more. SymPy give us exact symbolic answers instead of numerical approximations. You can check SymPy documentation [here](https://www.sympy.org/en/index.html). "
   ]
  },
  {
   "cell_type": "markdown",
   "metadata": {},
   "source": [
    "## Getting started \n",
    "\n",
    "The first thing we need to do is to install the SymPy library, "
   ]
  },
  {
   "cell_type": "code",
   "execution_count": 4,
   "metadata": {},
   "outputs": [
    {
     "name": "stdout",
     "output_type": "stream",
     "text": [
      "Requirement already satisfied: sympy in /Users/alexandre/.local/lib/python3.9/site-packages (1.12)\n",
      "Requirement already satisfied: mpmath>=0.19 in /Users/alexandre/.local/lib/python3.9/site-packages (from sympy) (1.3.0)\n",
      "Note: you may need to restart the kernel to use updated packages.\n"
     ]
    }
   ],
   "source": [
    "%pip install sympy "
   ]
  },
  {
   "cell_type": "markdown",
   "metadata": {},
   "source": [
    "`SymPy` is not a built-in module so every time you start a new notebook on Google Colab you need to run the `pip` command above. "
   ]
  },
  {
   "cell_type": "markdown",
   "metadata": {},
   "source": [
    "After installing we need to import the library, "
   ]
  },
  {
   "cell_type": "code",
   "execution_count": 26,
   "metadata": {},
   "outputs": [],
   "source": [
    "import sympy as sy \n",
    "sy.init_printing()"
   ]
  },
  {
   "cell_type": "markdown",
   "metadata": {},
   "source": [
    "`import sympy as sy` loads in the SymPy library for us to use. We give a shorthand name `sy` (could be any other name ), so every time we call something from `SymPy`, we use `sy.`. This helps to keep things organized. \n",
    "\n",
    "`sy.init_printing()` gets the output to be displayed as nicely formatted mathematics. "
   ]
  },
  {
   "cell_type": "markdown",
   "metadata": {},
   "source": [
    "We can check the difference between using a built-in Python function and the SymPy library by checking this example to compute square roots, "
   ]
  },
  {
   "cell_type": "code",
   "execution_count": 27,
   "metadata": {},
   "outputs": [
    {
     "data": {
      "image/png": "[encoded data removed]",
      "text/latex": [
       "$\\displaystyle 2.82842712474619$"
      ],
      "text/plain": [
       "2.8284271247461903"
      ]
     },
     "execution_count": 27,
     "metadata": {},
     "output_type": "execute_result"
    }
   ],
   "source": [
    "import math \n",
    "math.sqrt(8)"
   ]
  },
  {
   "cell_type": "markdown",
   "metadata": {},
   "source": [
    "Here we got tan approximate result since it can't be represented by a finite decimal. If all we cared about was the decimal form of the square root of `8`, we would be done. \n",
    "\n",
    "But when we use symbolic computation like SymPy, square roots of numbers the are not perfect squares are left unevaluated by default, "
   ]
  },
  {
   "cell_type": "code",
   "execution_count": 15,
   "metadata": {},
   "outputs": [
    {
     "data": {
      "image/png": "[encoded data removed]",
      "text/latex": [
       "$\\displaystyle 2 \\sqrt{2}$"
      ],
      "text/plain": [
       "2⋅√2"
      ]
     },
     "execution_count": 15,
     "metadata": {},
     "output_type": "execute_result"
    }
   ],
   "source": [
    "sy.sqrt(8)"
   ]
  },
  {
   "cell_type": "markdown",
   "metadata": {},
   "source": [
    "## More interesting examples\n",
    "\n",
    "In SymPy variables are defined using `symbols`, \n"
   ]
  },
  {
   "cell_type": "code",
   "execution_count": 34,
   "metadata": {},
   "outputs": [
    {
     "data": {
      "image/png": "[encoded data removed]",
      "text/latex": [
       "$\\displaystyle x + 2 y$"
      ],
      "text/plain": [
       "x + 2⋅y"
      ]
     },
     "execution_count": 34,
     "metadata": {},
     "output_type": "execute_result"
    }
   ],
   "source": [
    "from sympy import symbols\n",
    "x,y = symbols('x y')\n",
    "expression = x + 2*y \n",
    "expression"
   ]
  },
  {
   "cell_type": "markdown",
   "metadata": {},
   "source": [
    "We can play around and see that if we subtract `x` from the current expression, "
   ]
  },
  {
   "cell_type": "code",
   "execution_count": 35,
   "metadata": {},
   "outputs": [
    {
     "data": {
      "image/png": "[encoded data removed]",
      "text/latex": [
       "$\\displaystyle 2 y$"
      ],
      "text/plain": [
       "2⋅y"
      ]
     },
     "execution_count": 35,
     "metadata": {},
     "output_type": "execute_result"
    }
   ],
   "source": [
    "expression - x \n",
    "#expression "
   ]
  },
  {
   "cell_type": "markdown",
   "metadata": {},
   "source": [
    "automatically canceling `x` with `-x`. "
   ]
  },
  {
   "cell_type": "markdown",
   "metadata": {},
   "source": [
    "We can also represent functions in SymPy. For example, let's represent $f(x) = x^3 + x^2 + 10$ "
   ]
  },
  {
   "cell_type": "code",
   "execution_count": 49,
   "metadata": {},
   "outputs": [
    {
     "data": {
      "image/png": "[encoded data removed]",
      "text/latex": [
       "$\\displaystyle x^{3} + x^{2} + 10$"
      ],
      "text/plain": [
       " 3    2     \n",
       "x  + x  + 10"
      ]
     },
     "execution_count": 49,
     "metadata": {},
     "output_type": "execute_result"
    }
   ],
   "source": [
    "f = x**3 + x**2 + 10 \n",
    "f "
   ]
  },
  {
   "cell_type": "markdown",
   "metadata": {},
   "source": [
    "It is important to notice that this is not an actual Python function, described in the previously, rather a symbolic representation of a function. Therefore, to evaluate `f` for different values we use the `subs()` function, "
   ]
  },
  {
   "cell_type": "code",
   "execution_count": 37,
   "metadata": {},
   "outputs": [
    {
     "data": {
      "image/png": "[encoded data removed]",
      "text/latex": [
       "$\\displaystyle 90$"
      ],
      "text/plain": [
       "90"
      ]
     },
     "execution_count": 37,
     "metadata": {},
     "output_type": "execute_result"
    }
   ],
   "source": [
    "f.subs(x,4)"
   ]
  },
  {
   "cell_type": "markdown",
   "metadata": {},
   "source": [
    "## Limits\n",
    "\n",
    "With SymPy we can evaluate limits symbolically using the `limit()` function,  which has the following syntax, "
   ]
  },
  {
   "cell_type": "markdown",
   "metadata": {},
   "source": [
    "```python \n",
    "sy.limit(expression,variable,value)"
   ]
  },
  {
   "cell_type": "markdown",
   "metadata": {},
   "source": [
    "`expression` is the function whose limit we are trying to find. `variable` is the variable with respect we are taking the limit. `value` is the value the variable is approaching. \n",
    "\n",
    "To compute one-sided limits, we can add a fourth argument to the function, either a `+` or `-` for a right or left hand limit.\n",
    "\n",
    "For example, let's evaluate $ \\lim_{x \\rightarrow 0} \\frac{sin(x)}{x}$, "
   ]
  },
  {
   "cell_type": "code",
   "execution_count": 48,
   "metadata": {},
   "outputs": [
    {
     "data": {
      "image/png": "[encoded data removed]",
      "text/latex": [
       "$\\displaystyle 1$"
      ],
      "text/plain": [
       "1"
      ]
     },
     "execution_count": 48,
     "metadata": {},
     "output_type": "execute_result"
    }
   ],
   "source": [
    "limit = sy.limit(sy.sin(x)/x , x , 0)\n",
    "limit"
   ]
  },
  {
   "cell_type": "markdown",
   "metadata": {},
   "source": [
    "And when $x$ is approaching $\\infty$, "
   ]
  },
  {
   "cell_type": "code",
   "execution_count": 41,
   "metadata": {},
   "outputs": [
    {
     "data": {
      "image/png": "[encoded data removed]",
      "text/latex": [
       "$\\displaystyle 0$"
      ],
      "text/plain": [
       "0"
      ]
     },
     "execution_count": 41,
     "metadata": {},
     "output_type": "execute_result"
    }
   ],
   "source": [
    "limit = sy.limit(sy.sin(x)/x , x , sy.oo)\n",
    "limit"
   ]
  },
  {
   "cell_type": "markdown",
   "metadata": {},
   "source": [
    "## Derivatives \n",
    "\n",
    "We can take derivatives with the `diff()` function. Given a function $\\sin(x)e^x$, its derivative with respect to $x$ is, "
   ]
  },
  {
   "cell_type": "code",
   "execution_count": 51,
   "metadata": {},
   "outputs": [
    {
     "data": {
      "image/png": "[encoded data removed]",
      "text/latex": [
       "$\\displaystyle e^{x} \\sin{\\left(x \\right)} + e^{x} \\cos{\\left(x \\right)}$"
      ],
      "text/plain": [
       " x           x       \n",
       "ℯ ⋅sin(x) + ℯ ⋅cos(x)"
      ]
     },
     "execution_count": 51,
     "metadata": {},
     "output_type": "execute_result"
    }
   ],
   "source": [
    "f = sy.sin(x)*sy.exp(x)\n",
    "d_x = sy.diff(f,x)\n",
    "d_x"
   ]
  },
  {
   "cell_type": "markdown",
   "metadata": {},
   "source": [
    "We can change the variable with respect to we are differentiating, "
   ]
  },
  {
   "cell_type": "code",
   "execution_count": 52,
   "metadata": {},
   "outputs": [
    {
     "data": {
      "image/png": "[encoded data removed]",
      "text/latex": [
       "$\\displaystyle 0$"
      ],
      "text/plain": [
       "0"
      ]
     },
     "execution_count": 52,
     "metadata": {},
     "output_type": "execute_result"
    }
   ],
   "source": [
    "d_y = sy.diff(sy.sin(x)*sy.exp(x),y)\n",
    "d_y "
   ]
  },
  {
   "cell_type": "markdown",
   "metadata": {},
   "source": [
    "The `diff()` function can also compute higher order derivatives. Given $f(x) = \\sin(x)$"
   ]
  },
  {
   "cell_type": "code",
   "execution_count": 56,
   "metadata": {},
   "outputs": [
    {
     "name": "stdout",
     "output_type": "stream",
     "text": [
      "cos(x) -sin(x) -cos(x)\n"
     ]
    }
   ],
   "source": [
    "f = sy.sin(x)\n",
    "df_dx = sy.diff(f,x)\n",
    "df2_dx2 = f.diff(x,x) # second derivative\n",
    "df3_dx3 = f.diff(x,x,x) # third derivative\n",
    "\n",
    "print(df_dx,df2_dx2,df3_dx3)"
   ]
  },
  {
   "cell_type": "markdown",
   "metadata": {},
   "source": [
    "We can simplify the notation, "
   ]
  },
  {
   "cell_type": "code",
   "execution_count": 60,
   "metadata": {},
   "outputs": [
    {
     "name": "stdout",
     "output_type": "stream",
     "text": [
      "cos(x) -sin(x) -cos(x)\n"
     ]
    }
   ],
   "source": [
    "df_dx = sy.diff(f,x)\n",
    "df2_dx2 = f.diff(x,2) # second derivative\n",
    "df3_dx3 = f.diff(x,3) # third derivative\n",
    "print(df_dx,df2_dx2,df3_dx3)"
   ]
  },
  {
   "cell_type": "markdown",
   "metadata": {},
   "source": [
    "Then, the general format of the `diff()` function is, \n"
   ]
  },
  {
   "cell_type": "markdown",
   "metadata": {},
   "source": [
    "```python \n",
    "sy.diff(function,variable, ...)"
   ]
  },
  {
   "cell_type": "markdown",
   "metadata": {},
   "source": [
    "where `...` represents the possibility of adding high order derivative terms. "
   ]
  },
  {
   "cell_type": "markdown",
   "metadata": {},
   "source": [
    "## Integrals \n",
    "\n",
    "We use the `integrate` function to integrate using SymPy. For indefinite integrals, the syntax is similar to `diff()`, "
   ]
  },
  {
   "cell_type": "markdown",
   "metadata": {},
   "source": [
    "```python \n",
    "sy.integrate(expression,variable)"
   ]
  },
  {
   "cell_type": "markdown",
   "metadata": {},
   "source": [
    "`expression` is a SymPy representation of the function we want to integrate.\n",
    "\n",
    "`variable` is the variable of integration and must be defined as a SymPy symbol. \n",
    "\n",
    "SymPy does not include a constant of integration. "
   ]
  },
  {
   "cell_type": "markdown",
   "metadata": {},
   "source": [
    "For definite integrals we have, "
   ]
  },
  {
   "cell_type": "markdown",
   "metadata": {},
   "source": [
    "```python \n",
    "sy.integrate(expression, (variable, lower_limit, upper_limit)) "
   ]
  },
  {
   "cell_type": "markdown",
   "metadata": {},
   "source": [
    "Which contains the `expression` as before and a tuple `(variable, lower_limit, upper_limit)`, a container of more arguments, where `variable` is the same as with indefinite integrals, and `lower_limit` and `upper_limit` the lower and upper bounds of integration. "
   ]
  },
  {
   "cell_type": "markdown",
   "metadata": {},
   "source": [
    "As an example, we can compute the indefinite integral of $\\int (e^x \\sin(x) + e^x \\cos(x)) dx$, "
   ]
  },
  {
   "cell_type": "code",
   "execution_count": 61,
   "metadata": {},
   "outputs": [
    {
     "data": {
      "image/png": "[encoded data removed]",
      "text/latex": [
       "$\\displaystyle e^{x} \\sin{\\left(x \\right)}$"
      ],
      "text/plain": [
       " x       \n",
       "ℯ ⋅sin(x)"
      ]
     },
     "execution_count": 61,
     "metadata": {},
     "output_type": "execute_result"
    }
   ],
   "source": [
    "sy.integrate(sy.exp(x)*sy.sin(x) + sy.exp(x)*sy.cos(x),x )"
   ]
  },
  {
   "cell_type": "markdown",
   "metadata": {},
   "source": [
    "and a definite integral $\\int_{-\\infty}^{\\infty} \\sin(x^2) dx$, "
   ]
  },
  {
   "cell_type": "code",
   "execution_count": 62,
   "metadata": {},
   "outputs": [
    {
     "data": {
      "image/png": "[encoded data removed]",
      "text/latex": [
       "$\\displaystyle \\frac{\\sqrt{2} \\sqrt{\\pi}}{2}$"
      ],
      "text/plain": [
       "√2⋅√π\n",
       "─────\n",
       "  2  "
      ]
     },
     "execution_count": 62,
     "metadata": {},
     "output_type": "execute_result"
    }
   ],
   "source": [
    "sy.integrate(sy.sin(x**2), (x,-sy.oo,sy.oo))"
   ]
  },
  {
   "cell_type": "markdown",
   "metadata": {},
   "source": [
    "We can also compute an integral symbolic and then find its numerical value with `evalf()` function, "
   ]
  },
  {
   "cell_type": "code",
   "execution_count": 69,
   "metadata": {},
   "outputs": [
    {
     "data": {
      "image/png": "[encoded data removed]",
      "text/latex": [
       "$\\displaystyle - e + e^{2}$"
      ],
      "text/plain": [
       "      2\n",
       "-ℯ + ℯ "
      ]
     },
     "execution_count": 69,
     "metadata": {},
     "output_type": "execute_result"
    }
   ],
   "source": [
    "def_integral1 = sy.integrate(sy.exp(x), (x, 1, 2))\n",
    "def_integral1 \n"
   ]
  },
  {
   "cell_type": "code",
   "execution_count": 68,
   "metadata": {},
   "outputs": [
    {
     "data": {
      "image/png": "[encoded data removed]",
      "text/latex": [
       "$\\displaystyle 4.6707742704716$"
      ],
      "text/plain": [
       "4.67077427047160"
      ]
     },
     "execution_count": 68,
     "metadata": {},
     "output_type": "execute_result"
    }
   ],
   "source": [
    "numerical_result = def_integral1.evalf()\n",
    "numerical_result"
   ]
  },
  {
   "cell_type": "markdown",
   "metadata": {},
   "source": [
    "## Plotting\n",
    "\n",
    "SymPy also provides a plotting functionality. We simply use the `plot()` function so, "
   ]
  },
  {
   "cell_type": "markdown",
   "metadata": {},
   "source": [
    "```python\n",
    "sy.plot(f,domain,...)"
   ]
  },
  {
   "cell_type": "markdown",
   "metadata": {},
   "source": [
    "`f` represents the function or functions we are visualizing \n",
    "\n",
    "`domain` refers to the interval where the function is plotted over, the default is $[-10,10]$ \n",
    "\n",
    "`...` refers to many optional arguments, which can change the plot's appearance and behavior. "
   ]
  },
  {
   "cell_type": "markdown",
   "metadata": {},
   "source": [
    "Let's plot $f(x^2)$ over $[-5,5]$, "
   ]
  },
  {
   "cell_type": "code",
   "execution_count": 70,
   "metadata": {},
   "outputs": [
    {
     "data": {
      "image/png": "[encoded data removed]",
      "text/plain": [
       "<Figure size 640x480 with 1 Axes>"
      ]
     },
     "metadata": {},
     "output_type": "display_data"
    }
   ],
   "source": [
    "graph = sy.plot(x**2, (x, -5, 5))"
   ]
  },
  {
   "cell_type": "markdown",
   "metadata": {},
   "source": [
    "We can change the colour of the line and insert a legend for example, "
   ]
  },
  {
   "cell_type": "code",
   "execution_count": 71,
   "metadata": {},
   "outputs": [
    {
     "data": {
      "image/png": "[encoded data removed]",
      "text/plain": [
       "<Figure size 640x480 with 1 Axes>"
      ]
     },
     "metadata": {},
     "output_type": "display_data"
    }
   ],
   "source": [
    "graph = sy.plot(x**2, (x, -5, 5), line_color = 'green', legend ='True')"
   ]
  },
  {
   "cell_type": "markdown",
   "metadata": {},
   "source": [
    "We can also plot multiple equations together, "
   ]
  },
  {
   "cell_type": "code",
   "execution_count": 72,
   "metadata": {},
   "outputs": [
    {
     "data": {
      "image/png": "[encoded data removed]",
      "text/plain": [
       "<Figure size 640x480 with 1 Axes>"
      ]
     },
     "metadata": {},
     "output_type": "display_data"
    }
   ],
   "source": [
    "multi_plot = sy.plot(x, x**2, x**3, x**4, (x, 0, 2), legend=True)"
   ]
  },
  {
   "cell_type": "markdown",
   "metadata": {},
   "source": [
    "This is a small sampling of the sort of symbolic power SymPy is capable of, for more information access [SymPy documentation](https://docs.sympy.org/latest/tutorials/intro-tutorial/intro.html). "
   ]
  }
 ],
 "metadata": {
  "kernelspec": {
   "display_name": "Python 3.9 (pytorch)",
   "language": "python",
   "name": "pytorch"
  },
  "language_info": {
   "codemirror_mode": {
    "name": "ipython",
    "version": 3
   },
   "file_extension": ".py",
   "mimetype": "text/x-python",
   "name": "python",
   "nbconvert_exporter": "python",
   "pygments_lexer": "ipython3",
   "version": "3.9.16"
  }
 },
 "nbformat": 4,
 "nbformat_minor": 2
}
