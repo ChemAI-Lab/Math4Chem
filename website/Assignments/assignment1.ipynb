{
 "cells": [
  {
   "cell_type": "markdown",
   "id": "384c4113",
   "metadata": {},
   "source": [
    "# Assignment 1\n",
    "**Deadline**  Oct 24th 5:00 PM EST.\n",
    "\n",
    "**Assignment 1 Coding part** can be deployed in   [![Open In Colab](https://colab.research.google.com/assets/colab-badge.svg)](https://colab.research.google.com/github/ChemAI-Lab/Math4Chem/blob/main/website/Assignments/assignment1.ipynb) \n",
    "\n",
    "**DO NOT FORGET THAT THERE IS A MATHEMATICAL PART** <br>\n",
    "[![Download PDF](https://img.shields.io/badge/Download_PDF-Click_Here-blue.svg)](https://github.com/ChemAI-Lab/Math4Chem/blob/main/website/Assignments/assigment1_math.pdf)\n",
    "\n",
    "Please fo not forget to add your names, student IDs, and emails in the name of this file."
   ]
  },
  {
   "cell_type": "code",
   "execution_count": null,
   "id": "8a2c021d",
   "metadata": {},
   "outputs": [],
   "source": [
    "## Please uncomment the line below to install rdkit\n",
    "# !pip install rdkit"
   ]
  },
  {
   "cell_type": "code",
   "execution_count": null,
   "id": "a1905d2a",
   "metadata": {},
   "outputs": [],
   "source": [
    "# load the required libraries that you will need for this assignment\n",
    "#  [5 marks]\n",
    "# loading any libraries in other cells will deduct you marks.\n",
    "# numpy as np, matplotlib and plt from matplotlib.pyplot\n"
   ]
  },
  {
   "cell_type": "code",
   "execution_count": null,
   "id": "3ebbfd03",
   "metadata": {},
   "outputs": [],
   "source": [
    "# import this additional libraries for second part of the assignment\n",
    "import pandas as pd\n",
    "from rdkit import Chem\n",
    "from rdkit.Chem import AllChem, Descriptors, MolFromSmiles, MolToSmiles\n",
    "from rdkit.Chem.Draw import IPythonConsole\n",
    "from rdkit.Chem import Draw\n",
    "from rdkit.Chem import rdFingerprintGenerator"
   ]
  },
  {
   "cell_type": "markdown",
   "id": "49cedd83",
   "metadata": {},
   "source": [
    "# Question 1\n",
    "The Redlich–Kwong (RK) equation of state is given by,\n",
    "$$\n",
    "P(V,T) = \\frac{RT}{V_m - b} - \\frac{a}{\\sqrt{T}\\,V_m(V_m + b)},\n",
    "$$\n",
    "where $P(V,T)$ is the pressure, $V_m$ is the molar volume, $T$ is the temperature, \n",
    "and $a$ and $b$ are substance-specific parameters accounting for intermolecular \n",
    "attraction and finite molecular volume, respectively.\n",
    "\n",
    "The value of $a$ and $b$ are,\n",
    "* a = 1.38169 $\\frac{bar\\; L^2}{mol}$\n",
    "* b = 0.0387 $\\frac{L}{mol}$\n",
    "* R = 0.0831446261815324 $\\frac{ L⋅bar}{Kmol}$\n",
    "  \n",
    "The Redlich–Kwong equation of state is a refinement of van der Waals; better for real gases at moderately high pressures."
   ]
  },
  {
   "cell_type": "markdown",
   "id": "4385c4fc",
   "metadata": {},
   "source": [
    "## Q1.a [5 marks]\n",
    "Plot $P$ vs $V$ with for an isotherm ($T=77.25K$). <br>\n",
    "For the plot to look ``nice'' the grid must have the following properties,\n",
    "1. lowest and maximum values of $V$ are, \n",
    "   1. $V_{min} = 0.05 \\frac{L}{mol}$, \n",
    "   2. $V_{max} = 0.2 \\frac{L}{mol}$. \n",
    "2. the total grid must have 10,000 points\n",
    "   \n",
    "Create a function that computes $P$ using the van der Waals equation of state. <br>\n"
   ]
  },
  {
   "cell_type": "code",
   "execution_count": null,
   "id": "136b8171",
   "metadata": {},
   "outputs": [],
   "source": [
    "# Generate a grid for Vm (Volume per mole)\n",
    "v_min = 0.05  # L/mol\n",
    "v_max = 0.2  # L/mol\n",
    "delta_v = 1E-5\n",
    "n_points = 1000\n",
    "\n",
    "v_grid = np.linspace(v_min, v_max, n_points)"
   ]
  },
  {
   "cell_type": "code",
   "execution_count": null,
   "id": "1688e6c1",
   "metadata": {},
   "outputs": [],
   "source": [
    "# code for P state function\n",
    "def P_RK(V, T):\n",
    "    R = 0.0831446261815324  # L⋅bar⋅K−1⋅mol−1\n",
    "    a = 1.38169  # bar L^2/mol\n",
    "    b = 0.0387  # L/mol\n",
    "\n",
    "    # RK equation of state here! [5 marks] \n",
    "    p =\n",
    "    return p"
   ]
  },
  {
   "cell_type": "code",
   "execution_count": null,
   "id": "d7374804",
   "metadata": {},
   "outputs": [],
   "source": [
    "# code for plotting P state function [5 marks]\n",
    "# The x-axis and y-axis must specify the name of the variables you are plotting. (marks will be deduced if you do not specify what variable is each axis)\n",
    "\n",
    "T = 77.25\n"
   ]
  },
  {
   "cell_type": "markdown",
   "id": "32bad905",
   "metadata": {},
   "source": [
    "## Q1.b [10 marks]\n",
    "Compute the partial derivative of $P(V,T)$ with respect to $V$ at $T=77.25K$ using the following numerical approximation for the derivative. <br>\n",
    "**Three-point forward difference formula:**\n",
    "$$\n",
    "\\frac{\\partial f}{\\partial x} \\approx \\frac{-3 f(x) + 4f(x+h) - f(x+2h)}{2h}\n",
    "$$\n",
    "where $f(x)$ is the function you want to differentiate, $x$ is the variable, and $h$ is the step size.\n",
    "\n",
    "1. Create a python function that computes the derivative of P with respect to V using the three-point forward difference.\n",
    "2. Cerate a python function that computes the analytical derivative of P with respect to V.\n",
    "3. Compute the Frobenius norm of the difference of the derivative of P with respect to V computed with both methods. \n",
    "Compare your results with the analytical solution (extra exercise for your midterm).\n",
    "\n",
    "Verify the output of any of both functions is the same size as the grid of the input."
   ]
  },
  {
   "cell_type": "markdown",
   "id": "ef6a2638",
   "metadata": {},
   "source": [
    "From the fundamental equation of thermodynamics we can define the following equality, \n",
    "$$\n",
    "\\int_{P_1}^{P_2} V(P)\\;dP = \\int_{V_1}^{V_2} V \\left (\\frac{\\partial P}{\\partial V} \\right )_{T}dV\n",
    "$$\n",
    "\n",
    "As you can see from this integral it is also necessary the computation of partial derivative of the state function P.\n"
   ]
  },
  {
   "cell_type": "code",
   "execution_count": null,
   "id": "ade7c899",
   "metadata": {},
   "outputs": [],
   "source": [
    "# [5 marks]\n",
    "def three_point_differentiation(x, h):\n",
    "    # code goes here\n",
    "    T = 77.25\n",
    "    dP = x.copy()\n",
    "    for i in range(x.shape[0]):\n",
    "        dPi = -3*P_RK(x[i], T) + 4*P_RK(x[i]+h, T) - P_RK(x[i] + 2*h, T)\n",
    "        dP[i] = dPi\n",
    "    return dP/(2*h)"
   ]
  },
  {
   "cell_type": "markdown",
   "id": "2a560096",
   "metadata": {},
   "source": [
    "Compute the analytical derivative of the Redlich–Kwong (RK) equation of state.\n",
    " [5 marks]"
   ]
  },
  {
   "cell_type": "markdown",
   "id": "ae9d520a",
   "metadata": {},
   "source": [
    "$$\n",
    "\\frac{\\partial P(V_m,T)}{\\partial V_m}\n",
    "=?\n",
    "$$ "
   ]
  },
  {
   "cell_type": "code",
   "execution_count": null,
   "id": "5fffcfed",
   "metadata": {},
   "outputs": [],
   "source": [
    "# partial derivative of P with respect to V at constant T\n",
    "def dP_RK_dVm(Vm, T): # [5 marks]\n",
    "    # code goes here\n",
    "    R = 0.0831446261815324  # L⋅bar⋅K−1⋅mol−1\n",
    "    a = 1.38169  # bar L^2/mol\n",
    "    b = 0.0387  # L/mol\n",
    "\n",
    "    dP = \n",
    "    return dP"
   ]
  },
  {
   "cell_type": "markdown",
   "id": "5ed536ce",
   "metadata": {},
   "source": [
    "The value the square norm of the difference of the derivative compute with three-point forward difference and the analytical derivative, \n",
    "$$\n",
    "F(\\mathbf{y}, \\mathbf{\\hat{y}}) = \\| \\mathbf{y}- \\mathbf{\\hat{y}} \\|_2  = \\frac{1}{N}\\sum_{i=1}^N \\left(y_i - \\hat{y}_i \\right)^2,\n",
    "$$\n",
    "where \n",
    "1. $y_i$ is the predicted value, in this case, $\\frac{\\partial  P(V_m,T)}{\\partial V_m}|_{V_{m_i}}$\n",
    "2. $\\hat{y}_i$ is the analytical value of $\\frac{\\partial  P(V_m,T)}{\\partial V_m}|_{V_{m_i}}$\n",
    "3. $N$ is the total number of elements in $\\mathbf{y}$.\n"
   ]
  },
  {
   "cell_type": "code",
   "execution_count": null,
   "id": "73cc29cf",
   "metadata": {},
   "outputs": [],
   "source": [
    "def f_square_norm(y, y_hat): # [5 marks]\n",
    "    # code here\n",
    "    N = y.shape[0]\n",
    "    error = \n",
    "    return error"
   ]
  },
  {
   "cell_type": "code",
   "execution_count": null,
   "id": "f2d2ae09",
   "metadata": {},
   "outputs": [],
   "source": [
    "h = v_grid[1] - v_grid[0]\n",
    "dP_numeric = three_point_differentiation(v_grid, h)\n",
    "dP_analytical = dP_RK_dVm(v_grid, T)\n",
    "\n",
    "square_norm = f_square_norm(dP_numeric, dP_analytical)\n",
    "print(f'The square norm is {square_norm:.3f}')"
   ]
  },
  {
   "cell_type": "markdown",
   "id": "08a9534d",
   "metadata": {},
   "source": [
    "## Q1.c numerical integration\n",
    "\n",
    "In class we saw that the integral of a function can be approximated using the sum of the integrand.<br>\n",
    "**Composite Three-Point Trapezoidal Rule:**\n",
    "For a uniform grid where $h$ is the spacing between consecutive points, the composite three-point trapezoidal rule can be written as,\n",
    "$$\n",
    "\\int_{a}^{b} f(x) dx = \\frac{h}{4} \\sum_{i=0}^{N-3} \\left (f(x_i) + 2f(x_{i+1}) + f(x_{i+2}) \\right )\n",
    "$$\n",
    "where $N$ is the number of grid points. \n",
    "\n",
    "1. Create a python function for the three-point trapezoidal rule for numerical integration.\n",
    "2. Cerate a python function that computes the analytical integration of $\\int_{V_1}^{V_2} V \\left (\\frac{\\partial P}{\\partial V} \\right )_{T}dV$ for different values of $V_1$ and $V_2$ and T.\n",
    "3. Compare your three-point trapezoidal rule function for this example with the analytical number.\n",
    "4. Compute the Frobenius norm of the difference of the derivative of P with respect to V computed with both methods. \n",
    "Compare your results with the analytical solution (extra exercise for your midterm)."
   ]
  },
  {
   "cell_type": "code",
   "execution_count": null,
   "id": "d4816477",
   "metadata": {},
   "outputs": [],
   "source": [
    "def three_point_trapezoidal_rule(x, h): # [10 marks]\n",
    "    # code here\n",
    "    T = 77.25\n",
    "    N = x.shape[0]\n",
    "    \n",
    "    f = # evaluate the function P_RK at each point in x\n",
    "    \n",
    "    integral = 0\n",
    "    for i in range(N-3):\n",
    "        integral +=  # apply the three-point sum in the trapezoidal rule\n",
    "\n",
    "    integral = (h/4.) * integral\n",
    "    return integral"
   ]
  },
  {
   "cell_type": "markdown",
   "id": "f509ee87",
   "metadata": {},
   "source": [
    "Compute the analytical integral of \n",
    "$$\n",
    "\\int_{V_1}^{V_2} \\left (\\frac{\\partial P_{RK}(V,T)}{\\partial V} \\right )_{T}dV\n",
    "$$\n",
    "for convenience $V$ is $V_m$. \n",
    "\n",
    "The above integral, once evaluated can be defined in terms of the antiderivative $F$,\n",
    "$$\n",
    "\\int_{V_1}^{V_2} \\left (\\frac{\\partial P_{RK}(V,T)}{\\partial V} \\right )_{T}dV = F(V_2) - F(V_1)\n",
    "$$\n",
    "\n"
   ]
  },
  {
   "cell_type": "code",
   "execution_count": null,
   "id": "6b3dbf96",
   "metadata": {},
   "outputs": [],
   "source": [
    "# function that computes the analytical integral of int V (dP/dV)_T\n",
    "def analytical_integral(V1, V2): # [5 marks]\n",
    "\n",
    "    # code here\n",
    "    T = 77.25 # K\n",
    "    R = 0.0831446261815324  # L⋅bar⋅K−1⋅mol−1\n",
    "    a = 1.38169  # bar L^2/mol\n",
    "    b = 0.0387  # L/mol\n",
    "\n",
    "    def f_antiderivative(Vi):\n",
    "        #code here\n",
    "        sqrt_T = np.sqrt(T)\n",
    "\n",
    "        term1 = \n",
    "        term2 = \n",
    "        return term1 + term2\n",
    "\n",
    "    integral = f_antiderivative(V2) - f_antiderivative(V1)\n",
    "    return integral"
   ]
  },
  {
   "cell_type": "markdown",
   "id": "28a3a9fc",
   "metadata": {},
   "source": [
    "# Compare analytic integration vs numerical integration.\n",
    "1. What is the error for an integration grid with 100 points? [2 marks]\n",
    "2. Generate a ``nice'' plot to showcase the convergence of the numerical integral as a function of the number of grid points. [5 marks]"
   ]
  },
  {
   "cell_type": "code",
   "execution_count": null,
   "id": "aa351a69",
   "metadata": {},
   "outputs": [],
   "source": [
    "# 1. What is the error for an integration grid with 100 points?\n",
    "\n",
    "# Generate a grid for Vm (Volume per mole)\n",
    "v_min = 0.05  # L/mol\n",
    "v_max = 0.2  # L/mol\n",
    "n_points = 100\n",
    "v_grid = np.linspace(v_min, v_max, n_points)\n",
    "\n",
    "h = v_grid[1] - v_grid[0]\n",
    "int_numeric = three_point_trapezoidal_rule(v_grid, h)\n",
    "print(f'Integral 3-point : {int_numeric:.4f}, N: {n_points}')\n",
    "\n",
    "int_analytic = analytical_integral(v_min, v_max)\n",
    "print(f'Integral analytic : {int_analytic:.4f}')"
   ]
  },
  {
   "cell_type": "code",
   "execution_count": null,
   "id": "03a1df28",
   "metadata": {},
   "outputs": [],
   "source": [
    "# 2. Generate a ``nice'' plot to showcase the convergence of the numerical integral as a function of the number of grid points. [5 marks]\n",
    "# plot the accuracy of the integral convergence here\n",
    "\n"
   ]
  },
  {
   "cell_type": "markdown",
   "id": "dd0bc145",
   "metadata": {},
   "source": [
    "# Q2 Molecular similarity function\n",
    "\n",
    "Later in class we will see that a molecule can be represented numerically using a **finger prints** representation. <br>\n",
    "This numerical vector is used describe each individual molecule,\n",
    "for example for the molecule of caffeine, \n"
   ]
  },
  {
   "cell_type": "code",
   "execution_count": null,
   "id": "4c17fb0f",
   "metadata": {},
   "outputs": [],
   "source": [
    "def get_fingerprints(m_smiles, radius=2, nbits=1024):\n",
    "  m = AllChem.MolFromSmiles(m_smiles)\n",
    "  m = AllChem.AddHs(m)\n",
    "  m_fingerprints = AllChem.GetMorganFingerprintAsBitVect(\n",
    "      m, radius=radius, nBits=nbits)\n",
    "  return np.asarray(m_fingerprints)"
   ]
  },
  {
   "cell_type": "code",
   "execution_count": null,
   "id": "496c7145",
   "metadata": {},
   "outputs": [],
   "source": [
    "# caffeine molecule\n",
    "smiles_caff = 'Cn1cnc2c1c(=O)n(C)c(=O)n2C'\n",
    "# get the fingerprint representation of caffeine molecule\n",
    "x_caff = get_fingerprints(smiles_caff)\n",
    "\n",
    "print(\"Caffeine fingerprints:\")\n",
    "print(x_caff) #not all are zeros\n",
    "\n",
    "\n",
    "# template for plotting the molecule\n",
    "mol = AllChem.MolFromSmiles(smiles_caff)\n",
    "mol"
   ]
  },
  {
   "cell_type": "code",
   "execution_count": null,
   "id": "84996d31",
   "metadata": {},
   "outputs": [],
   "source": [
    "list_bits = []\n",
    "bi = {}\n",
    "legends = []\n",
    "fp = AllChem.GetMorganFingerprintAsBitVect(\n",
    "    mol, radius=2, nBits=1024, bitInfo=bi)\n",
    "for x in fp.GetOnBits():\n",
    "    for i in range(len(bi[x])):\n",
    "        list_bits.append((mol, x, bi, i))\n",
    "        legends.append(str(x))\n",
    "Draw.DrawMorganBits(list_bits, molsPerRow=4, legends=legends)   \n"
   ]
  },
  {
   "cell_type": "code",
   "execution_count": null,
   "id": "6c727012",
   "metadata": {},
   "outputs": [],
   "source": [
    "# you can check that some of above bits (e.g., 650, 935) are set to 1\n",
    "print(x_caff[935])\n",
    "print(x_caff[650])\n",
    "print(x_caff[651]) # equal to zero"
   ]
  },
  {
   "cell_type": "markdown",
   "id": "5e3f8454",
   "metadata": {},
   "source": [
    "Now, suppose you have a database of 5,000 molecules.<br>\n",
    "To find the similarity of the caffeine molecule with the database. <br>\n",
    "You would calculate the **Dice similarity** (DS) between each molecule in the database and the caffeine molecule.<br>\n",
    "\n",
    "\n",
    "**Dice similarity**\n",
    "$$\n",
    "DS(\\mathbf{x}, \\mathbf{x}') = \\frac{2\\mathbf{x}^\\top\\mathbf{x}'}{\\|\\mathbf{x}\\|^2 + \\|\\mathbf{x}'\\|^2},\n",
    "$$\n",
    "where\n",
    "* $\\mathbf{x}$ is the fingerprint representation of a molecule, $\\mathbf{x} = [0,1,0,\\cdots]$ \n",
    "* $\\mathbf{x}^\\top\\mathbf{x}'$ is the dot product between two molecules' fingerprint representation\n",
    "  $$\n",
    "    \\mathbf{x}^\\top\\mathbf{x}' = \\sum_{i=1}^N x_i * x'_i\n",
    "  $$\n",
    "* $\\|\\mathbf{x}\\|^2$ is the square norm of the fingerprint representation; $\\|\\mathbf{x}\\|^2 = \\sum_i^n x_i^2$\n",
    "\n",
    "1. Two structures are usually considered similar if $DS > 0.85$.\n",
    "From the database, how many molecules are similar to the caffeine molecule?\n",
    "1. Plot a histogram of the  similarity between each molecule in the database and the caffeine molecule. The histogram must have 200 bins.\n",
    "2. What is the less similar molecule to caffeine.\n",
    "3. What is the average  similarity between each molecule in the database and caffeine? "
   ]
  },
  {
   "cell_type": "code",
   "execution_count": null,
   "id": "3c55efd4",
   "metadata": {},
   "outputs": [],
   "source": [
    "def dice_similarity(fp_molecule1, fp_molecule2): # [10 marks]\n",
    "    # code here to calculate the Tanimoto similarity\n",
    "\n",
    "    x = fp_molecule1\n",
    "    xp = fp_molecule2\n",
    "\n",
    "    x_norm = \n",
    "    xp_norm = \n",
    "    dot_product = \n",
    "\n",
    "    value = \n",
    "    return value"
   ]
  },
  {
   "cell_type": "code",
   "execution_count": null,
   "id": "cacc6ab3",
   "metadata": {},
   "outputs": [],
   "source": [
    "# load the database\n",
    "data_file = 'https://github.com/ChemAI-Lab/Math4Chem/raw/main/website/Assignments/solubility.csv'\n",
    "data = pd.read_csv(data_file)\n",
    "data = data['SMILES']\n",
    "print('Total data points: ', len(data))"
   ]
  },
  {
   "cell_type": "code",
   "execution_count": null,
   "id": "b62927e8",
   "metadata": {},
   "outputs": [],
   "source": [
    "# note you will get an error that says \n",
    "# DEPRECATION WARNING: please use MorganGenerator, do not worry!\n",
    "\n",
    "# vector to store the similarity between data and caffeine\n",
    "similarities = np.zeros(len(data))\n",
    "for i, si in enumerate(data):\n",
    "    # get the fingerprint representation of each molecule in the database\n",
    "    x_i = get_fingerprints(si)\n",
    "\n",
    "    # calculate the Dice similarity between the caffeine molecule and each molecule in the database\n",
    "    ts_i = dice_similarity(x_i, x_caff)\n",
    "\n",
    "    # add the similarity to a list\n",
    "    similarities[i] = ts_i"
   ]
  },
  {
   "cell_type": "code",
   "execution_count": null,
   "id": "00b3223d",
   "metadata": {},
   "outputs": [],
   "source": [
    "i0 = np.where(similarities > 0.85)\n",
    "print('Number of similar molecules: ', len(i0[0]))"
   ]
  },
  {
   "cell_type": "code",
   "execution_count": null,
   "id": "b7036612",
   "metadata": {},
   "outputs": [],
   "source": [
    "# plot the histogram of the Dice similarities[5 marks]\n",
    "# make the necessary adjustments to make the plot prettier\n",
    "\n"
   ]
  }
 ],
 "metadata": {
  "kernelspec": {
   "display_name": "chem3pc3",
   "language": "python",
   "name": "python3"
  },
  "language_info": {
   "codemirror_mode": {
    "name": "ipython",
    "version": 3
   },
   "file_extension": ".py",
   "mimetype": "text/x-python",
   "name": "python",
   "nbconvert_exporter": "python",
   "pygments_lexer": "ipython3",
   "version": "3.12.4"
  }
 },
 "nbformat": 4,
 "nbformat_minor": 5
}
