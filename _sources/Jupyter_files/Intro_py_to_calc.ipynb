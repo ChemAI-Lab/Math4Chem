{
 "cells": [
  {
   "cell_type": "markdown",
   "metadata": {},
   "source": [
    "# Intro to Python \n",
    "\n",
    "In this section we are going to go over some basic operations in Python that will guide you through the course. This tutorial was heavily based on this [repo](https://sean-fitzpatrick.github.io/CalcLabs/IntrotoPython.html).  \n",
    "\n",
    "If you want to try out some of the operations below one of the easiest ways is to use [*Google Colab*](https://colab.research.google.com/). \n",
    "\n",
    "![newnotebook](Icons/new_notebook.jpg)\n",
    "\n",
    "You can also run read this file and run the codes on *Google Colab* by simply clicking in the rocket above and select Google Colab, \n",
    "\n",
    "![googlecolab](Icons/find_colab.jpg)"
   ]
  },
  {
   "cell_type": "markdown",
   "metadata": {},
   "source": [
    "# Basic Operations \n",
    "\n",
    "Most of time in Python we don't need to specify data types. Asking Python to perform `1+2` it will return `3`, asking to do `1/2` will return a float `0.5`. \n",
    "\n",
    "The basic operations are,\n",
    "* Addition: `10 + 2` \n",
    "* Subtraction: `10 - 2`\n",
    "* Multiplication: `10*2` \n",
    "* Division: `10/2`\n",
    "* Exponentiation: `10**2`   \n"
   ]
  },
  {
   "cell_type": "markdown",
   "metadata": {},
   "source": [
    "## Variables and printing\n",
    "\n",
    "When working with multiple variables, it is useful to assign each variable a name to later change the number in your calculations. \n",
    "\n",
    "For example, instead of computing the sum `10+2` directly, we could do,"
   ]
  },
  {
   "cell_type": "code",
   "execution_count": 1,
   "metadata": {},
   "outputs": [],
   "source": [
    "a = 10 \n",
    "b = 2 \n",
    "c = a + b "
   ]
  },
  {
   "cell_type": "markdown",
   "metadata": {},
   "source": [
    "Where the computer has stored the sum into the `c` variable. To see the result of the addition, you need to use the `print` function, "
   ]
  },
  {
   "cell_type": "code",
   "execution_count": 2,
   "metadata": {},
   "outputs": [
    {
     "name": "stdout",
     "output_type": "stream",
     "text": [
      "12\n"
     ]
    }
   ],
   "source": [
    "print(c)"
   ]
  },
  {
   "cell_type": "markdown",
   "metadata": {},
   "source": [
    "You can also declare multiple variables together on the same line,"
   ]
  },
  {
   "cell_type": "code",
   "execution_count": 4,
   "metadata": {},
   "outputs": [
    {
     "name": "stdout",
     "output_type": "stream",
     "text": [
      "1\n",
      "2\n",
      "1 2\n"
     ]
    }
   ],
   "source": [
    "x,y = 1,2 \n",
    "print(x)\n",
    "print(y)\n",
    "print(x,y)"
   ]
  },
  {
   "cell_type": "markdown",
   "metadata": {},
   "source": [
    "You can also store and print strings in the same way,"
   ]
  },
  {
   "cell_type": "code",
   "execution_count": 5,
   "metadata": {},
   "outputs": [
    {
     "name": "stdout",
     "output_type": "stream",
     "text": [
      "Hello World\n"
     ]
    }
   ],
   "source": [
    "string_word = 'Hello World'\n",
    "print(string_word)"
   ]
  },
  {
   "cell_type": "markdown",
   "metadata": {},
   "source": [
    "You can also print a number and a string,"
   ]
  },
  {
   "cell_type": "code",
   "execution_count": 6,
   "metadata": {},
   "outputs": [
    {
     "name": "stdout",
     "output_type": "stream",
     "text": [
      "The value of a is: 1000\n"
     ]
    }
   ],
   "source": [
    "a = 1000 \n",
    "print('The value of a is:',a)"
   ]
  },
  {
   "cell_type": "markdown",
   "metadata": {},
   "source": [
    "## Lists  \n",
    "\n",
    "If we want to evaluate a function on a whole list of points we need to create an empty list and then populate it. For example, "
   ]
  },
  {
   "cell_type": "code",
   "execution_count": 9,
   "metadata": {},
   "outputs": [
    {
     "name": "stdout",
     "output_type": "stream",
     "text": [
      "[1.2, 2.3, 4.5, 2.0, 4.5]\n"
     ]
    }
   ],
   "source": [
    "empty_list = [] \n",
    "mixed_list = [1,2,'Hello world',False]\n",
    "float_list = [1.2,2.3,4.5,2.0,4.5]\n",
    "#You should try printing this lists "
   ]
  },
  {
   "cell_type": "markdown",
   "metadata": {},
   "source": [
    "As we can see lists entries don't have to be the same type. It's important to note that a list,\n",
    "* is ordered \n",
    "* can contain duplicates \n",
    "* can be changed (the Python word for it is mutable)\n",
    "* it's always denoted by square brackets. "
   ]
  },
  {
   "cell_type": "markdown",
   "metadata": {},
   "source": [
    "In the NumPy section we introduce the concept of [array](/Users/alexandre/Projects/math4chem/Math4Chem/website/Intro_to_numpy.ipynb) which is a better structure for storing and retrieving data. "
   ]
  },
  {
   "cell_type": "markdown",
   "metadata": {},
   "source": [
    "## Operations with lists\n",
    "\n",
    "Given a list we can check its length `len`, "
   ]
  },
  {
   "cell_type": "code",
   "execution_count": 10,
   "metadata": {},
   "outputs": [
    {
     "name": "stdout",
     "output_type": "stream",
     "text": [
      "0\n",
      "4\n"
     ]
    }
   ],
   "source": [
    "print(len(empty_list))\n",
    "print(len(mixed_list))"
   ]
  },
  {
   "cell_type": "markdown",
   "metadata": {},
   "source": [
    "We can use the `append` command to add items to a list,"
   ]
  },
  {
   "cell_type": "code",
   "execution_count": 12,
   "metadata": {},
   "outputs": [
    {
     "name": "stdout",
     "output_type": "stream",
     "text": [
      "[3]\n"
     ]
    }
   ],
   "source": [
    "empty_list = [] \n",
    "empty_list.append(3)\n",
    "print(empty_list)"
   ]
  },
  {
   "cell_type": "markdown",
   "metadata": {},
   "source": [
    "We can also append a variable in a list that is already populated,"
   ]
  },
  {
   "cell_type": "code",
   "execution_count": 13,
   "metadata": {},
   "outputs": [
    {
     "name": "stdout",
     "output_type": "stream",
     "text": [
      "[1, 2, 3.4, 'Hello', 3]\n"
     ]
    }
   ],
   "source": [
    "my_list = [1,2,3.4,'Hello']\n",
    "my_list.append(3)\n",
    "print(my_list)"
   ]
  },
  {
   "cell_type": "markdown",
   "metadata": {},
   "source": [
    "One of the most important things is to be able to access a specific position, or variable, in our list `L`. Here is the syntax: \n",
    "* the whole list: `L[:]` \n",
    "* everything after (and including) index position `i`: `L[i:]` \n",
    "* everything before index position `i`: `L[:i]`\n",
    "* everything before the position `j` steps from the end: `L[:-j]` \n",
    "* everything after (and including) the position `j` steps from the end: `L[-j:]` \n",
    "\n",
    "We can access individual elements of a list by specifying their index in the list, which starts at 0. The best way to learn this is to play around with some list. First we create a list, "
   ]
  },
  {
   "cell_type": "code",
   "execution_count": 16,
   "metadata": {},
   "outputs": [
    {
     "name": "stdout",
     "output_type": "stream",
     "text": [
      "[0, 1, 2, 3, 4, 5, 6, 7, 8, 9]\n"
     ]
    }
   ],
   "source": [
    "my_list = [] \n",
    "for i in range(10): \n",
    "    my_list.append(i)\n",
    "print(my_list)"
   ]
  },
  {
   "cell_type": "markdown",
   "metadata": {},
   "source": [
    "Then we can print the values according to positions, "
   ]
  },
  {
   "cell_type": "code",
   "execution_count": 35,
   "metadata": {},
   "outputs": [
    {
     "name": "stdout",
     "output_type": "stream",
     "text": [
      "[0, 1, 2, 3, 4, 5, 6, 7, 8, 9]\n",
      "0\n",
      "[8, 9]\n",
      "[1, 2, 3, 4, 5, 6, 7, 8, 9]\n",
      "[0, 1, 2, 3, 4, 5, 6]\n"
     ]
    }
   ],
   "source": [
    "print(my_list[:])\n",
    "print(my_list[0])\n",
    "print(my_list[-2:])\n",
    "print(my_list[1:])\n",
    "print(my_list[:-3])"
   ]
  },
  {
   "cell_type": "markdown",
   "metadata": {},
   "source": [
    "## Functions \n",
    "\n",
    "A function in Python works the same as a function in math: you define an input and an output. Then, given the input the function will provide you the output. \n",
    "\n",
    "* Functions in Python are defined by the `def` keyword. \n",
    "* After the `def` keyword, comes the function's name and then a list of inputs enclosed by `()` and followed by a `:`. \n",
    "* Indented below is the block of code that you'll use to write the code to be executed when you call the function and you can define a `return` statement, which returns a particular value when the function is executed. "
   ]
  },
  {
   "cell_type": "markdown",
   "metadata": {},
   "source": [
    "For example, we can define a function that takes one input and returns one output, "
   ]
  },
  {
   "cell_type": "code",
   "execution_count": 2,
   "metadata": {},
   "outputs": [],
   "source": [
    "def f(x): \n",
    "    return x**3+1"
   ]
  },
  {
   "cell_type": "markdown",
   "metadata": {},
   "source": [
    "This defines the function $f(x) = x^3 + 1$ and to evaluate the function in a given input you do, "
   ]
  },
  {
   "cell_type": "code",
   "execution_count": 3,
   "metadata": {},
   "outputs": [
    {
     "name": "stdout",
     "output_type": "stream",
     "text": [
      "9\n"
     ]
    }
   ],
   "source": [
    "print(f(2))"
   ]
  },
  {
   "cell_type": "markdown",
   "metadata": {},
   "source": [
    "So entering $f(2)$ you'll get the output `9`, which is the value of $2^3 + 1$. "
   ]
  },
  {
   "cell_type": "markdown",
   "metadata": {},
   "source": [
    "We can also apply a function on a list, finding the mean of a list of numbers. Using the function `sum()` which returns the addition of a sequence of numbers, and `len()` which returns the length of the sentence of numbers. "
   ]
  },
  {
   "cell_type": "code",
   "execution_count": 14,
   "metadata": {},
   "outputs": [
    {
     "name": "stdout",
     "output_type": "stream",
     "text": [
      "4.5\n"
     ]
    }
   ],
   "source": [
    "numbers = [0,1,2,3,4,5,6,7,8,9]\n",
    "\n",
    "def mean(list): \n",
    "    return sum(list)/len(list) \n",
    "\n",
    "print(mean(numbers))"
   ]
  },
  {
   "cell_type": "markdown",
   "metadata": {},
   "source": [
    "Another quick way to define a function is to use Python's `lambda` syntax,"
   ]
  },
  {
   "cell_type": "code",
   "execution_count": 13,
   "metadata": {},
   "outputs": [
    {
     "name": "stdout",
     "output_type": "stream",
     "text": [
      "9\n"
     ]
    }
   ],
   "source": [
    "f = lambda x : x**3 + 1 \n",
    "print(f(2))"
   ]
  },
  {
   "cell_type": "markdown",
   "metadata": {},
   "source": [
    "In general, the syntax is, "
   ]
  },
  {
   "cell_type": "markdown",
   "metadata": {},
   "source": [
    "```python \n",
    "function_name = lambda parameters: return values"
   ]
  },
  {
   "cell_type": "markdown",
   "metadata": {},
   "source": [
    "## Conditional statements \n",
    "\n",
    "There are instances where we want to only execute a particular block of code if a certain condition is true. For that, Python has `if` statements, "
   ]
  },
  {
   "cell_type": "markdown",
   "metadata": {},
   "source": [
    "```python \n",
    "if condition: \n",
    "    #code to execute if condition is true\n"
   ]
  },
  {
   "cell_type": "markdown",
   "metadata": {},
   "source": [
    "* Indented below, is the code that executes if the condition is `True`. \n",
    "* To handle multiple conditions, we can use `elif` and `else` statements. \n",
    "* An `elif` statement is another conditional that is only checked if the prior `if` is `False`. \n",
    "* An `else` condition only works if all previous conditions are `False`. "
   ]
  },
  {
   "cell_type": "markdown",
   "metadata": {},
   "source": [
    "For multiple conditions, the syntax is,  \n",
    "\n",
    "```python \n",
    "if condition:\n",
    "    # code to execute if condition is true\n",
    "elif condition:\n",
    "    # code to execute if above condition is false and this condition is true\n",
    "else:\n",
    "    # code to execute if all previous conditions are false"
   ]
  },
  {
   "cell_type": "markdown",
   "metadata": {},
   "source": [
    "Comparison operations,\n",
    "* Equals `x == y` \n",
    "* Not Equal `x != y` \n",
    "* Less Than (strictly) `x < y`\n",
    "* Greater Than (strictly) `x > y`\n",
    "* Less Than or Equal to  `x <= y`\n",
    "* Greater Than or Equal to  `x >= y`"
   ]
  },
  {
   "cell_type": "markdown",
   "metadata": {},
   "source": [
    "Logical operators, \n",
    "* `x and y` Returns `True` if both `x` and `y` are `True` \n",
    "* `x or y` Returns `True` if  `x` or `y` are `True` \n",
    "* `not x` Returns `True` if  `x` is `False` "
   ]
  },
  {
   "cell_type": "markdown",
   "metadata": {},
   "source": [
    "Here are some examples, "
   ]
  },
  {
   "cell_type": "code",
   "execution_count": 3,
   "metadata": {},
   "outputs": [
    {
     "name": "stdout",
     "output_type": "stream",
     "text": [
      "c is zero\n"
     ]
    }
   ],
   "source": [
    "c = 0\n",
    "\n",
    "if c < 0:\n",
    "    print('c is negative')\n",
    "elif c == 0: \n",
    "    print('c is zero')\n",
    "else:\n",
    "    print('c is positive')\n",
    "#You can  change the value of c and play around. "
   ]
  },
  {
   "cell_type": "markdown",
   "metadata": {},
   "source": [
    "Here we define a function that only calculates the square root if the input is non-negative, "
   ]
  },
  {
   "cell_type": "code",
   "execution_count": 4,
   "metadata": {},
   "outputs": [],
   "source": [
    "def square_root(x):\n",
    "    if x>= 0:\n",
    "        return x**0.5\n",
    "    else:\n",
    "        return 'Cannot take the square root of a negative number'"
   ]
  },
  {
   "cell_type": "markdown",
   "metadata": {},
   "source": [
    "Calling the `square_root` function, "
   ]
  },
  {
   "cell_type": "code",
   "execution_count": 8,
   "metadata": {},
   "outputs": [
    {
     "name": "stdout",
     "output_type": "stream",
     "text": [
      "4.0\n",
      "Cannot take the square root of a negative number\n"
     ]
    }
   ],
   "source": [
    "print(square_root(16))\n",
    "print(square_root(-1))"
   ]
  },
  {
   "cell_type": "markdown",
   "metadata": {},
   "source": [
    "Another common operator is the modulo operator `%`, which returns the remainder from the division of two numbers, \n",
    "* `x % y` returns the remainder when `x` is divided by `y`. "
   ]
  },
  {
   "cell_type": "code",
   "execution_count": 11,
   "metadata": {},
   "outputs": [
    {
     "name": "stdout",
     "output_type": "stream",
     "text": [
      "0\n",
      "5\n"
     ]
    }
   ],
   "source": [
    "print(10 % 2)\n",
    "print(100 % 19)"
   ]
  },
  {
   "cell_type": "markdown",
   "metadata": {},
   "source": [
    "### Practice \n",
    "\n",
    "Try to create a function in Python that determines if a number is even or odd. You can start by defining a function called `even_or_odd` and then in the body of the function write the necessary operations. "
   ]
  },
  {
   "cell_type": "markdown",
   "metadata": {},
   "source": [
    "## Loops \n",
    "\n",
    "When programming, there are times when you need to repeatedly perform a specific operation/action while updating certain parameters. In these situations, we use loops, "
   ]
  },
  {
   "cell_type": "markdown",
   "metadata": {},
   "source": [
    "In particular, the `for` loop has the following structure, "
   ]
  },
  {
   "cell_type": "markdown",
   "metadata": {},
   "source": [
    "```python \n",
    "for item in sequence:\n",
    "    #code to be executed "
   ]
  },
  {
   "cell_type": "markdown",
   "metadata": {},
   "source": [
    "The `item` is the current iteration of the loop  and the `sequence` is through what is being iterated over (list,range,dictionary,array,...). For example, we can loop over a list of numbers and print the square of each number, "
   ]
  },
  {
   "cell_type": "code",
   "execution_count": 13,
   "metadata": {},
   "outputs": [
    {
     "name": "stdout",
     "output_type": "stream",
     "text": [
      "0\n",
      "1\n",
      "9\n",
      "16\n",
      "25\n",
      "36\n",
      "361\n",
      "400\n"
     ]
    }
   ],
   "source": [
    "numbers = [0,1,3,4,5,6,19,20]\n",
    "\n",
    "for number in numbers: \n",
    "    print(number**2)"
   ]
  },
  {
   "cell_type": "markdown",
   "metadata": {},
   "source": [
    "### Practice \n",
    "\n",
    "Using a `for` loop, implement a function that computes the factorial of non-negative integers. Remember, a factorial of a non-negative integer $n$ is the product of all positive integers less than or equal to $n$. "
   ]
  },
  {
   "cell_type": "markdown",
   "metadata": {},
   "source": [
    "These are the basics functions built in Pyhton, when dealing with more complicate functions we will need Python libraries such as Numpy and SymPy, which are going to be discussed next. "
   ]
  }
 ],
 "metadata": {
  "kernelspec": {
   "display_name": "Python 3.9 (pytorch)",
   "language": "python",
   "name": "pytorch"
  },
  "language_info": {
   "codemirror_mode": {
    "name": "ipython",
    "version": 3
   },
   "file_extension": ".py",
   "mimetype": "text/x-python",
   "name": "python",
   "nbconvert_exporter": "python",
   "pygments_lexer": "ipython3",
   "version": "3.9.16"
  }
 },
 "nbformat": 4,
 "nbformat_minor": 2
}
